{
 "cells": [
  {
   "cell_type": "markdown",
   "id": "504af842",
   "metadata": {
    "id": "504af842"
   },
   "source": [
    "## Problem Statement:\n",
    "\n",
    "PredCatch Analytics' Australian banking client's profitability and reputation are being hit by fraudulent ATM transactions. They want PredCatch to help them in reducing and if possible completely eliminating such fraudulent transactions. PredCatch believes it can do the same by building a predictive model to catch such fraudulent transactions in real time and decline them.\n",
    "\n",
    "## Objective:\n",
    "The objective is to build fraud detection & prevention predictive model in the first step. If successful, in the 2nd step we will have to present your solutions and explain how it works to the client. The data has been made available to you.\n",
    "\n",
    "## About Datasets:\n",
    "To give more edge to the solution they have collected data regarding\n",
    "- location [geo_scores] of the transactions\n",
    "- their own proprietary index [Lambda_wts],\n",
    "- on network turn around times [Qset_tats] and\n",
    "- vulnerability qualification score [instance_scores].\n",
    "\n",
    "The challenging part of the problem is that the data contains very few fraud instances in comparison to the overall population\n",
    "\n",
    "Training data contains masked variables pertaining to each transaction id . The prediction target here is'Target'.\n",
    "- 1: Fraudulent transactions\n",
    "- 0: Clean transactions"
   ]
  },
  {
   "cell_type": "markdown",
   "id": "c095ab99",
   "metadata": {
    "id": "c095ab99"
   },
   "source": [
    "# Approch Followed"
   ]
  },
  {
   "cell_type": "markdown",
   "id": "352f222a",
   "metadata": {
    "id": "352f222a"
   },
   "source": [
    "## Missing Values:\n",
    "There is around 5% of missing data in geo score and around 7.24% of missing data in qsets_normalized_tat. After plotting box plot it is noted there are outliers so followed median imputation for both the variables.\n",
    "\n",
    "## Checking for Duplicate data:\n",
    "The data showed around\n",
    "-\t55349 duplicate entries in Geo Score (location),\n",
    "-\t33600 duplicate entries in Instance (cibil score)\n",
    "-\t59311 duplicate entries in QSET (Transaction time)\n",
    "But if we check the total IDs in data shape it shows around 1424035 ids however if we check how many unique Ids are there we note around 284807 unique ids are there which means multiple transactions are done by people at similar locations and same transaction time leading to duplicate time location and customer cibil score data and so the data shows it as duplicates. These entries were not considered as duplicates and so were  untouched.\n",
    "Encoding:  if we check the data type all the data is float and only group variable is object so encoding not required in this case\n",
    "\n",
    "## Merging Train and Test data:  \n",
    "If we add the train ID and test ID it gives 284807 which is total id for geo and instance data. But there can be entries  available in training data which may also be in test data. So will merge both the tables to check unique ids in overall then we can merge else there will be duplicate data. After merging the data and finding the unique IDs it shows the 284807  entries for all data, Geo, Instance and Qset and similarly 1400 unique group in lambdawts and all_data_group.\n",
    "\n",
    "## Concatenation:\n",
    "If we check the shape of original data it is 1424035, and unique Id counts is 284807. So direct merging will not be possible. So we will perform GroupBy on Geo(entire data) which will group id of same customer and avg the location(latitude and longitude details provided). Similary approach followed for instance(cibil score).\n",
    "The lambdwats contain data 1400  group which is similar to all data group so we  merge it in one table\n",
    "\n",
    "## Outlier Treatment:\n",
    "Normalised_FNT shows unusual increase as so holding capping method right now as positive outlier range is -203.94 which is very less and very data is above this range.\n",
    "\n",
    "## Feature Scaling:\n",
    "we used StandardScaler to normalize the data  as there is an outliers. Normalisation uses min-max of data for computation and with outlier it may give incorrect results.\n",
    "\n",
    "## Imbalance Dataset:\n",
    "We have imbalance dataset with fraud transactions of around 0.17% and valid transactions of 99.83%. So as this is critical dataset and important part of model building we used both approaches to build the model:\n",
    "-\t1) balance the data and perform model building (using SMOTE technique)\n",
    "-\t2 ) model building without balancing data(using Anomaly detection - Isolation Forest model and Local Outlier Factor specially designed algo for these kind of data)\n",
    "\n",
    "## Model Building:\n",
    "-\tLogistic Regression –\n",
    "-\tDecision Tree\n",
    "-\tRandom forest\n",
    "-\tXGBClassifier\n",
    "-\tGaussianNB\n",
    "-\tGradientBoosting Classifier\n",
    "-\tStacking Classifier\n",
    "- Out of all the models Gradient Boosting is  performing better with accuracy of 98%  and recall score of 99 on valid transaction and 97 on fraud transaction. Even the F1 score is 98 % for both the classes.\n",
    "\n",
    "Test_Data********\n",
    "              precision    recall  f1-score   support\n",
    "\n",
    "         0.0       0.97      0.99      0.98     56824\n",
    "         1.0       0.99      0.97      0.98     56902\n",
    "\n",
    "        accuracy                           0.98    113726\n",
    "        macro avg       0.98      0.98      0.98    113726\n",
    "        weighted avg       0.98      0.98      0.98    113726\n",
    "\n",
    "\n",
    "## Stacking Classifier:\n",
    "As it is financial fraud data  so becomes critical I have used stacking classifier it gave us  below accuracy:\n",
    "- Accuracy : 1.00 (+/-0.00)[DTree]\n",
    "- Accuracy : 1.00 (+/-0.00)[RF]\n",
    "- Accuracy : 1.00 (+/-0.00)[XGBooost]\n",
    "- - Accuracy : 0.90 (+/-0.00)[NaiveBayes]\n",
    "- Accuracy : 0.98 (+/-0.00)[GradientBoostingClassifier]\n",
    "- Accuracy : 1.00 (+/-0.00)[StackingClassifer]\n",
    "\n",
    "stacking classifier is kind of ensemble learning technique where the predictions of multiple classifiers(base classifier) is used to train new feature known as meta classifiers\n",
    "\n",
    "## Anomaly Detection:\n",
    "-Used anomaly detection model without balancing the data\n",
    "\n",
    "- IsolationForest:188445\n",
    "- Accuracy Score : 0.8284886655401699\n",
    "\n",
    "              precision    recall  f1-score   support\n",
    "\n",
    "         0.0       1.00      0.83      0.91    227451\n",
    "         1.0       0.01      0.91      0.02       394\n",
    "\n",
    "           accuracy                           0.83    227845\n",
    "           macro avg       0.50      0.87      0.46    227845\n",
    "        weighted avg       1.00      0.83      0.90    227845\n",
    "\n",
    "- Local_Outler_Factor:188445\n",
    "- Accuracy Score :0.8268823103425574\n",
    "\n",
    "              precision    recall  f1-score   support\n",
    "             \n",
    "\n",
    "         0.0       1.00      0.83      0.91    227451\n",
    "         1.0       0.00      0.44      0.01       394\n",
    "\n",
    "        accuracy                           0.83    227845\n",
    "       macro avg       0.50      0.64      0.46    227845\n",
    "        weighted avg       1.00      0.83      0.90    227845\n",
    "\n",
    "\n",
    "-In anomaly detection isolation forest is performing better the recall score is 91% in case of fraud cases. Recall is when the model has correctly classified fraud as fraud and genuine as genuine transactions. It is the proportion of actual positives correctly classified"
   ]
  },
  {
   "cell_type": "markdown",
   "id": "ed4ab1eb",
   "metadata": {
    "id": "ed4ab1eb"
   },
   "source": [
    "# Import Libraries"
   ]
  },
  {
   "cell_type": "code",
   "execution_count": 2,
   "id": "2fc1ce63",
   "metadata": {
    "id": "2fc1ce63"
   },
   "outputs": [],
   "source": [
    "import numpy as np\n",
    "import pandas as pd\n",
    "import seaborn as sns\n",
    "import matplotlib.pyplot as plt\n",
    "%matplotlib inline\n",
    "import os\n",
    "os.getcwd()\n",
    "sns.set()\n",
    "import warnings\n",
    "warnings.filterwarnings('ignore')\n",
    "\n",
    "#Display all the columns of dataframe\n",
    "\n",
    "pd.pandas.set_option(\"display.max_columns\", None)"
   ]
  },
  {
   "cell_type": "markdown",
   "id": "22e1500b",
   "metadata": {
    "id": "22e1500b"
   },
   "source": [
    "![Capture.PNG](attachment:Capture.PNG)"
   ]
  },
  {
   "cell_type": "code",
   "execution_count": 3,
   "id": "8350a5d3",
   "metadata": {
    "id": "8350a5d3"
   },
   "outputs": [],
   "source": [
    "geo=pd.read_csv(\"Geo_scores.csv\")\n",
    "instance = pd.read_csv(\"instance_scores.csv\")\n",
    "lambdawts = pd.read_csv(\"Lambda_wts.csv\")\n",
    "qset = pd.read_csv(\"Qset_tats.csv\")\n",
    "test = pd.read_csv(\"test_share.csv\")\n",
    "train = pd.read_csv(\"train.csv\")"
   ]
  },
  {
   "cell_type": "code",
   "execution_count": 4,
   "id": "ae740761",
   "metadata": {
    "colab": {
     "base_uri": "https://localhost:8080/"
    },
    "id": "ae740761",
    "outputId": "68b6b0a9-32a2-4779-c23a-307135b3327f"
   },
   "outputs": [
    {
     "name": "stdout",
     "output_type": "stream",
     "text": [
      "(1424035, 2)\n",
      "******************************************************************************************\n",
      "(1424035, 2)\n",
      "******************************************************************************************\n",
      "(1400, 2)\n",
      "******************************************************************************************\n",
      "(1424035, 2)\n",
      "******************************************************************************************\n",
      "(56962, 27)\n",
      "******************************************************************************************\n",
      "(227845, 28)\n"
     ]
    }
   ],
   "source": [
    "print(geo.shape)\n",
    "print(\"******************\"*5)\n",
    "print(instance.shape)\n",
    "print(\"******************\"*5)\n",
    "print(lambdawts.shape)\n",
    "print(\"******************\"*5)\n",
    "print(qset.shape)\n",
    "print(\"******************\"*5)\n",
    "print(test.shape)\n",
    "print(\"******************\"*5)\n",
    "print(train.shape)\n"
   ]
  },
  {
   "cell_type": "code",
   "execution_count": 5,
   "id": "ff568545",
   "metadata": {
    "colab": {
     "base_uri": "https://localhost:8080/"
    },
    "id": "ff568545",
    "outputId": "a7dc2549-b674-40cd-fa39-9348f46e7b0a"
   },
   "outputs": [
    {
     "name": "stdout",
     "output_type": "stream",
     "text": [
      "**********Geo********\n",
      "       id  geo_score\n",
      "0   26674       4.48\n",
      "1  204314       4.48\n",
      "2  176521       5.17\n",
      "3   48812      -2.41\n",
      "4  126870       6.55\n",
      "******* Instance***********\n",
      "       id  instance_scores\n",
      "0  173444            -0.88\n",
      "1  259378             1.50\n",
      "2  161170             0.44\n",
      "3  191161             0.76\n",
      "4   34521            -0.84\n",
      "********lambdawts**********\n",
      "     Group  lambda_wt\n",
      "0   Grp936       3.41\n",
      "1   Grp347      -2.88\n",
      "2   Grp188       0.39\n",
      "3  Grp1053      -2.75\n",
      "4    Grp56      -0.83\n",
      "********qset**********\n",
      "       id  qsets_normalized_tat\n",
      "0    9983                  2.41\n",
      "1  266000                  3.10\n",
      "2   77525                  1.03\n",
      "3  160765                -11.63\n",
      "4  138220                 -4.48\n",
      "********test**********\n",
      "       id   Group      Per1      Per2      Per3      Per4      Per5      Per6  \\\n",
      "0  146574  Grp229 -0.300000  1.540000  0.220000 -0.280000  0.570000  0.260000   \n",
      "1  268759  Grp141  0.633333  0.953333  0.810000  0.466667  0.910000  0.253333   \n",
      "2   59727  Grp188  1.043333  0.740000  0.860000  1.006667  0.583333  0.616667   \n",
      "3  151544  Grp426  1.283333  0.300000  0.576667  0.636667  0.256667  0.543333   \n",
      "4  155008  Grp443  1.186667  0.326667  0.476667  0.866667  0.436667  0.680000   \n",
      "\n",
      "       Per7      Per8      Per9      Dem1      Dem2      Dem3      Dem4  \\\n",
      "0  0.700000  1.076667  0.930000  0.156667  0.546667  0.530000  0.876667   \n",
      "1  1.040000  0.550000  0.543333  0.433333  0.966667  0.760000  0.576667   \n",
      "2  0.630000  0.686667  0.593333  1.250000  0.826667  0.826667  0.653333   \n",
      "3  0.356667  0.663333  1.156667  1.186667  0.900000  0.433333  0.230000   \n",
      "4  0.476667  0.686667  1.476667  1.213333  0.853333  0.583333  0.850000   \n",
      "\n",
      "       Dem5      Dem6      Dem7      Dem8      Dem9     Cred1     Cred2  \\\n",
      "0  0.450000  0.370000  0.786667  0.546667  0.313333  0.703333  0.813333   \n",
      "1  0.653333  0.553333  0.636667  0.770000  0.993333  0.536667  0.703333   \n",
      "2  0.663333  0.453333  0.626667  0.756667  0.953333  0.623333  0.753333   \n",
      "3  1.323333  0.403333  0.480000  0.460000  0.260000  0.800000  0.606667   \n",
      "4  1.090000  0.550000  0.706667  0.740000  0.823333  0.670000  0.896667   \n",
      "\n",
      "      Cred3     Cred4     Cred5     Cred6  Normalised_FNT  \n",
      "0  0.776667  0.796667  0.823333  0.783333       -249.7500  \n",
      "1  0.806667  0.630000  0.673333  0.673333       -249.8125  \n",
      "2  0.870000  0.596667  0.680000  0.670000       -248.1200  \n",
      "3  0.456667  0.320000  0.676667  0.660000       -222.9875  \n",
      "4  0.566667  0.546667  0.650000  0.663333       -196.2200  \n",
      "***********train*******\n",
      "       id   Group      Per1      Per2      Per3      Per4      Per5      Per6  \\\n",
      "0  112751  Grp169  1.070000  0.580000  0.480000  0.766667  1.233333  1.993333   \n",
      "1   18495  Grp161  0.473333  1.206667  0.883333  1.430000  0.726667  0.626667   \n",
      "2   23915  Grp261  1.130000  0.143333  0.946667  0.123333  0.080000  0.836667   \n",
      "3   50806  Grp198  0.636667  1.090000  0.750000  0.940000  0.743333  0.346667   \n",
      "4  184244  Grp228  0.560000  1.013333  0.593333  0.416667  0.773333  0.460000   \n",
      "\n",
      "       Per7      Per8      Per9      Dem1      Dem2      Dem3      Dem4  \\\n",
      "0  0.340000  1.010000  0.863333  0.460000  0.643333  0.736667  0.756667   \n",
      "1  0.810000  0.783333  0.190000  0.470000  0.613333  0.883333  0.653333   \n",
      "2  0.056667  0.756667  0.226667  0.660000  0.730000  0.873333  0.923333   \n",
      "3  0.956667  0.633333  0.486667  1.096667  0.466667  0.670000  0.526667   \n",
      "4  0.853333  0.796667  0.516667  0.756667  0.683333  0.296667  0.780000   \n",
      "\n",
      "       Dem5      Dem6      Dem7      Dem8      Dem9     Cred1     Cred2  \\\n",
      "0  0.813333  0.693333  0.666667  0.680000  0.726667  0.606667  1.010000   \n",
      "1  0.463333  0.483333  0.583333  0.716667  0.743333  0.680000  0.690000   \n",
      "2  1.223333  0.686667  0.606667  0.690000  0.820000  0.600000  0.383333   \n",
      "3  0.783333  0.856667  0.716667  0.720000  0.900000  0.680000  0.846667   \n",
      "4  0.636667  0.783333  0.630000  0.603333  0.486667  0.693333  0.526667   \n",
      "\n",
      "      Cred3     Cred4     Cred5     Cred6  Normalised_FNT  Target  \n",
      "0  0.933333  0.603333  0.686667  0.673333       -245.7500       0  \n",
      "1  0.560000  0.670000  0.553333  0.653333       -248.0000       0  \n",
      "2  0.763333  0.670000  0.686667  0.673333       -233.1250       0  \n",
      "3  0.423333  0.520000  0.846667  0.760000       -249.7775       0  \n",
      "4  0.520000  0.716667  0.706667  0.673333       -247.5775       0  \n"
     ]
    }
   ],
   "source": [
    "print(\"**********Geo********\")\n",
    "print(geo.head())\n",
    "print(\"******* Instance***********\")\n",
    "print(instance.head())\n",
    "print(\"********lambdawts**********\")\n",
    "print(lambdawts.head())\n",
    "print(\"********qset**********\")\n",
    "print(qset.head())\n",
    "print(\"********test**********\")\n",
    "print(test.head())\n",
    "print(\"***********train*******\")\n",
    "print(train.head())\n"
   ]
  },
  {
   "cell_type": "code",
   "execution_count": 6,
   "id": "f2136ae3",
   "metadata": {
    "colab": {
     "base_uri": "https://localhost:8080/"
    },
    "id": "f2136ae3",
    "outputId": "84b4594b-6842-4b81-b573-d7e3d51c6703",
    "scrolled": true
   },
   "outputs": [
    {
     "name": "stdout",
     "output_type": "stream",
     "text": [
      "********geo_id**********\n",
      "284807\n",
      "*********Instance_Id*********\n",
      "284807\n",
      "********Lambdawts_group**********\n",
      "1400\n",
      "********QSET_ID**********\n",
      "284807\n",
      "********test_id**********\n",
      "56962\n",
      "*******test[group]*****\n",
      "915\n",
      "********train_id**********\n",
      "227845\n",
      "********Train_group*******\n",
      "1301\n"
     ]
    }
   ],
   "source": [
    "print(\"********geo_id**********\")\n",
    "print(geo[\"id\"].nunique())\n",
    "print(\"*********Instance_Id*********\")\n",
    "print(instance[\"id\"].nunique())\n",
    "print(\"********Lambdawts_group**********\")\n",
    "print(lambdawts[\"Group\"].nunique())\n",
    "print(\"********QSET_ID**********\")\n",
    "print(qset[\"id\"].nunique())\n",
    "print(\"********test_id**********\")\n",
    "print(test[\"id\"].nunique())\n",
    "print(\"*******test[group]*****\")\n",
    "print(test[\"Group\"].nunique())\n",
    "print(\"********train_id**********\")\n",
    "print(train[\"id\"].nunique())\n",
    "print(\"********Train_group*******\")\n",
    "print(train[\"Group\"].nunique())\n"
   ]
  },
  {
   "cell_type": "markdown",
   "id": "0c73d0d4",
   "metadata": {
    "id": "0c73d0d4"
   },
   "source": [
    "Observation on ID and Group:\n",
    "    \n",
    "Id is primary key in all the data sets so will use it to merge the data except lambdawts\n",
    "\n",
    "group id in lambdawts is is test group and train group so will merge lambawts table with train and test\n",
    "\n",
    "shape:\n",
    "\n",
    "From shape of the data we can see the shape of train data and test data is not equal. so will have to explore further how appending on the id would be possible\n",
    "\n",
    "similarly the shape of data in lambdawts is not equal so will have to explore if further to merge these datasets"
   ]
  },
  {
   "cell_type": "markdown",
   "id": "99e85d20",
   "metadata": {
    "id": "99e85d20"
   },
   "source": [
    "# Checking for Basic info/ missingdata"
   ]
  },
  {
   "cell_type": "code",
   "execution_count": 7,
   "id": "3d0eb94d",
   "metadata": {
    "colab": {
     "base_uri": "https://localhost:8080/"
    },
    "id": "3d0eb94d",
    "outputId": "f562c197-cac9-4252-ea55-bcff43b8ce0f",
    "scrolled": false
   },
   "outputs": [
    {
     "name": "stdout",
     "output_type": "stream",
     "text": [
      "******* Geo***********\n",
      "<class 'pandas.core.frame.DataFrame'>\n",
      "RangeIndex: 1424035 entries, 0 to 1424034\n",
      "Data columns (total 2 columns):\n",
      " #   Column     Non-Null Count    Dtype  \n",
      "---  ------     --------------    -----  \n",
      " 0   id         1424035 non-null  int64  \n",
      " 1   geo_score  1352492 non-null  float64\n",
      "dtypes: float64(1), int64(1)\n",
      "memory usage: 21.7 MB\n",
      "None\n",
      "*********Instance*********\n",
      "<class 'pandas.core.frame.DataFrame'>\n",
      "RangeIndex: 1424035 entries, 0 to 1424034\n",
      "Data columns (total 2 columns):\n",
      " #   Column           Non-Null Count    Dtype  \n",
      "---  ------           --------------    -----  \n",
      " 0   id               1424035 non-null  int64  \n",
      " 1   instance_scores  1424035 non-null  float64\n",
      "dtypes: float64(1), int64(1)\n",
      "memory usage: 21.7 MB\n",
      "None\n",
      "**********lambdawts********\n",
      "<class 'pandas.core.frame.DataFrame'>\n",
      "RangeIndex: 1400 entries, 0 to 1399\n",
      "Data columns (total 2 columns):\n",
      " #   Column     Non-Null Count  Dtype  \n",
      "---  ------     --------------  -----  \n",
      " 0   Group      1400 non-null   object \n",
      " 1   lambda_wt  1400 non-null   float64\n",
      "dtypes: float64(1), object(1)\n",
      "memory usage: 22.0+ KB\n",
      "None\n",
      "*******Qset***********\n",
      "<class 'pandas.core.frame.DataFrame'>\n",
      "RangeIndex: 1424035 entries, 0 to 1424034\n",
      "Data columns (total 2 columns):\n",
      " #   Column                Non-Null Count    Dtype  \n",
      "---  ------                --------------    -----  \n",
      " 0   id                    1424035 non-null  int64  \n",
      " 1   qsets_normalized_tat  1320834 non-null  float64\n",
      "dtypes: float64(1), int64(1)\n",
      "memory usage: 21.7 MB\n",
      "None\n",
      "********test**********\n",
      "<class 'pandas.core.frame.DataFrame'>\n",
      "RangeIndex: 56962 entries, 0 to 56961\n",
      "Data columns (total 27 columns):\n",
      " #   Column          Non-Null Count  Dtype  \n",
      "---  ------          --------------  -----  \n",
      " 0   id              56962 non-null  int64  \n",
      " 1   Group           56962 non-null  object \n",
      " 2   Per1            56962 non-null  float64\n",
      " 3   Per2            56962 non-null  float64\n",
      " 4   Per3            56962 non-null  float64\n",
      " 5   Per4            56962 non-null  float64\n",
      " 6   Per5            56962 non-null  float64\n",
      " 7   Per6            56962 non-null  float64\n",
      " 8   Per7            56962 non-null  float64\n",
      " 9   Per8            56962 non-null  float64\n",
      " 10  Per9            56962 non-null  float64\n",
      " 11  Dem1            56962 non-null  float64\n",
      " 12  Dem2            56962 non-null  float64\n",
      " 13  Dem3            56962 non-null  float64\n",
      " 14  Dem4            56962 non-null  float64\n",
      " 15  Dem5            56962 non-null  float64\n",
      " 16  Dem6            56962 non-null  float64\n",
      " 17  Dem7            56962 non-null  float64\n",
      " 18  Dem8            56962 non-null  float64\n",
      " 19  Dem9            56962 non-null  float64\n",
      " 20  Cred1           56962 non-null  float64\n",
      " 21  Cred2           56962 non-null  float64\n",
      " 22  Cred3           56962 non-null  float64\n",
      " 23  Cred4           56962 non-null  float64\n",
      " 24  Cred5           56962 non-null  float64\n",
      " 25  Cred6           56962 non-null  float64\n",
      " 26  Normalised_FNT  56962 non-null  float64\n",
      "dtypes: float64(25), int64(1), object(1)\n",
      "memory usage: 11.7+ MB\n",
      "None\n",
      "*********train*********\n",
      "<class 'pandas.core.frame.DataFrame'>\n",
      "RangeIndex: 227845 entries, 0 to 227844\n",
      "Data columns (total 28 columns):\n",
      " #   Column          Non-Null Count   Dtype  \n",
      "---  ------          --------------   -----  \n",
      " 0   id              227845 non-null  int64  \n",
      " 1   Group           227845 non-null  object \n",
      " 2   Per1            227845 non-null  float64\n",
      " 3   Per2            227845 non-null  float64\n",
      " 4   Per3            227845 non-null  float64\n",
      " 5   Per4            227845 non-null  float64\n",
      " 6   Per5            227845 non-null  float64\n",
      " 7   Per6            227845 non-null  float64\n",
      " 8   Per7            227845 non-null  float64\n",
      " 9   Per8            227845 non-null  float64\n",
      " 10  Per9            227845 non-null  float64\n",
      " 11  Dem1            227845 non-null  float64\n",
      " 12  Dem2            227845 non-null  float64\n",
      " 13  Dem3            227845 non-null  float64\n",
      " 14  Dem4            227845 non-null  float64\n",
      " 15  Dem5            227845 non-null  float64\n",
      " 16  Dem6            227845 non-null  float64\n",
      " 17  Dem7            227845 non-null  float64\n",
      " 18  Dem8            227845 non-null  float64\n",
      " 19  Dem9            227845 non-null  float64\n",
      " 20  Cred1           227845 non-null  float64\n",
      " 21  Cred2           227845 non-null  float64\n",
      " 22  Cred3           227845 non-null  float64\n",
      " 23  Cred4           227845 non-null  float64\n",
      " 24  Cred5           227845 non-null  float64\n",
      " 25  Cred6           227845 non-null  float64\n",
      " 26  Normalised_FNT  227845 non-null  float64\n",
      " 27  Target          227845 non-null  int64  \n",
      "dtypes: float64(25), int64(2), object(1)\n",
      "memory usage: 48.7+ MB\n",
      "None\n"
     ]
    }
   ],
   "source": [
    "print(\"******* Geo***********\")\n",
    "print(geo.info())\n",
    "print(\"*********Instance*********\")\n",
    "print(instance.info())\n",
    "print(\"**********lambdawts********\")\n",
    "print(lambdawts.info())\n",
    "print(\"*******Qset***********\")\n",
    "print(qset.info())\n",
    "print(\"********test**********\")\n",
    "print(test.info())\n",
    "print(\"*********train*********\")\n",
    "print(train.info())"
   ]
  },
  {
   "cell_type": "markdown",
   "id": "7187b580",
   "metadata": {
    "id": "7187b580"
   },
   "source": [
    "# Observations:\n",
    "\n",
    "- missing data in geo score\n",
    "- missing data in qsets_normalized_tat  "
   ]
  },
  {
   "cell_type": "code",
   "execution_count": 8,
   "id": "454b9c65",
   "metadata": {
    "colab": {
     "base_uri": "https://localhost:8080/"
    },
    "id": "454b9c65",
    "outputId": "15b4e0e6-2920-4253-e1b7-31a2aeee1f91"
   },
   "outputs": [
    {
     "name": "stdout",
     "output_type": "stream",
     "text": [
      "*******Geo*************\n",
      "id               0\n",
      "geo_score    71543\n",
      "dtype: int64\n",
      "*******Instance***********\n",
      "id                 0\n",
      "instance_scores    0\n",
      "dtype: int64\n",
      "********Lambdawts**********\n",
      "Group        0\n",
      "lambda_wt    0\n",
      "dtype: int64\n",
      "******Qset**********\n",
      "id                           0\n",
      "qsets_normalized_tat    103201\n",
      "dtype: int64\n",
      "********test**********\n",
      "id                0\n",
      "Group             0\n",
      "Per1              0\n",
      "Per2              0\n",
      "Per3              0\n",
      "Per4              0\n",
      "Per5              0\n",
      "Per6              0\n",
      "Per7              0\n",
      "Per8              0\n",
      "Per9              0\n",
      "Dem1              0\n",
      "Dem2              0\n",
      "Dem3              0\n",
      "Dem4              0\n",
      "Dem5              0\n",
      "Dem6              0\n",
      "Dem7              0\n",
      "Dem8              0\n",
      "Dem9              0\n",
      "Cred1             0\n",
      "Cred2             0\n",
      "Cred3             0\n",
      "Cred4             0\n",
      "Cred5             0\n",
      "Cred6             0\n",
      "Normalised_FNT    0\n",
      "dtype: int64\n",
      "*********train*********\n",
      "id                0\n",
      "Group             0\n",
      "Per1              0\n",
      "Per2              0\n",
      "Per3              0\n",
      "Per4              0\n",
      "Per5              0\n",
      "Per6              0\n",
      "Per7              0\n",
      "Per8              0\n",
      "Per9              0\n",
      "Dem1              0\n",
      "Dem2              0\n",
      "Dem3              0\n",
      "Dem4              0\n",
      "Dem5              0\n",
      "Dem6              0\n",
      "Dem7              0\n",
      "Dem8              0\n",
      "Dem9              0\n",
      "Cred1             0\n",
      "Cred2             0\n",
      "Cred3             0\n",
      "Cred4             0\n",
      "Cred5             0\n",
      "Cred6             0\n",
      "Normalised_FNT    0\n",
      "Target            0\n",
      "dtype: int64\n"
     ]
    }
   ],
   "source": [
    "# Checking missing data\n",
    "print(\"*******Geo*************\")\n",
    "print(geo.isnull().sum())\n",
    "print(\"*******Instance***********\")\n",
    "print(instance.isnull().sum())\n",
    "print(\"********Lambdawts**********\")\n",
    "print(lambdawts.isnull().sum())\n",
    "print(\"******Qset**********\")\n",
    "print(qset.isnull().sum())\n",
    "print(\"********test**********\")\n",
    "print(test.isnull().sum())\n",
    "print(\"*********train*********\")\n",
    "print(train.isnull().sum())"
   ]
  },
  {
   "cell_type": "markdown",
   "id": "132d252a",
   "metadata": {
    "id": "132d252a"
   },
   "source": [
    "# Finding out Missing Value in geo and Qset"
   ]
  },
  {
   "cell_type": "code",
   "execution_count": 9,
   "id": "ee783412",
   "metadata": {
    "colab": {
     "base_uri": "https://localhost:8080/"
    },
    "id": "ee783412",
    "outputId": "c852a27f-dc0c-47d6-d1de-4b7bb18b9a09",
    "scrolled": true
   },
   "outputs": [
    {
     "data": {
      "text/plain": [
       "id           0.000000\n",
       "geo_score    5.023964\n",
       "dtype: float64"
      ]
     },
     "execution_count": 9,
     "metadata": {},
     "output_type": "execute_result"
    }
   ],
   "source": [
    "geo.isnull().sum()/len(geo)*100"
   ]
  },
  {
   "cell_type": "code",
   "execution_count": 10,
   "id": "80571ebd",
   "metadata": {
    "colab": {
     "base_uri": "https://localhost:8080/"
    },
    "id": "80571ebd",
    "outputId": "5edda9b4-d180-4eb5-f9fa-40a8558b01cc",
    "scrolled": true
   },
   "outputs": [
    {
     "data": {
      "text/plain": [
       "id                      0.000000\n",
       "qsets_normalized_tat    7.247083\n",
       "dtype: float64"
      ]
     },
     "execution_count": 10,
     "metadata": {},
     "output_type": "execute_result"
    }
   ],
   "source": [
    "qset.isnull().sum()/len(qset)*100"
   ]
  },
  {
   "cell_type": "markdown",
   "id": "9b005fa6",
   "metadata": {
    "id": "9b005fa6"
   },
   "source": [
    "Observation:\n",
    "- missing data in geo score around 5%\n",
    "- missing data in qsets_normalized_tat around 7.24%"
   ]
  },
  {
   "cell_type": "code",
   "execution_count": 11,
   "id": "fed442a0",
   "metadata": {
    "id": "fed442a0"
   },
   "outputs": [],
   "source": [
    "# WE will impute the missing values as less than 25% is missing data\n",
    "# secondly geo has 2 columns if we drop only one colum"
   ]
  },
  {
   "cell_type": "code",
   "execution_count": 12,
   "id": "d0691739",
   "metadata": {
    "colab": {
     "base_uri": "https://localhost:8080/",
     "height": 300
    },
    "id": "d0691739",
    "outputId": "755793a3-96fd-4b76-ec98-ce8260819186"
   },
   "outputs": [
    {
     "data": {
      "text/html": [
       "<div>\n",
       "<style scoped>\n",
       "    .dataframe tbody tr th:only-of-type {\n",
       "        vertical-align: middle;\n",
       "    }\n",
       "\n",
       "    .dataframe tbody tr th {\n",
       "        vertical-align: top;\n",
       "    }\n",
       "\n",
       "    .dataframe thead th {\n",
       "        text-align: right;\n",
       "    }\n",
       "</style>\n",
       "<table border=\"1\" class=\"dataframe\">\n",
       "  <thead>\n",
       "    <tr style=\"text-align: right;\">\n",
       "      <th></th>\n",
       "      <th>id</th>\n",
       "      <th>geo_score</th>\n",
       "    </tr>\n",
       "  </thead>\n",
       "  <tbody>\n",
       "    <tr>\n",
       "      <th>count</th>\n",
       "      <td>1.424035e+06</td>\n",
       "      <td>1.352492e+06</td>\n",
       "    </tr>\n",
       "    <tr>\n",
       "      <th>mean</th>\n",
       "      <td>1.424030e+05</td>\n",
       "      <td>-9.279168e-06</td>\n",
       "    </tr>\n",
       "    <tr>\n",
       "      <th>std</th>\n",
       "      <td>8.221673e+04</td>\n",
       "      <td>7.827199e+00</td>\n",
       "    </tr>\n",
       "    <tr>\n",
       "      <th>min</th>\n",
       "      <td>0.000000e+00</td>\n",
       "      <td>-1.093900e+02</td>\n",
       "    </tr>\n",
       "    <tr>\n",
       "      <th>25%</th>\n",
       "      <td>7.120100e+04</td>\n",
       "      <td>-5.860000e+00</td>\n",
       "    </tr>\n",
       "    <tr>\n",
       "      <th>50%</th>\n",
       "      <td>1.424030e+05</td>\n",
       "      <td>1.800000e-01</td>\n",
       "    </tr>\n",
       "    <tr>\n",
       "      <th>75%</th>\n",
       "      <td>2.136050e+05</td>\n",
       "      <td>5.860000e+00</td>\n",
       "    </tr>\n",
       "    <tr>\n",
       "      <th>max</th>\n",
       "      <td>2.848060e+05</td>\n",
       "      <td>4.581000e+01</td>\n",
       "    </tr>\n",
       "  </tbody>\n",
       "</table>\n",
       "</div>"
      ],
      "text/plain": [
       "                 id     geo_score\n",
       "count  1.424035e+06  1.352492e+06\n",
       "mean   1.424030e+05 -9.279168e-06\n",
       "std    8.221673e+04  7.827199e+00\n",
       "min    0.000000e+00 -1.093900e+02\n",
       "25%    7.120100e+04 -5.860000e+00\n",
       "50%    1.424030e+05  1.800000e-01\n",
       "75%    2.136050e+05  5.860000e+00\n",
       "max    2.848060e+05  4.581000e+01"
      ]
     },
     "execution_count": 12,
     "metadata": {},
     "output_type": "execute_result"
    }
   ],
   "source": [
    "geo.describe()"
   ]
  },
  {
   "cell_type": "code",
   "execution_count": 13,
   "id": "3794a21a",
   "metadata": {
    "colab": {
     "base_uri": "https://localhost:8080/",
     "height": 406
    },
    "id": "3794a21a",
    "outputId": "b899ad00-4d12-44d7-a666-6921cf166a11"
   },
   "outputs": [
    {
     "data": {
      "image/png": "[encoded data removed]",
      "text/plain": [
       "<Figure size 640x480 with 1 Axes>"
      ]
     },
     "metadata": {},
     "output_type": "display_data"
    }
   ],
   "source": [
    "sns.boxplot(y=\"geo_score\", data = geo)\n",
    "plt.grid();"
   ]
  },
  {
   "cell_type": "code",
   "execution_count": 14,
   "id": "5fa47121",
   "metadata": {
    "id": "5fa47121"
   },
   "outputs": [],
   "source": [
    "geo[\"geo_score\"] = geo[\"geo_score\"].fillna(geo[\"geo_score\"]).median"
   ]
  },
  {
   "cell_type": "code",
   "execution_count": 15,
   "id": "b59293b8",
   "metadata": {
    "colab": {
     "base_uri": "https://localhost:8080/"
    },
    "id": "b59293b8",
    "outputId": "1751ad8c-fdb6-4a4e-f2fb-881048d9233f"
   },
   "outputs": [
    {
     "data": {
      "text/plain": [
       "0"
      ]
     },
     "execution_count": 15,
     "metadata": {},
     "output_type": "execute_result"
    }
   ],
   "source": [
    "geo[\"geo_score\"].isnull().sum()"
   ]
  },
  {
   "cell_type": "code",
   "execution_count": 16,
   "id": "5b476fa7",
   "metadata": {
    "colab": {
     "base_uri": "https://localhost:8080/",
     "height": 300
    },
    "id": "5b476fa7",
    "outputId": "3d195987-d4ce-422c-e181-8604d8771f35"
   },
   "outputs": [
    {
     "data": {
      "text/html": [
       "<div>\n",
       "<style scoped>\n",
       "    .dataframe tbody tr th:only-of-type {\n",
       "        vertical-align: middle;\n",
       "    }\n",
       "\n",
       "    .dataframe tbody tr th {\n",
       "        vertical-align: top;\n",
       "    }\n",
       "\n",
       "    .dataframe thead th {\n",
       "        text-align: right;\n",
       "    }\n",
       "</style>\n",
       "<table border=\"1\" class=\"dataframe\">\n",
       "  <thead>\n",
       "    <tr style=\"text-align: right;\">\n",
       "      <th></th>\n",
       "      <th>id</th>\n",
       "      <th>qsets_normalized_tat</th>\n",
       "    </tr>\n",
       "  </thead>\n",
       "  <tbody>\n",
       "    <tr>\n",
       "      <th>count</th>\n",
       "      <td>1.424035e+06</td>\n",
       "      <td>1.320834e+06</td>\n",
       "    </tr>\n",
       "    <tr>\n",
       "      <th>mean</th>\n",
       "      <td>1.424030e+05</td>\n",
       "      <td>1.094006e-05</td>\n",
       "    </tr>\n",
       "    <tr>\n",
       "      <th>std</th>\n",
       "      <td>8.221673e+04</td>\n",
       "      <td>7.731794e+00</td>\n",
       "    </tr>\n",
       "    <tr>\n",
       "      <th>min</th>\n",
       "      <td>0.000000e+00</td>\n",
       "      <td>-1.404400e+02</td>\n",
       "    </tr>\n",
       "    <tr>\n",
       "      <th>25%</th>\n",
       "      <td>7.120100e+04</td>\n",
       "      <td>-5.860000e+00</td>\n",
       "    </tr>\n",
       "    <tr>\n",
       "      <th>50%</th>\n",
       "      <td>1.424030e+05</td>\n",
       "      <td>2.000000e-02</td>\n",
       "    </tr>\n",
       "    <tr>\n",
       "      <th>75%</th>\n",
       "      <td>2.136050e+05</td>\n",
       "      <td>5.860000e+00</td>\n",
       "    </tr>\n",
       "    <tr>\n",
       "      <th>max</th>\n",
       "      <td>2.848060e+05</td>\n",
       "      <td>6.110000e+01</td>\n",
       "    </tr>\n",
       "  </tbody>\n",
       "</table>\n",
       "</div>"
      ],
      "text/plain": [
       "                 id  qsets_normalized_tat\n",
       "count  1.424035e+06          1.320834e+06\n",
       "mean   1.424030e+05          1.094006e-05\n",
       "std    8.221673e+04          7.731794e+00\n",
       "min    0.000000e+00         -1.404400e+02\n",
       "25%    7.120100e+04         -5.860000e+00\n",
       "50%    1.424030e+05          2.000000e-02\n",
       "75%    2.136050e+05          5.860000e+00\n",
       "max    2.848060e+05          6.110000e+01"
      ]
     },
     "execution_count": 16,
     "metadata": {},
     "output_type": "execute_result"
    }
   ],
   "source": [
    "qset.describe()"
   ]
  },
  {
   "cell_type": "code",
   "execution_count": 17,
   "id": "bbe33158",
   "metadata": {
    "colab": {
     "base_uri": "https://localhost:8080/",
     "height": 431
    },
    "id": "bbe33158",
    "outputId": "4eaf8305-fbc2-4780-def6-350153502b16"
   },
   "outputs": [
    {
     "data": {
      "text/plain": [
       "<AxesSubplot:ylabel='qsets_normalized_tat'>"
      ]
     },
     "execution_count": 17,
     "metadata": {},
     "output_type": "execute_result"
    },
    {
     "data": {
      "image/png": "[encoded data removed]",
      "text/plain": [
       "<Figure size 640x480 with 1 Axes>"
      ]
     },
     "metadata": {},
     "output_type": "display_data"
    }
   ],
   "source": [
    "# Box plot\n",
    "\n",
    "sns.boxplot(y = \"qsets_normalized_tat\", data= qset)"
   ]
  },
  {
   "cell_type": "code",
   "execution_count": 18,
   "id": "17af6c00",
   "metadata": {
    "id": "17af6c00"
   },
   "outputs": [],
   "source": [
    "qset[\"qsets_normalized_tat\"] = qset[\"qsets_normalized_tat\"].fillna(qset[\"qsets_normalized_tat\"]).median"
   ]
  },
  {
   "cell_type": "code",
   "execution_count": 19,
   "id": "3aef8ea9",
   "metadata": {
    "colab": {
     "base_uri": "https://localhost:8080/"
    },
    "id": "3aef8ea9",
    "outputId": "6d017bcd-70a9-4ea8-df2e-00fb514b4df4"
   },
   "outputs": [
    {
     "data": {
      "text/plain": [
       "0"
      ]
     },
     "execution_count": 19,
     "metadata": {},
     "output_type": "execute_result"
    }
   ],
   "source": [
    "qset[\"qsets_normalized_tat\"].isnull().sum()"
   ]
  },
  {
   "cell_type": "markdown",
   "id": "cf1cfe14",
   "metadata": {
    "id": "cf1cfe14"
   },
   "source": [
    "# Check Duplicates"
   ]
  },
  {
   "cell_type": "code",
   "execution_count": 20,
   "id": "c2f8d58e",
   "metadata": {
    "colab": {
     "base_uri": "https://localhost:8080/"
    },
    "id": "c2f8d58e",
    "outputId": "382496f6-4c4f-4f96-c6f4-e5baf06d2a05",
    "scrolled": true
   },
   "outputs": [
    {
     "name": "stdout",
     "output_type": "stream",
     "text": [
      "***********GEO_DUPLICATES******************\n",
      "1139228\n",
      "********INSTANCE_DUPLICATES**********\n",
      "33600\n",
      "********LAMBDAWTS DUPLICATES **********\n",
      "0\n",
      "********QSET DUPLICATES**********\n",
      "1139228\n",
      "********TEST DUPLICATES**********\n",
      "0\n",
      "*******TRAIN_DUPLICATES***********\n",
      "0\n"
     ]
    }
   ],
   "source": [
    "print(\"***********GEO_DUPLICATES******************\")\n",
    "print(geo.duplicated().sum())\n",
    "print(\"********INSTANCE_DUPLICATES**********\")\n",
    "print(instance.duplicated().sum())\n",
    "print(\"********LAMBDAWTS DUPLICATES **********\")\n",
    "print(lambdawts.duplicated().sum())\n",
    "print(\"********QSET DUPLICATES**********\")\n",
    "print(qset.duplicated().sum())\n",
    "print(\"********TEST DUPLICATES**********\")\n",
    "print(test.duplicated().sum())\n",
    "print(\"*******TRAIN_DUPLICATES***********\")\n",
    "print(train.duplicated().sum())"
   ]
  },
  {
   "cell_type": "markdown",
   "id": "37cb0f47",
   "metadata": {
    "id": "37cb0f47"
   },
   "source": [
    "- we will not remove as mulitple transiction done by one customer"
   ]
  },
  {
   "cell_type": "code",
   "execution_count": 21,
   "id": "d0247ed5",
   "metadata": {
    "colab": {
     "base_uri": "https://localhost:8080/"
    },
    "id": "d0247ed5",
    "outputId": "7697ec03-18e9-4c9a-8f74-de8adae86960",
    "scrolled": true
   },
   "outputs": [
    {
     "name": "stdout",
     "output_type": "stream",
     "text": [
      "<class 'pandas.core.frame.DataFrame'>\n",
      "RangeIndex: 227845 entries, 0 to 227844\n",
      "Data columns (total 28 columns):\n",
      " #   Column          Non-Null Count   Dtype  \n",
      "---  ------          --------------   -----  \n",
      " 0   id              227845 non-null  int64  \n",
      " 1   Group           227845 non-null  object \n",
      " 2   Per1            227845 non-null  float64\n",
      " 3   Per2            227845 non-null  float64\n",
      " 4   Per3            227845 non-null  float64\n",
      " 5   Per4            227845 non-null  float64\n",
      " 6   Per5            227845 non-null  float64\n",
      " 7   Per6            227845 non-null  float64\n",
      " 8   Per7            227845 non-null  float64\n",
      " 9   Per8            227845 non-null  float64\n",
      " 10  Per9            227845 non-null  float64\n",
      " 11  Dem1            227845 non-null  float64\n",
      " 12  Dem2            227845 non-null  float64\n",
      " 13  Dem3            227845 non-null  float64\n",
      " 14  Dem4            227845 non-null  float64\n",
      " 15  Dem5            227845 non-null  float64\n",
      " 16  Dem6            227845 non-null  float64\n",
      " 17  Dem7            227845 non-null  float64\n",
      " 18  Dem8            227845 non-null  float64\n",
      " 19  Dem9            227845 non-null  float64\n",
      " 20  Cred1           227845 non-null  float64\n",
      " 21  Cred2           227845 non-null  float64\n",
      " 22  Cred3           227845 non-null  float64\n",
      " 23  Cred4           227845 non-null  float64\n",
      " 24  Cred5           227845 non-null  float64\n",
      " 25  Cred6           227845 non-null  float64\n",
      " 26  Normalised_FNT  227845 non-null  float64\n",
      " 27  Target          227845 non-null  int64  \n",
      "dtypes: float64(25), int64(2), object(1)\n",
      "memory usage: 48.7+ MB\n"
     ]
    }
   ],
   "source": [
    "train.info()"
   ]
  },
  {
   "cell_type": "code",
   "execution_count": 22,
   "id": "2775a545",
   "metadata": {
    "colab": {
     "base_uri": "https://localhost:8080/"
    },
    "id": "2775a545",
    "outputId": "eaadf637-9660-4bea-a5e9-f2462db3cfb3"
   },
   "outputs": [
    {
     "name": "stdout",
     "output_type": "stream",
     "text": [
      "<class 'pandas.core.frame.DataFrame'>\n",
      "RangeIndex: 56962 entries, 0 to 56961\n",
      "Data columns (total 27 columns):\n",
      " #   Column          Non-Null Count  Dtype  \n",
      "---  ------          --------------  -----  \n",
      " 0   id              56962 non-null  int64  \n",
      " 1   Group           56962 non-null  object \n",
      " 2   Per1            56962 non-null  float64\n",
      " 3   Per2            56962 non-null  float64\n",
      " 4   Per3            56962 non-null  float64\n",
      " 5   Per4            56962 non-null  float64\n",
      " 6   Per5            56962 non-null  float64\n",
      " 7   Per6            56962 non-null  float64\n",
      " 8   Per7            56962 non-null  float64\n",
      " 9   Per8            56962 non-null  float64\n",
      " 10  Per9            56962 non-null  float64\n",
      " 11  Dem1            56962 non-null  float64\n",
      " 12  Dem2            56962 non-null  float64\n",
      " 13  Dem3            56962 non-null  float64\n",
      " 14  Dem4            56962 non-null  float64\n",
      " 15  Dem5            56962 non-null  float64\n",
      " 16  Dem6            56962 non-null  float64\n",
      " 17  Dem7            56962 non-null  float64\n",
      " 18  Dem8            56962 non-null  float64\n",
      " 19  Dem9            56962 non-null  float64\n",
      " 20  Cred1           56962 non-null  float64\n",
      " 21  Cred2           56962 non-null  float64\n",
      " 22  Cred3           56962 non-null  float64\n",
      " 23  Cred4           56962 non-null  float64\n",
      " 24  Cred5           56962 non-null  float64\n",
      " 25  Cred6           56962 non-null  float64\n",
      " 26  Normalised_FNT  56962 non-null  float64\n",
      "dtypes: float64(25), int64(1), object(1)\n",
      "memory usage: 11.7+ MB\n"
     ]
    }
   ],
   "source": [
    "test.info()"
   ]
  },
  {
   "cell_type": "markdown",
   "id": "1c115268",
   "metadata": {
    "id": "1c115268"
   },
   "source": [
    "# Encoding is not required for group"
   ]
  },
  {
   "cell_type": "code",
   "execution_count": 23,
   "id": "206aa342",
   "metadata": {
    "colab": {
     "base_uri": "https://localhost:8080/"
    },
    "id": "206aa342",
    "outputId": "7084bc03-85e7-481d-dfaa-b08d0d150299"
   },
   "outputs": [
    {
     "name": "stdout",
     "output_type": "stream",
     "text": [
      "geo id: 284807\n",
      "******************************************************************************************\n",
      "instance id 284807\n",
      "******************************************************************************************\n",
      "lambdawts group 1400\n",
      "******************************************************************************************\n",
      "qset id 284807\n",
      "******************************************************************************************\n",
      "testid 56962\n",
      "Test Group 915\n",
      "******************************************************************************************\n",
      "Train ID 227845\n",
      "Train Group 1301\n"
     ]
    }
   ],
   "source": [
    "# Checking missing data\n",
    "\n",
    "print(\"geo id:\",geo[\"id\"].nunique())\n",
    "print(\"******************\"*5)\n",
    "print(\"instance id\",instance[\"id\"].nunique())\n",
    "print(\"******************\"*5)\n",
    "print(\"lambdawts group\",lambdawts[\"Group\"].nunique())\n",
    "print(\"******************\"*5)\n",
    "print(\"qset id\",qset[\"id\"].nunique())\n",
    "print(\"******************\"*5)\n",
    "print(\"testid\",test[\"id\"].nunique())\n",
    "print(\"Test Group\",test[\"Group\"].nunique())\n",
    "print(\"******************\"*5)\n",
    "print(\"Train ID\",train[\"id\"].nunique())\n",
    "print(\"Train Group\",train[\"Group\"].nunique())"
   ]
  },
  {
   "cell_type": "code",
   "execution_count": 24,
   "id": "82f2fe15",
   "metadata": {
    "colab": {
     "base_uri": "https://localhost:8080/"
    },
    "id": "82f2fe15",
    "outputId": "49acbe5f-502c-4380-c440-3a8115091c89"
   },
   "outputs": [
    {
     "data": {
      "text/plain": [
       "284807"
      ]
     },
     "execution_count": 24,
     "metadata": {},
     "output_type": "execute_result"
    }
   ],
   "source": [
    "56962 + 227845"
   ]
  },
  {
   "cell_type": "markdown",
   "id": "8f669f19",
   "metadata": {
    "id": "8f669f19"
   },
   "source": [
    "Observation:\n",
    "    \n",
    "if we add the train ID and test ID it gives 284807 which is total id for geo and instance data. But there can be entries  available in training data which may also be in test data. So will merge both the tables to check unique ids in overall then we can merge else there will be duplicate data"
   ]
  },
  {
   "cell_type": "code",
   "execution_count": 25,
   "id": "9776d567",
   "metadata": {
    "colab": {
     "base_uri": "https://localhost:8080/"
    },
    "id": "9776d567",
    "outputId": "4f6f0fdb-8740-455a-a91b-8c2462a75504"
   },
   "outputs": [
    {
     "data": {
      "text/plain": [
       "Index(['id', 'Group', 'Per1', 'Per2', 'Per3', 'Per4', 'Per5', 'Per6', 'Per7',\n",
       "       'Per8', 'Per9', 'Dem1', 'Dem2', 'Dem3', 'Dem4', 'Dem5', 'Dem6', 'Dem7',\n",
       "       'Dem8', 'Dem9', 'Cred1', 'Cred2', 'Cred3', 'Cred4', 'Cred5', 'Cred6',\n",
       "       'Normalised_FNT', 'Target'],\n",
       "      dtype='object')"
      ]
     },
     "execution_count": 25,
     "metadata": {},
     "output_type": "execute_result"
    }
   ],
   "source": [
    "train.columns"
   ]
  },
  {
   "cell_type": "code",
   "execution_count": 26,
   "id": "e9862b30",
   "metadata": {
    "colab": {
     "base_uri": "https://localhost:8080/"
    },
    "id": "e9862b30",
    "outputId": "ab9bb78e-ef98-421e-9282-a4fc64315282"
   },
   "outputs": [
    {
     "data": {
      "text/plain": [
       "Index(['id', 'Group', 'Per1', 'Per2', 'Per3', 'Per4', 'Per5', 'Per6', 'Per7',\n",
       "       'Per8', 'Per9', 'Dem1', 'Dem2', 'Dem3', 'Dem4', 'Dem5', 'Dem6', 'Dem7',\n",
       "       'Dem8', 'Dem9', 'Cred1', 'Cred2', 'Cred3', 'Cred4', 'Cred5', 'Cred6',\n",
       "       'Normalised_FNT'],\n",
       "      dtype='object')"
      ]
     },
     "execution_count": 26,
     "metadata": {},
     "output_type": "execute_result"
    }
   ],
   "source": [
    "test.columns"
   ]
  },
  {
   "cell_type": "markdown",
   "id": "5dc0e463",
   "metadata": {
    "id": "5dc0e463"
   },
   "source": [
    "# If we merge and check if there are repetative data as one person must have done multiple transactions\n",
    "- We will check how many unique id we have in trin and test and then merge with geo and instance"
   ]
  },
  {
   "cell_type": "markdown",
   "id": "22848f2e",
   "metadata": {
    "id": "22848f2e"
   },
   "source": [
    "# Assigninng additional column to train and test datas"
   ]
  },
  {
   "cell_type": "code",
   "execution_count": 27,
   "id": "d820bee9",
   "metadata": {
    "id": "d820bee9"
   },
   "outputs": [],
   "source": [
    "train[\"data\"]= \"train\"\n",
    "test['data']= \"test\"\n"
   ]
  },
  {
   "cell_type": "code",
   "execution_count": 28,
   "id": "d7c37610",
   "metadata": {
    "colab": {
     "base_uri": "https://localhost:8080/",
     "height": 226
    },
    "id": "d7c37610",
    "outputId": "c8407ea2-32a7-4f73-a60b-18ecf5e8c8f3"
   },
   "outputs": [
    {
     "data": {
      "text/html": [
       "<div>\n",
       "<style scoped>\n",
       "    .dataframe tbody tr th:only-of-type {\n",
       "        vertical-align: middle;\n",
       "    }\n",
       "\n",
       "    .dataframe tbody tr th {\n",
       "        vertical-align: top;\n",
       "    }\n",
       "\n",
       "    .dataframe thead th {\n",
       "        text-align: right;\n",
       "    }\n",
       "</style>\n",
       "<table border=\"1\" class=\"dataframe\">\n",
       "  <thead>\n",
       "    <tr style=\"text-align: right;\">\n",
       "      <th></th>\n",
       "      <th>id</th>\n",
       "      <th>Group</th>\n",
       "      <th>Per1</th>\n",
       "      <th>Per2</th>\n",
       "      <th>Per3</th>\n",
       "      <th>Per4</th>\n",
       "      <th>Per5</th>\n",
       "      <th>Per6</th>\n",
       "      <th>Per7</th>\n",
       "      <th>Per8</th>\n",
       "      <th>Per9</th>\n",
       "      <th>Dem1</th>\n",
       "      <th>Dem2</th>\n",
       "      <th>Dem3</th>\n",
       "      <th>Dem4</th>\n",
       "      <th>Dem5</th>\n",
       "      <th>Dem6</th>\n",
       "      <th>Dem7</th>\n",
       "      <th>Dem8</th>\n",
       "      <th>Dem9</th>\n",
       "      <th>Cred1</th>\n",
       "      <th>Cred2</th>\n",
       "      <th>Cred3</th>\n",
       "      <th>Cred4</th>\n",
       "      <th>Cred5</th>\n",
       "      <th>Cred6</th>\n",
       "      <th>Normalised_FNT</th>\n",
       "      <th>Target</th>\n",
       "      <th>data</th>\n",
       "    </tr>\n",
       "  </thead>\n",
       "  <tbody>\n",
       "    <tr>\n",
       "      <th>0</th>\n",
       "      <td>112751</td>\n",
       "      <td>Grp169</td>\n",
       "      <td>1.070000</td>\n",
       "      <td>0.580000</td>\n",
       "      <td>0.480000</td>\n",
       "      <td>0.766667</td>\n",
       "      <td>1.233333</td>\n",
       "      <td>1.993333</td>\n",
       "      <td>0.340000</td>\n",
       "      <td>1.010000</td>\n",
       "      <td>0.863333</td>\n",
       "      <td>0.460000</td>\n",
       "      <td>0.643333</td>\n",
       "      <td>0.736667</td>\n",
       "      <td>0.756667</td>\n",
       "      <td>0.813333</td>\n",
       "      <td>0.693333</td>\n",
       "      <td>0.666667</td>\n",
       "      <td>0.680000</td>\n",
       "      <td>0.726667</td>\n",
       "      <td>0.606667</td>\n",
       "      <td>1.010000</td>\n",
       "      <td>0.933333</td>\n",
       "      <td>0.603333</td>\n",
       "      <td>0.686667</td>\n",
       "      <td>0.673333</td>\n",
       "      <td>-245.7500</td>\n",
       "      <td>0</td>\n",
       "      <td>train</td>\n",
       "    </tr>\n",
       "    <tr>\n",
       "      <th>1</th>\n",
       "      <td>18495</td>\n",
       "      <td>Grp161</td>\n",
       "      <td>0.473333</td>\n",
       "      <td>1.206667</td>\n",
       "      <td>0.883333</td>\n",
       "      <td>1.430000</td>\n",
       "      <td>0.726667</td>\n",
       "      <td>0.626667</td>\n",
       "      <td>0.810000</td>\n",
       "      <td>0.783333</td>\n",
       "      <td>0.190000</td>\n",
       "      <td>0.470000</td>\n",
       "      <td>0.613333</td>\n",
       "      <td>0.883333</td>\n",
       "      <td>0.653333</td>\n",
       "      <td>0.463333</td>\n",
       "      <td>0.483333</td>\n",
       "      <td>0.583333</td>\n",
       "      <td>0.716667</td>\n",
       "      <td>0.743333</td>\n",
       "      <td>0.680000</td>\n",
       "      <td>0.690000</td>\n",
       "      <td>0.560000</td>\n",
       "      <td>0.670000</td>\n",
       "      <td>0.553333</td>\n",
       "      <td>0.653333</td>\n",
       "      <td>-248.0000</td>\n",
       "      <td>0</td>\n",
       "      <td>train</td>\n",
       "    </tr>\n",
       "    <tr>\n",
       "      <th>2</th>\n",
       "      <td>23915</td>\n",
       "      <td>Grp261</td>\n",
       "      <td>1.130000</td>\n",
       "      <td>0.143333</td>\n",
       "      <td>0.946667</td>\n",
       "      <td>0.123333</td>\n",
       "      <td>0.080000</td>\n",
       "      <td>0.836667</td>\n",
       "      <td>0.056667</td>\n",
       "      <td>0.756667</td>\n",
       "      <td>0.226667</td>\n",
       "      <td>0.660000</td>\n",
       "      <td>0.730000</td>\n",
       "      <td>0.873333</td>\n",
       "      <td>0.923333</td>\n",
       "      <td>1.223333</td>\n",
       "      <td>0.686667</td>\n",
       "      <td>0.606667</td>\n",
       "      <td>0.690000</td>\n",
       "      <td>0.820000</td>\n",
       "      <td>0.600000</td>\n",
       "      <td>0.383333</td>\n",
       "      <td>0.763333</td>\n",
       "      <td>0.670000</td>\n",
       "      <td>0.686667</td>\n",
       "      <td>0.673333</td>\n",
       "      <td>-233.1250</td>\n",
       "      <td>0</td>\n",
       "      <td>train</td>\n",
       "    </tr>\n",
       "    <tr>\n",
       "      <th>3</th>\n",
       "      <td>50806</td>\n",
       "      <td>Grp198</td>\n",
       "      <td>0.636667</td>\n",
       "      <td>1.090000</td>\n",
       "      <td>0.750000</td>\n",
       "      <td>0.940000</td>\n",
       "      <td>0.743333</td>\n",
       "      <td>0.346667</td>\n",
       "      <td>0.956667</td>\n",
       "      <td>0.633333</td>\n",
       "      <td>0.486667</td>\n",
       "      <td>1.096667</td>\n",
       "      <td>0.466667</td>\n",
       "      <td>0.670000</td>\n",
       "      <td>0.526667</td>\n",
       "      <td>0.783333</td>\n",
       "      <td>0.856667</td>\n",
       "      <td>0.716667</td>\n",
       "      <td>0.720000</td>\n",
       "      <td>0.900000</td>\n",
       "      <td>0.680000</td>\n",
       "      <td>0.846667</td>\n",
       "      <td>0.423333</td>\n",
       "      <td>0.520000</td>\n",
       "      <td>0.846667</td>\n",
       "      <td>0.760000</td>\n",
       "      <td>-249.7775</td>\n",
       "      <td>0</td>\n",
       "      <td>train</td>\n",
       "    </tr>\n",
       "    <tr>\n",
       "      <th>4</th>\n",
       "      <td>184244</td>\n",
       "      <td>Grp228</td>\n",
       "      <td>0.560000</td>\n",
       "      <td>1.013333</td>\n",
       "      <td>0.593333</td>\n",
       "      <td>0.416667</td>\n",
       "      <td>0.773333</td>\n",
       "      <td>0.460000</td>\n",
       "      <td>0.853333</td>\n",
       "      <td>0.796667</td>\n",
       "      <td>0.516667</td>\n",
       "      <td>0.756667</td>\n",
       "      <td>0.683333</td>\n",
       "      <td>0.296667</td>\n",
       "      <td>0.780000</td>\n",
       "      <td>0.636667</td>\n",
       "      <td>0.783333</td>\n",
       "      <td>0.630000</td>\n",
       "      <td>0.603333</td>\n",
       "      <td>0.486667</td>\n",
       "      <td>0.693333</td>\n",
       "      <td>0.526667</td>\n",
       "      <td>0.520000</td>\n",
       "      <td>0.716667</td>\n",
       "      <td>0.706667</td>\n",
       "      <td>0.673333</td>\n",
       "      <td>-247.5775</td>\n",
       "      <td>0</td>\n",
       "      <td>train</td>\n",
       "    </tr>\n",
       "  </tbody>\n",
       "</table>\n",
       "</div>"
      ],
      "text/plain": [
       "       id   Group      Per1      Per2      Per3      Per4      Per5      Per6  \\\n",
       "0  112751  Grp169  1.070000  0.580000  0.480000  0.766667  1.233333  1.993333   \n",
       "1   18495  Grp161  0.473333  1.206667  0.883333  1.430000  0.726667  0.626667   \n",
       "2   23915  Grp261  1.130000  0.143333  0.946667  0.123333  0.080000  0.836667   \n",
       "3   50806  Grp198  0.636667  1.090000  0.750000  0.940000  0.743333  0.346667   \n",
       "4  184244  Grp228  0.560000  1.013333  0.593333  0.416667  0.773333  0.460000   \n",
       "\n",
       "       Per7      Per8      Per9      Dem1      Dem2      Dem3      Dem4  \\\n",
       "0  0.340000  1.010000  0.863333  0.460000  0.643333  0.736667  0.756667   \n",
       "1  0.810000  0.783333  0.190000  0.470000  0.613333  0.883333  0.653333   \n",
       "2  0.056667  0.756667  0.226667  0.660000  0.730000  0.873333  0.923333   \n",
       "3  0.956667  0.633333  0.486667  1.096667  0.466667  0.670000  0.526667   \n",
       "4  0.853333  0.796667  0.516667  0.756667  0.683333  0.296667  0.780000   \n",
       "\n",
       "       Dem5      Dem6      Dem7      Dem8      Dem9     Cred1     Cred2  \\\n",
       "0  0.813333  0.693333  0.666667  0.680000  0.726667  0.606667  1.010000   \n",
       "1  0.463333  0.483333  0.583333  0.716667  0.743333  0.680000  0.690000   \n",
       "2  1.223333  0.686667  0.606667  0.690000  0.820000  0.600000  0.383333   \n",
       "3  0.783333  0.856667  0.716667  0.720000  0.900000  0.680000  0.846667   \n",
       "4  0.636667  0.783333  0.630000  0.603333  0.486667  0.693333  0.526667   \n",
       "\n",
       "      Cred3     Cred4     Cred5     Cred6  Normalised_FNT  Target   data  \n",
       "0  0.933333  0.603333  0.686667  0.673333       -245.7500       0  train  \n",
       "1  0.560000  0.670000  0.553333  0.653333       -248.0000       0  train  \n",
       "2  0.763333  0.670000  0.686667  0.673333       -233.1250       0  train  \n",
       "3  0.423333  0.520000  0.846667  0.760000       -249.7775       0  train  \n",
       "4  0.520000  0.716667  0.706667  0.673333       -247.5775       0  train  "
      ]
     },
     "execution_count": 28,
     "metadata": {},
     "output_type": "execute_result"
    }
   ],
   "source": [
    "train.head()"
   ]
  },
  {
   "cell_type": "code",
   "execution_count": 29,
   "id": "e45546cc",
   "metadata": {
    "colab": {
     "base_uri": "https://localhost:8080/",
     "height": 226
    },
    "id": "e45546cc",
    "outputId": "052b4757-ca99-47fd-fb25-ab14d3aa46de"
   },
   "outputs": [
    {
     "data": {
      "text/html": [
       "<div>\n",
       "<style scoped>\n",
       "    .dataframe tbody tr th:only-of-type {\n",
       "        vertical-align: middle;\n",
       "    }\n",
       "\n",
       "    .dataframe tbody tr th {\n",
       "        vertical-align: top;\n",
       "    }\n",
       "\n",
       "    .dataframe thead th {\n",
       "        text-align: right;\n",
       "    }\n",
       "</style>\n",
       "<table border=\"1\" class=\"dataframe\">\n",
       "  <thead>\n",
       "    <tr style=\"text-align: right;\">\n",
       "      <th></th>\n",
       "      <th>id</th>\n",
       "      <th>Group</th>\n",
       "      <th>Per1</th>\n",
       "      <th>Per2</th>\n",
       "      <th>Per3</th>\n",
       "      <th>Per4</th>\n",
       "      <th>Per5</th>\n",
       "      <th>Per6</th>\n",
       "      <th>Per7</th>\n",
       "      <th>Per8</th>\n",
       "      <th>Per9</th>\n",
       "      <th>Dem1</th>\n",
       "      <th>Dem2</th>\n",
       "      <th>Dem3</th>\n",
       "      <th>Dem4</th>\n",
       "      <th>Dem5</th>\n",
       "      <th>Dem6</th>\n",
       "      <th>Dem7</th>\n",
       "      <th>Dem8</th>\n",
       "      <th>Dem9</th>\n",
       "      <th>Cred1</th>\n",
       "      <th>Cred2</th>\n",
       "      <th>Cred3</th>\n",
       "      <th>Cred4</th>\n",
       "      <th>Cred5</th>\n",
       "      <th>Cred6</th>\n",
       "      <th>Normalised_FNT</th>\n",
       "      <th>data</th>\n",
       "    </tr>\n",
       "  </thead>\n",
       "  <tbody>\n",
       "    <tr>\n",
       "      <th>0</th>\n",
       "      <td>146574</td>\n",
       "      <td>Grp229</td>\n",
       "      <td>-0.300000</td>\n",
       "      <td>1.540000</td>\n",
       "      <td>0.220000</td>\n",
       "      <td>-0.280000</td>\n",
       "      <td>0.570000</td>\n",
       "      <td>0.260000</td>\n",
       "      <td>0.700000</td>\n",
       "      <td>1.076667</td>\n",
       "      <td>0.930000</td>\n",
       "      <td>0.156667</td>\n",
       "      <td>0.546667</td>\n",
       "      <td>0.530000</td>\n",
       "      <td>0.876667</td>\n",
       "      <td>0.450000</td>\n",
       "      <td>0.370000</td>\n",
       "      <td>0.786667</td>\n",
       "      <td>0.546667</td>\n",
       "      <td>0.313333</td>\n",
       "      <td>0.703333</td>\n",
       "      <td>0.813333</td>\n",
       "      <td>0.776667</td>\n",
       "      <td>0.796667</td>\n",
       "      <td>0.823333</td>\n",
       "      <td>0.783333</td>\n",
       "      <td>-249.7500</td>\n",
       "      <td>test</td>\n",
       "    </tr>\n",
       "    <tr>\n",
       "      <th>1</th>\n",
       "      <td>268759</td>\n",
       "      <td>Grp141</td>\n",
       "      <td>0.633333</td>\n",
       "      <td>0.953333</td>\n",
       "      <td>0.810000</td>\n",
       "      <td>0.466667</td>\n",
       "      <td>0.910000</td>\n",
       "      <td>0.253333</td>\n",
       "      <td>1.040000</td>\n",
       "      <td>0.550000</td>\n",
       "      <td>0.543333</td>\n",
       "      <td>0.433333</td>\n",
       "      <td>0.966667</td>\n",
       "      <td>0.760000</td>\n",
       "      <td>0.576667</td>\n",
       "      <td>0.653333</td>\n",
       "      <td>0.553333</td>\n",
       "      <td>0.636667</td>\n",
       "      <td>0.770000</td>\n",
       "      <td>0.993333</td>\n",
       "      <td>0.536667</td>\n",
       "      <td>0.703333</td>\n",
       "      <td>0.806667</td>\n",
       "      <td>0.630000</td>\n",
       "      <td>0.673333</td>\n",
       "      <td>0.673333</td>\n",
       "      <td>-249.8125</td>\n",
       "      <td>test</td>\n",
       "    </tr>\n",
       "    <tr>\n",
       "      <th>2</th>\n",
       "      <td>59727</td>\n",
       "      <td>Grp188</td>\n",
       "      <td>1.043333</td>\n",
       "      <td>0.740000</td>\n",
       "      <td>0.860000</td>\n",
       "      <td>1.006667</td>\n",
       "      <td>0.583333</td>\n",
       "      <td>0.616667</td>\n",
       "      <td>0.630000</td>\n",
       "      <td>0.686667</td>\n",
       "      <td>0.593333</td>\n",
       "      <td>1.250000</td>\n",
       "      <td>0.826667</td>\n",
       "      <td>0.826667</td>\n",
       "      <td>0.653333</td>\n",
       "      <td>0.663333</td>\n",
       "      <td>0.453333</td>\n",
       "      <td>0.626667</td>\n",
       "      <td>0.756667</td>\n",
       "      <td>0.953333</td>\n",
       "      <td>0.623333</td>\n",
       "      <td>0.753333</td>\n",
       "      <td>0.870000</td>\n",
       "      <td>0.596667</td>\n",
       "      <td>0.680000</td>\n",
       "      <td>0.670000</td>\n",
       "      <td>-248.1200</td>\n",
       "      <td>test</td>\n",
       "    </tr>\n",
       "    <tr>\n",
       "      <th>3</th>\n",
       "      <td>151544</td>\n",
       "      <td>Grp426</td>\n",
       "      <td>1.283333</td>\n",
       "      <td>0.300000</td>\n",
       "      <td>0.576667</td>\n",
       "      <td>0.636667</td>\n",
       "      <td>0.256667</td>\n",
       "      <td>0.543333</td>\n",
       "      <td>0.356667</td>\n",
       "      <td>0.663333</td>\n",
       "      <td>1.156667</td>\n",
       "      <td>1.186667</td>\n",
       "      <td>0.900000</td>\n",
       "      <td>0.433333</td>\n",
       "      <td>0.230000</td>\n",
       "      <td>1.323333</td>\n",
       "      <td>0.403333</td>\n",
       "      <td>0.480000</td>\n",
       "      <td>0.460000</td>\n",
       "      <td>0.260000</td>\n",
       "      <td>0.800000</td>\n",
       "      <td>0.606667</td>\n",
       "      <td>0.456667</td>\n",
       "      <td>0.320000</td>\n",
       "      <td>0.676667</td>\n",
       "      <td>0.660000</td>\n",
       "      <td>-222.9875</td>\n",
       "      <td>test</td>\n",
       "    </tr>\n",
       "    <tr>\n",
       "      <th>4</th>\n",
       "      <td>155008</td>\n",
       "      <td>Grp443</td>\n",
       "      <td>1.186667</td>\n",
       "      <td>0.326667</td>\n",
       "      <td>0.476667</td>\n",
       "      <td>0.866667</td>\n",
       "      <td>0.436667</td>\n",
       "      <td>0.680000</td>\n",
       "      <td>0.476667</td>\n",
       "      <td>0.686667</td>\n",
       "      <td>1.476667</td>\n",
       "      <td>1.213333</td>\n",
       "      <td>0.853333</td>\n",
       "      <td>0.583333</td>\n",
       "      <td>0.850000</td>\n",
       "      <td>1.090000</td>\n",
       "      <td>0.550000</td>\n",
       "      <td>0.706667</td>\n",
       "      <td>0.740000</td>\n",
       "      <td>0.823333</td>\n",
       "      <td>0.670000</td>\n",
       "      <td>0.896667</td>\n",
       "      <td>0.566667</td>\n",
       "      <td>0.546667</td>\n",
       "      <td>0.650000</td>\n",
       "      <td>0.663333</td>\n",
       "      <td>-196.2200</td>\n",
       "      <td>test</td>\n",
       "    </tr>\n",
       "  </tbody>\n",
       "</table>\n",
       "</div>"
      ],
      "text/plain": [
       "       id   Group      Per1      Per2      Per3      Per4      Per5      Per6  \\\n",
       "0  146574  Grp229 -0.300000  1.540000  0.220000 -0.280000  0.570000  0.260000   \n",
       "1  268759  Grp141  0.633333  0.953333  0.810000  0.466667  0.910000  0.253333   \n",
       "2   59727  Grp188  1.043333  0.740000  0.860000  1.006667  0.583333  0.616667   \n",
       "3  151544  Grp426  1.283333  0.300000  0.576667  0.636667  0.256667  0.543333   \n",
       "4  155008  Grp443  1.186667  0.326667  0.476667  0.866667  0.436667  0.680000   \n",
       "\n",
       "       Per7      Per8      Per9      Dem1      Dem2      Dem3      Dem4  \\\n",
       "0  0.700000  1.076667  0.930000  0.156667  0.546667  0.530000  0.876667   \n",
       "1  1.040000  0.550000  0.543333  0.433333  0.966667  0.760000  0.576667   \n",
       "2  0.630000  0.686667  0.593333  1.250000  0.826667  0.826667  0.653333   \n",
       "3  0.356667  0.663333  1.156667  1.186667  0.900000  0.433333  0.230000   \n",
       "4  0.476667  0.686667  1.476667  1.213333  0.853333  0.583333  0.850000   \n",
       "\n",
       "       Dem5      Dem6      Dem7      Dem8      Dem9     Cred1     Cred2  \\\n",
       "0  0.450000  0.370000  0.786667  0.546667  0.313333  0.703333  0.813333   \n",
       "1  0.653333  0.553333  0.636667  0.770000  0.993333  0.536667  0.703333   \n",
       "2  0.663333  0.453333  0.626667  0.756667  0.953333  0.623333  0.753333   \n",
       "3  1.323333  0.403333  0.480000  0.460000  0.260000  0.800000  0.606667   \n",
       "4  1.090000  0.550000  0.706667  0.740000  0.823333  0.670000  0.896667   \n",
       "\n",
       "      Cred3     Cred4     Cred5     Cred6  Normalised_FNT  data  \n",
       "0  0.776667  0.796667  0.823333  0.783333       -249.7500  test  \n",
       "1  0.806667  0.630000  0.673333  0.673333       -249.8125  test  \n",
       "2  0.870000  0.596667  0.680000  0.670000       -248.1200  test  \n",
       "3  0.456667  0.320000  0.676667  0.660000       -222.9875  test  \n",
       "4  0.566667  0.546667  0.650000  0.663333       -196.2200  test  "
      ]
     },
     "execution_count": 29,
     "metadata": {},
     "output_type": "execute_result"
    }
   ],
   "source": [
    "test.head()"
   ]
  },
  {
   "cell_type": "code",
   "execution_count": null,
   "id": "3fafc207",
   "metadata": {
    "id": "3fafc207"
   },
   "outputs": [],
   "source": []
  },
  {
   "cell_type": "markdown",
   "id": "8357a43e",
   "metadata": {
    "id": "8357a43e"
   },
   "source": [
    "# merging both the dataset\n",
    "- As train has target variable and test is not haveing target feature then it will be added as nan in the merged dataset"
   ]
  },
  {
   "cell_type": "code",
   "execution_count": 30,
   "id": "85404e0b",
   "metadata": {
    "colab": {
     "base_uri": "https://localhost:8080/"
    },
    "id": "85404e0b",
    "outputId": "8c30bed9-e4ad-4d92-91b5-bcb0c30b5fbb"
   },
   "outputs": [
    {
     "name": "stdout",
     "output_type": "stream",
     "text": [
      "(227845, 29)\n",
      "(56962, 28)\n"
     ]
    }
   ],
   "source": [
    "print(train.shape)\n",
    "print(test.shape)"
   ]
  },
  {
   "cell_type": "code",
   "execution_count": 31,
   "id": "8c5aaf72",
   "metadata": {
    "id": "8c5aaf72"
   },
   "outputs": [],
   "source": [
    "all_data = pd.concat([train,test],axis=0)"
   ]
  },
  {
   "cell_type": "code",
   "execution_count": 32,
   "id": "7fba6adc",
   "metadata": {
    "colab": {
     "base_uri": "https://localhost:8080/",
     "height": 226
    },
    "id": "7fba6adc",
    "outputId": "ea3245b3-8f2b-4cfd-e5f7-3708b9e1ca44"
   },
   "outputs": [
    {
     "data": {
      "text/html": [
       "<div>\n",
       "<style scoped>\n",
       "    .dataframe tbody tr th:only-of-type {\n",
       "        vertical-align: middle;\n",
       "    }\n",
       "\n",
       "    .dataframe tbody tr th {\n",
       "        vertical-align: top;\n",
       "    }\n",
       "\n",
       "    .dataframe thead th {\n",
       "        text-align: right;\n",
       "    }\n",
       "</style>\n",
       "<table border=\"1\" class=\"dataframe\">\n",
       "  <thead>\n",
       "    <tr style=\"text-align: right;\">\n",
       "      <th></th>\n",
       "      <th>id</th>\n",
       "      <th>Group</th>\n",
       "      <th>Per1</th>\n",
       "      <th>Per2</th>\n",
       "      <th>Per3</th>\n",
       "      <th>Per4</th>\n",
       "      <th>Per5</th>\n",
       "      <th>Per6</th>\n",
       "      <th>Per7</th>\n",
       "      <th>Per8</th>\n",
       "      <th>Per9</th>\n",
       "      <th>Dem1</th>\n",
       "      <th>Dem2</th>\n",
       "      <th>Dem3</th>\n",
       "      <th>Dem4</th>\n",
       "      <th>Dem5</th>\n",
       "      <th>Dem6</th>\n",
       "      <th>Dem7</th>\n",
       "      <th>Dem8</th>\n",
       "      <th>Dem9</th>\n",
       "      <th>Cred1</th>\n",
       "      <th>Cred2</th>\n",
       "      <th>Cred3</th>\n",
       "      <th>Cred4</th>\n",
       "      <th>Cred5</th>\n",
       "      <th>Cred6</th>\n",
       "      <th>Normalised_FNT</th>\n",
       "      <th>Target</th>\n",
       "      <th>data</th>\n",
       "    </tr>\n",
       "  </thead>\n",
       "  <tbody>\n",
       "    <tr>\n",
       "      <th>0</th>\n",
       "      <td>112751</td>\n",
       "      <td>Grp169</td>\n",
       "      <td>1.070000</td>\n",
       "      <td>0.580000</td>\n",
       "      <td>0.480000</td>\n",
       "      <td>0.766667</td>\n",
       "      <td>1.233333</td>\n",
       "      <td>1.993333</td>\n",
       "      <td>0.340000</td>\n",
       "      <td>1.010000</td>\n",
       "      <td>0.863333</td>\n",
       "      <td>0.460000</td>\n",
       "      <td>0.643333</td>\n",
       "      <td>0.736667</td>\n",
       "      <td>0.756667</td>\n",
       "      <td>0.813333</td>\n",
       "      <td>0.693333</td>\n",
       "      <td>0.666667</td>\n",
       "      <td>0.680000</td>\n",
       "      <td>0.726667</td>\n",
       "      <td>0.606667</td>\n",
       "      <td>1.010000</td>\n",
       "      <td>0.933333</td>\n",
       "      <td>0.603333</td>\n",
       "      <td>0.686667</td>\n",
       "      <td>0.673333</td>\n",
       "      <td>-245.7500</td>\n",
       "      <td>0.0</td>\n",
       "      <td>train</td>\n",
       "    </tr>\n",
       "    <tr>\n",
       "      <th>1</th>\n",
       "      <td>18495</td>\n",
       "      <td>Grp161</td>\n",
       "      <td>0.473333</td>\n",
       "      <td>1.206667</td>\n",
       "      <td>0.883333</td>\n",
       "      <td>1.430000</td>\n",
       "      <td>0.726667</td>\n",
       "      <td>0.626667</td>\n",
       "      <td>0.810000</td>\n",
       "      <td>0.783333</td>\n",
       "      <td>0.190000</td>\n",
       "      <td>0.470000</td>\n",
       "      <td>0.613333</td>\n",
       "      <td>0.883333</td>\n",
       "      <td>0.653333</td>\n",
       "      <td>0.463333</td>\n",
       "      <td>0.483333</td>\n",
       "      <td>0.583333</td>\n",
       "      <td>0.716667</td>\n",
       "      <td>0.743333</td>\n",
       "      <td>0.680000</td>\n",
       "      <td>0.690000</td>\n",
       "      <td>0.560000</td>\n",
       "      <td>0.670000</td>\n",
       "      <td>0.553333</td>\n",
       "      <td>0.653333</td>\n",
       "      <td>-248.0000</td>\n",
       "      <td>0.0</td>\n",
       "      <td>train</td>\n",
       "    </tr>\n",
       "    <tr>\n",
       "      <th>2</th>\n",
       "      <td>23915</td>\n",
       "      <td>Grp261</td>\n",
       "      <td>1.130000</td>\n",
       "      <td>0.143333</td>\n",
       "      <td>0.946667</td>\n",
       "      <td>0.123333</td>\n",
       "      <td>0.080000</td>\n",
       "      <td>0.836667</td>\n",
       "      <td>0.056667</td>\n",
       "      <td>0.756667</td>\n",
       "      <td>0.226667</td>\n",
       "      <td>0.660000</td>\n",
       "      <td>0.730000</td>\n",
       "      <td>0.873333</td>\n",
       "      <td>0.923333</td>\n",
       "      <td>1.223333</td>\n",
       "      <td>0.686667</td>\n",
       "      <td>0.606667</td>\n",
       "      <td>0.690000</td>\n",
       "      <td>0.820000</td>\n",
       "      <td>0.600000</td>\n",
       "      <td>0.383333</td>\n",
       "      <td>0.763333</td>\n",
       "      <td>0.670000</td>\n",
       "      <td>0.686667</td>\n",
       "      <td>0.673333</td>\n",
       "      <td>-233.1250</td>\n",
       "      <td>0.0</td>\n",
       "      <td>train</td>\n",
       "    </tr>\n",
       "    <tr>\n",
       "      <th>3</th>\n",
       "      <td>50806</td>\n",
       "      <td>Grp198</td>\n",
       "      <td>0.636667</td>\n",
       "      <td>1.090000</td>\n",
       "      <td>0.750000</td>\n",
       "      <td>0.940000</td>\n",
       "      <td>0.743333</td>\n",
       "      <td>0.346667</td>\n",
       "      <td>0.956667</td>\n",
       "      <td>0.633333</td>\n",
       "      <td>0.486667</td>\n",
       "      <td>1.096667</td>\n",
       "      <td>0.466667</td>\n",
       "      <td>0.670000</td>\n",
       "      <td>0.526667</td>\n",
       "      <td>0.783333</td>\n",
       "      <td>0.856667</td>\n",
       "      <td>0.716667</td>\n",
       "      <td>0.720000</td>\n",
       "      <td>0.900000</td>\n",
       "      <td>0.680000</td>\n",
       "      <td>0.846667</td>\n",
       "      <td>0.423333</td>\n",
       "      <td>0.520000</td>\n",
       "      <td>0.846667</td>\n",
       "      <td>0.760000</td>\n",
       "      <td>-249.7775</td>\n",
       "      <td>0.0</td>\n",
       "      <td>train</td>\n",
       "    </tr>\n",
       "    <tr>\n",
       "      <th>4</th>\n",
       "      <td>184244</td>\n",
       "      <td>Grp228</td>\n",
       "      <td>0.560000</td>\n",
       "      <td>1.013333</td>\n",
       "      <td>0.593333</td>\n",
       "      <td>0.416667</td>\n",
       "      <td>0.773333</td>\n",
       "      <td>0.460000</td>\n",
       "      <td>0.853333</td>\n",
       "      <td>0.796667</td>\n",
       "      <td>0.516667</td>\n",
       "      <td>0.756667</td>\n",
       "      <td>0.683333</td>\n",
       "      <td>0.296667</td>\n",
       "      <td>0.780000</td>\n",
       "      <td>0.636667</td>\n",
       "      <td>0.783333</td>\n",
       "      <td>0.630000</td>\n",
       "      <td>0.603333</td>\n",
       "      <td>0.486667</td>\n",
       "      <td>0.693333</td>\n",
       "      <td>0.526667</td>\n",
       "      <td>0.520000</td>\n",
       "      <td>0.716667</td>\n",
       "      <td>0.706667</td>\n",
       "      <td>0.673333</td>\n",
       "      <td>-247.5775</td>\n",
       "      <td>0.0</td>\n",
       "      <td>train</td>\n",
       "    </tr>\n",
       "  </tbody>\n",
       "</table>\n",
       "</div>"
      ],
      "text/plain": [
       "       id   Group      Per1      Per2      Per3      Per4      Per5      Per6  \\\n",
       "0  112751  Grp169  1.070000  0.580000  0.480000  0.766667  1.233333  1.993333   \n",
       "1   18495  Grp161  0.473333  1.206667  0.883333  1.430000  0.726667  0.626667   \n",
       "2   23915  Grp261  1.130000  0.143333  0.946667  0.123333  0.080000  0.836667   \n",
       "3   50806  Grp198  0.636667  1.090000  0.750000  0.940000  0.743333  0.346667   \n",
       "4  184244  Grp228  0.560000  1.013333  0.593333  0.416667  0.773333  0.460000   \n",
       "\n",
       "       Per7      Per8      Per9      Dem1      Dem2      Dem3      Dem4  \\\n",
       "0  0.340000  1.010000  0.863333  0.460000  0.643333  0.736667  0.756667   \n",
       "1  0.810000  0.783333  0.190000  0.470000  0.613333  0.883333  0.653333   \n",
       "2  0.056667  0.756667  0.226667  0.660000  0.730000  0.873333  0.923333   \n",
       "3  0.956667  0.633333  0.486667  1.096667  0.466667  0.670000  0.526667   \n",
       "4  0.853333  0.796667  0.516667  0.756667  0.683333  0.296667  0.780000   \n",
       "\n",
       "       Dem5      Dem6      Dem7      Dem8      Dem9     Cred1     Cred2  \\\n",
       "0  0.813333  0.693333  0.666667  0.680000  0.726667  0.606667  1.010000   \n",
       "1  0.463333  0.483333  0.583333  0.716667  0.743333  0.680000  0.690000   \n",
       "2  1.223333  0.686667  0.606667  0.690000  0.820000  0.600000  0.383333   \n",
       "3  0.783333  0.856667  0.716667  0.720000  0.900000  0.680000  0.846667   \n",
       "4  0.636667  0.783333  0.630000  0.603333  0.486667  0.693333  0.526667   \n",
       "\n",
       "      Cred3     Cred4     Cred5     Cred6  Normalised_FNT  Target   data  \n",
       "0  0.933333  0.603333  0.686667  0.673333       -245.7500     0.0  train  \n",
       "1  0.560000  0.670000  0.553333  0.653333       -248.0000     0.0  train  \n",
       "2  0.763333  0.670000  0.686667  0.673333       -233.1250     0.0  train  \n",
       "3  0.423333  0.520000  0.846667  0.760000       -249.7775     0.0  train  \n",
       "4  0.520000  0.716667  0.706667  0.673333       -247.5775     0.0  train  "
      ]
     },
     "execution_count": 32,
     "metadata": {},
     "output_type": "execute_result"
    }
   ],
   "source": [
    "all_data.head()"
   ]
  },
  {
   "cell_type": "code",
   "execution_count": 33,
   "id": "041afd35",
   "metadata": {
    "colab": {
     "base_uri": "https://localhost:8080/",
     "height": 226
    },
    "id": "041afd35",
    "outputId": "14380e02-f9cf-4859-ed9f-e383bfb16d7b",
    "scrolled": true
   },
   "outputs": [
    {
     "data": {
      "text/html": [
       "<div>\n",
       "<style scoped>\n",
       "    .dataframe tbody tr th:only-of-type {\n",
       "        vertical-align: middle;\n",
       "    }\n",
       "\n",
       "    .dataframe tbody tr th {\n",
       "        vertical-align: top;\n",
       "    }\n",
       "\n",
       "    .dataframe thead th {\n",
       "        text-align: right;\n",
       "    }\n",
       "</style>\n",
       "<table border=\"1\" class=\"dataframe\">\n",
       "  <thead>\n",
       "    <tr style=\"text-align: right;\">\n",
       "      <th></th>\n",
       "      <th>id</th>\n",
       "      <th>Group</th>\n",
       "      <th>Per1</th>\n",
       "      <th>Per2</th>\n",
       "      <th>Per3</th>\n",
       "      <th>Per4</th>\n",
       "      <th>Per5</th>\n",
       "      <th>Per6</th>\n",
       "      <th>Per7</th>\n",
       "      <th>Per8</th>\n",
       "      <th>Per9</th>\n",
       "      <th>Dem1</th>\n",
       "      <th>Dem2</th>\n",
       "      <th>Dem3</th>\n",
       "      <th>Dem4</th>\n",
       "      <th>Dem5</th>\n",
       "      <th>Dem6</th>\n",
       "      <th>Dem7</th>\n",
       "      <th>Dem8</th>\n",
       "      <th>Dem9</th>\n",
       "      <th>Cred1</th>\n",
       "      <th>Cred2</th>\n",
       "      <th>Cred3</th>\n",
       "      <th>Cred4</th>\n",
       "      <th>Cred5</th>\n",
       "      <th>Cred6</th>\n",
       "      <th>Normalised_FNT</th>\n",
       "      <th>Target</th>\n",
       "      <th>data</th>\n",
       "    </tr>\n",
       "  </thead>\n",
       "  <tbody>\n",
       "    <tr>\n",
       "      <th>56957</th>\n",
       "      <td>18333</td>\n",
       "      <td>Grp102</td>\n",
       "      <td>0.553333</td>\n",
       "      <td>1.043333</td>\n",
       "      <td>1.096667</td>\n",
       "      <td>0.686667</td>\n",
       "      <td>0.673333</td>\n",
       "      <td>0.340000</td>\n",
       "      <td>0.900000</td>\n",
       "      <td>0.643333</td>\n",
       "      <td>0.543333</td>\n",
       "      <td>0.586667</td>\n",
       "      <td>0.660000</td>\n",
       "      <td>0.970000</td>\n",
       "      <td>0.796667</td>\n",
       "      <td>0.626667</td>\n",
       "      <td>0.636667</td>\n",
       "      <td>0.700000</td>\n",
       "      <td>0.576667</td>\n",
       "      <td>0.433333</td>\n",
       "      <td>0.660000</td>\n",
       "      <td>0.776667</td>\n",
       "      <td>0.610000</td>\n",
       "      <td>0.690000</td>\n",
       "      <td>0.750000</td>\n",
       "      <td>0.700000</td>\n",
       "      <td>-249.5050</td>\n",
       "      <td>NaN</td>\n",
       "      <td>test</td>\n",
       "    </tr>\n",
       "    <tr>\n",
       "      <th>56958</th>\n",
       "      <td>244207</td>\n",
       "      <td>Grp504</td>\n",
       "      <td>1.353333</td>\n",
       "      <td>0.616667</td>\n",
       "      <td>0.276667</td>\n",
       "      <td>0.783333</td>\n",
       "      <td>0.690000</td>\n",
       "      <td>0.650000</td>\n",
       "      <td>0.473333</td>\n",
       "      <td>0.670000</td>\n",
       "      <td>1.023333</td>\n",
       "      <td>0.293333</td>\n",
       "      <td>0.940000</td>\n",
       "      <td>0.896667</td>\n",
       "      <td>0.983333</td>\n",
       "      <td>0.936667</td>\n",
       "      <td>0.576667</td>\n",
       "      <td>0.643333</td>\n",
       "      <td>0.713333</td>\n",
       "      <td>0.870000</td>\n",
       "      <td>0.683333</td>\n",
       "      <td>0.690000</td>\n",
       "      <td>0.640000</td>\n",
       "      <td>0.883333</td>\n",
       "      <td>0.663333</td>\n",
       "      <td>0.660000</td>\n",
       "      <td>-248.7525</td>\n",
       "      <td>NaN</td>\n",
       "      <td>test</td>\n",
       "    </tr>\n",
       "    <tr>\n",
       "      <th>56959</th>\n",
       "      <td>103277</td>\n",
       "      <td>Grp78</td>\n",
       "      <td>1.083333</td>\n",
       "      <td>0.433333</td>\n",
       "      <td>0.806667</td>\n",
       "      <td>0.490000</td>\n",
       "      <td>0.243333</td>\n",
       "      <td>0.316667</td>\n",
       "      <td>0.533333</td>\n",
       "      <td>0.606667</td>\n",
       "      <td>0.420000</td>\n",
       "      <td>0.480000</td>\n",
       "      <td>0.490000</td>\n",
       "      <td>1.023333</td>\n",
       "      <td>0.310000</td>\n",
       "      <td>0.906667</td>\n",
       "      <td>0.450000</td>\n",
       "      <td>0.536667</td>\n",
       "      <td>0.433333</td>\n",
       "      <td>0.063333</td>\n",
       "      <td>0.753333</td>\n",
       "      <td>0.780000</td>\n",
       "      <td>0.603333</td>\n",
       "      <td>0.880000</td>\n",
       "      <td>0.643333</td>\n",
       "      <td>0.676667</td>\n",
       "      <td>-231.0500</td>\n",
       "      <td>NaN</td>\n",
       "      <td>test</td>\n",
       "    </tr>\n",
       "    <tr>\n",
       "      <th>56960</th>\n",
       "      <td>273294</td>\n",
       "      <td>Grp134</td>\n",
       "      <td>0.566667</td>\n",
       "      <td>1.153333</td>\n",
       "      <td>0.370000</td>\n",
       "      <td>0.616667</td>\n",
       "      <td>0.793333</td>\n",
       "      <td>0.226667</td>\n",
       "      <td>0.910000</td>\n",
       "      <td>0.696667</td>\n",
       "      <td>0.600000</td>\n",
       "      <td>0.500000</td>\n",
       "      <td>0.896667</td>\n",
       "      <td>0.876667</td>\n",
       "      <td>0.683333</td>\n",
       "      <td>0.850000</td>\n",
       "      <td>0.573333</td>\n",
       "      <td>0.643333</td>\n",
       "      <td>0.776667</td>\n",
       "      <td>1.026667</td>\n",
       "      <td>0.626667</td>\n",
       "      <td>0.646667</td>\n",
       "      <td>0.566667</td>\n",
       "      <td>0.616667</td>\n",
       "      <td>0.713333</td>\n",
       "      <td>0.706667</td>\n",
       "      <td>-246.3150</td>\n",
       "      <td>NaN</td>\n",
       "      <td>test</td>\n",
       "    </tr>\n",
       "    <tr>\n",
       "      <th>56961</th>\n",
       "      <td>223337</td>\n",
       "      <td>Grp18</td>\n",
       "      <td>1.426667</td>\n",
       "      <td>0.110000</td>\n",
       "      <td>-0.006667</td>\n",
       "      <td>-0.200000</td>\n",
       "      <td>0.983333</td>\n",
       "      <td>1.870000</td>\n",
       "      <td>0.033333</td>\n",
       "      <td>0.963333</td>\n",
       "      <td>0.266667</td>\n",
       "      <td>0.586667</td>\n",
       "      <td>0.793333</td>\n",
       "      <td>0.780000</td>\n",
       "      <td>0.493333</td>\n",
       "      <td>0.623333</td>\n",
       "      <td>0.553333</td>\n",
       "      <td>0.543333</td>\n",
       "      <td>0.616667</td>\n",
       "      <td>0.670000</td>\n",
       "      <td>0.770000</td>\n",
       "      <td>0.893333</td>\n",
       "      <td>0.586667</td>\n",
       "      <td>0.616667</td>\n",
       "      <td>0.683333</td>\n",
       "      <td>0.650000</td>\n",
       "      <td>-248.4500</td>\n",
       "      <td>NaN</td>\n",
       "      <td>test</td>\n",
       "    </tr>\n",
       "  </tbody>\n",
       "</table>\n",
       "</div>"
      ],
      "text/plain": [
       "           id   Group      Per1      Per2      Per3      Per4      Per5  \\\n",
       "56957   18333  Grp102  0.553333  1.043333  1.096667  0.686667  0.673333   \n",
       "56958  244207  Grp504  1.353333  0.616667  0.276667  0.783333  0.690000   \n",
       "56959  103277   Grp78  1.083333  0.433333  0.806667  0.490000  0.243333   \n",
       "56960  273294  Grp134  0.566667  1.153333  0.370000  0.616667  0.793333   \n",
       "56961  223337   Grp18  1.426667  0.110000 -0.006667 -0.200000  0.983333   \n",
       "\n",
       "           Per6      Per7      Per8      Per9      Dem1      Dem2      Dem3  \\\n",
       "56957  0.340000  0.900000  0.643333  0.543333  0.586667  0.660000  0.970000   \n",
       "56958  0.650000  0.473333  0.670000  1.023333  0.293333  0.940000  0.896667   \n",
       "56959  0.316667  0.533333  0.606667  0.420000  0.480000  0.490000  1.023333   \n",
       "56960  0.226667  0.910000  0.696667  0.600000  0.500000  0.896667  0.876667   \n",
       "56961  1.870000  0.033333  0.963333  0.266667  0.586667  0.793333  0.780000   \n",
       "\n",
       "           Dem4      Dem5      Dem6      Dem7      Dem8      Dem9     Cred1  \\\n",
       "56957  0.796667  0.626667  0.636667  0.700000  0.576667  0.433333  0.660000   \n",
       "56958  0.983333  0.936667  0.576667  0.643333  0.713333  0.870000  0.683333   \n",
       "56959  0.310000  0.906667  0.450000  0.536667  0.433333  0.063333  0.753333   \n",
       "56960  0.683333  0.850000  0.573333  0.643333  0.776667  1.026667  0.626667   \n",
       "56961  0.493333  0.623333  0.553333  0.543333  0.616667  0.670000  0.770000   \n",
       "\n",
       "          Cred2     Cred3     Cred4     Cred5     Cred6  Normalised_FNT  \\\n",
       "56957  0.776667  0.610000  0.690000  0.750000  0.700000       -249.5050   \n",
       "56958  0.690000  0.640000  0.883333  0.663333  0.660000       -248.7525   \n",
       "56959  0.780000  0.603333  0.880000  0.643333  0.676667       -231.0500   \n",
       "56960  0.646667  0.566667  0.616667  0.713333  0.706667       -246.3150   \n",
       "56961  0.893333  0.586667  0.616667  0.683333  0.650000       -248.4500   \n",
       "\n",
       "       Target  data  \n",
       "56957     NaN  test  \n",
       "56958     NaN  test  \n",
       "56959     NaN  test  \n",
       "56960     NaN  test  \n",
       "56961     NaN  test  "
      ]
     },
     "execution_count": 33,
     "metadata": {},
     "output_type": "execute_result"
    }
   ],
   "source": [
    "all_data.tail()"
   ]
  },
  {
   "cell_type": "code",
   "execution_count": 34,
   "id": "ae284415",
   "metadata": {
    "colab": {
     "base_uri": "https://localhost:8080/"
    },
    "id": "ae284415",
    "outputId": "4d98c13d-a33f-4404-869c-1211aef2cccc"
   },
   "outputs": [
    {
     "data": {
      "text/plain": [
       "(284807, 29)"
      ]
     },
     "execution_count": 34,
     "metadata": {},
     "output_type": "execute_result"
    }
   ],
   "source": [
    "all_data.shape\n"
   ]
  },
  {
   "cell_type": "code",
   "execution_count": 35,
   "id": "3cf32833",
   "metadata": {
    "colab": {
     "base_uri": "https://localhost:8080/"
    },
    "id": "3cf32833",
    "outputId": "46eefebc-b61c-47d5-9298-ef43d97184fc"
   },
   "outputs": [
    {
     "data": {
      "text/plain": [
       "id                    0\n",
       "Group                 0\n",
       "Per1                  0\n",
       "Per2                  0\n",
       "Per3                  0\n",
       "Per4                  0\n",
       "Per5                  0\n",
       "Per6                  0\n",
       "Per7                  0\n",
       "Per8                  0\n",
       "Per9                  0\n",
       "Dem1                  0\n",
       "Dem2                  0\n",
       "Dem3                  0\n",
       "Dem4                  0\n",
       "Dem5                  0\n",
       "Dem6                  0\n",
       "Dem7                  0\n",
       "Dem8                  0\n",
       "Dem9                  0\n",
       "Cred1                 0\n",
       "Cred2                 0\n",
       "Cred3                 0\n",
       "Cred4                 0\n",
       "Cred5                 0\n",
       "Cred6                 0\n",
       "Normalised_FNT        0\n",
       "Target            56962\n",
       "data                  0\n",
       "dtype: int64"
      ]
     },
     "execution_count": 35,
     "metadata": {},
     "output_type": "execute_result"
    }
   ],
   "source": [
    "all_data.isnull().sum()"
   ]
  },
  {
   "cell_type": "code",
   "execution_count": 36,
   "id": "8a2dd7d5",
   "metadata": {
    "colab": {
     "base_uri": "https://localhost:8080/"
    },
    "id": "8a2dd7d5",
    "outputId": "d9204e97-3fdb-4f49-8d90-0b43fa9459ee"
   },
   "outputs": [
    {
     "name": "stdout",
     "output_type": "stream",
     "text": [
      "geo: 284807\n",
      "******************************************************************************************\n",
      "instance 284807\n",
      "******************************************************************************************\n",
      "lambdawts 1400\n",
      "******************************************************************************************\n",
      "qset 284807\n",
      "******************************************************************************************\n",
      "all data id 284807\n",
      "************************************************************\n",
      "all_data_group 1400\n"
     ]
    }
   ],
   "source": [
    "print(\"geo:\",geo[\"id\"].nunique())\n",
    "print(\"******************\"*5)\n",
    "print(\"instance\",instance[\"id\"].nunique())\n",
    "print(\"******************\"*5)\n",
    "print(\"lambdawts\",lambdawts[\"Group\"].nunique())\n",
    "print(\"******************\"*5)\n",
    "print(\"qset\",qset[\"id\"].nunique())\n",
    "print(\"******************\"*5)\n",
    "print(\"all data id\",all_data[\"id\"].nunique())\n",
    "print(\"************\"*5)\n",
    "print(\"all_data_group\",all_data[\"Group\"].nunique())"
   ]
  },
  {
   "cell_type": "markdown",
   "id": "cd8d6487",
   "metadata": {
    "id": "cd8d6487"
   },
   "source": [
    "# Geo"
   ]
  },
  {
   "cell_type": "code",
   "execution_count": 37,
   "id": "5fd7917f",
   "metadata": {
    "colab": {
     "base_uri": "https://localhost:8080/"
    },
    "id": "5fd7917f",
    "outputId": "5b672ed6-13bf-452d-e76f-59d39f54d2fc",
    "scrolled": true
   },
   "outputs": [
    {
     "data": {
      "text/plain": [
       "(284807, 29)"
      ]
     },
     "execution_count": 37,
     "metadata": {},
     "output_type": "execute_result"
    }
   ],
   "source": [
    "all_data.shape"
   ]
  },
  {
   "cell_type": "code",
   "execution_count": 38,
   "id": "1eafa53d",
   "metadata": {
    "colab": {
     "base_uri": "https://localhost:8080/"
    },
    "id": "1eafa53d",
    "outputId": "89bb4181-f160-4200-8e2c-3fd5db9eeac1",
    "scrolled": true
   },
   "outputs": [
    {
     "data": {
      "text/plain": [
       "(1424035, 2)"
      ]
     },
     "execution_count": 38,
     "metadata": {},
     "output_type": "execute_result"
    }
   ],
   "source": [
    "geo.shape"
   ]
  },
  {
   "cell_type": "code",
   "execution_count": 39,
   "id": "75df1deb",
   "metadata": {
    "colab": {
     "base_uri": "https://localhost:8080/",
     "height": 206
    },
    "id": "75df1deb",
    "outputId": "6c6941ae-5444-4ac8-d03a-b36a23edb4a7"
   },
   "outputs": [
    {
     "data": {
      "text/html": [
       "<div>\n",
       "<style scoped>\n",
       "    .dataframe tbody tr th:only-of-type {\n",
       "        vertical-align: middle;\n",
       "    }\n",
       "\n",
       "    .dataframe tbody tr th {\n",
       "        vertical-align: top;\n",
       "    }\n",
       "\n",
       "    .dataframe thead th {\n",
       "        text-align: right;\n",
       "    }\n",
       "</style>\n",
       "<table border=\"1\" class=\"dataframe\">\n",
       "  <thead>\n",
       "    <tr style=\"text-align: right;\">\n",
       "      <th></th>\n",
       "      <th>Group</th>\n",
       "      <th>lambda_wt</th>\n",
       "    </tr>\n",
       "  </thead>\n",
       "  <tbody>\n",
       "    <tr>\n",
       "      <th>0</th>\n",
       "      <td>Grp936</td>\n",
       "      <td>3.41</td>\n",
       "    </tr>\n",
       "    <tr>\n",
       "      <th>1</th>\n",
       "      <td>Grp347</td>\n",
       "      <td>-2.88</td>\n",
       "    </tr>\n",
       "    <tr>\n",
       "      <th>2</th>\n",
       "      <td>Grp188</td>\n",
       "      <td>0.39</td>\n",
       "    </tr>\n",
       "    <tr>\n",
       "      <th>3</th>\n",
       "      <td>Grp1053</td>\n",
       "      <td>-2.75</td>\n",
       "    </tr>\n",
       "    <tr>\n",
       "      <th>4</th>\n",
       "      <td>Grp56</td>\n",
       "      <td>-0.83</td>\n",
       "    </tr>\n",
       "  </tbody>\n",
       "</table>\n",
       "</div>"
      ],
      "text/plain": [
       "     Group  lambda_wt\n",
       "0   Grp936       3.41\n",
       "1   Grp347      -2.88\n",
       "2   Grp188       0.39\n",
       "3  Grp1053      -2.75\n",
       "4    Grp56      -0.83"
      ]
     },
     "execution_count": 39,
     "metadata": {},
     "output_type": "execute_result"
    }
   ],
   "source": [
    "lambdawts.head()"
   ]
  },
  {
   "cell_type": "code",
   "execution_count": 40,
   "id": "b1ed34a1",
   "metadata": {
    "id": "b1ed34a1"
   },
   "outputs": [],
   "source": [
    "# Groupby as if we look at the shape of all_data it is less than geo shape (it contains different trasictions of same customers too)\n",
    "# groupby will group if of same customer and avg the transaction"
   ]
  },
  {
   "cell_type": "code",
   "execution_count": 41,
   "id": "874307ea",
   "metadata": {
    "id": "874307ea"
   },
   "outputs": [],
   "source": [
    "geo=geo.groupby(\"id\").mean()"
   ]
  },
  {
   "cell_type": "code",
   "execution_count": 42,
   "id": "70e6970a",
   "metadata": {
    "colab": {
     "base_uri": "https://localhost:8080/"
    },
    "id": "70e6970a",
    "outputId": "942e6ba8-30e7-46b7-82dd-88e2a12689e7"
   },
   "outputs": [
    {
     "data": {
      "text/plain": [
       "(284807, 0)"
      ]
     },
     "execution_count": 42,
     "metadata": {},
     "output_type": "execute_result"
    }
   ],
   "source": [
    "geo.shape"
   ]
  },
  {
   "cell_type": "code",
   "execution_count": 43,
   "id": "ec6a0b09",
   "metadata": {
    "id": "ec6a0b09"
   },
   "outputs": [],
   "source": [
    "# After groupby geo mataches with all data shape\n",
    "# we will concat both the data"
   ]
  },
  {
   "cell_type": "code",
   "execution_count": 44,
   "id": "8ec371bb",
   "metadata": {
    "id": "8ec371bb"
   },
   "outputs": [],
   "source": [
    "all_data=pd.merge(all_data, geo, on=\"id\",how=\"left\")"
   ]
  },
  {
   "cell_type": "code",
   "execution_count": 45,
   "id": "5ec0a5ff",
   "metadata": {
    "colab": {
     "base_uri": "https://localhost:8080/",
     "height": 226
    },
    "id": "5ec0a5ff",
    "outputId": "3906a34c-0b98-46e7-c831-8debe0861dc0"
   },
   "outputs": [
    {
     "data": {
      "text/html": [
       "<div>\n",
       "<style scoped>\n",
       "    .dataframe tbody tr th:only-of-type {\n",
       "        vertical-align: middle;\n",
       "    }\n",
       "\n",
       "    .dataframe tbody tr th {\n",
       "        vertical-align: top;\n",
       "    }\n",
       "\n",
       "    .dataframe thead th {\n",
       "        text-align: right;\n",
       "    }\n",
       "</style>\n",
       "<table border=\"1\" class=\"dataframe\">\n",
       "  <thead>\n",
       "    <tr style=\"text-align: right;\">\n",
       "      <th></th>\n",
       "      <th>id</th>\n",
       "      <th>Group</th>\n",
       "      <th>Per1</th>\n",
       "      <th>Per2</th>\n",
       "      <th>Per3</th>\n",
       "      <th>Per4</th>\n",
       "      <th>Per5</th>\n",
       "      <th>Per6</th>\n",
       "      <th>Per7</th>\n",
       "      <th>Per8</th>\n",
       "      <th>Per9</th>\n",
       "      <th>Dem1</th>\n",
       "      <th>Dem2</th>\n",
       "      <th>Dem3</th>\n",
       "      <th>Dem4</th>\n",
       "      <th>Dem5</th>\n",
       "      <th>Dem6</th>\n",
       "      <th>Dem7</th>\n",
       "      <th>Dem8</th>\n",
       "      <th>Dem9</th>\n",
       "      <th>Cred1</th>\n",
       "      <th>Cred2</th>\n",
       "      <th>Cred3</th>\n",
       "      <th>Cred4</th>\n",
       "      <th>Cred5</th>\n",
       "      <th>Cred6</th>\n",
       "      <th>Normalised_FNT</th>\n",
       "      <th>Target</th>\n",
       "      <th>data</th>\n",
       "    </tr>\n",
       "  </thead>\n",
       "  <tbody>\n",
       "    <tr>\n",
       "      <th>0</th>\n",
       "      <td>112751</td>\n",
       "      <td>Grp169</td>\n",
       "      <td>1.070000</td>\n",
       "      <td>0.580000</td>\n",
       "      <td>0.480000</td>\n",
       "      <td>0.766667</td>\n",
       "      <td>1.233333</td>\n",
       "      <td>1.993333</td>\n",
       "      <td>0.340000</td>\n",
       "      <td>1.010000</td>\n",
       "      <td>0.863333</td>\n",
       "      <td>0.460000</td>\n",
       "      <td>0.643333</td>\n",
       "      <td>0.736667</td>\n",
       "      <td>0.756667</td>\n",
       "      <td>0.813333</td>\n",
       "      <td>0.693333</td>\n",
       "      <td>0.666667</td>\n",
       "      <td>0.680000</td>\n",
       "      <td>0.726667</td>\n",
       "      <td>0.606667</td>\n",
       "      <td>1.010000</td>\n",
       "      <td>0.933333</td>\n",
       "      <td>0.603333</td>\n",
       "      <td>0.686667</td>\n",
       "      <td>0.673333</td>\n",
       "      <td>-245.7500</td>\n",
       "      <td>0.0</td>\n",
       "      <td>train</td>\n",
       "    </tr>\n",
       "    <tr>\n",
       "      <th>1</th>\n",
       "      <td>18495</td>\n",
       "      <td>Grp161</td>\n",
       "      <td>0.473333</td>\n",
       "      <td>1.206667</td>\n",
       "      <td>0.883333</td>\n",
       "      <td>1.430000</td>\n",
       "      <td>0.726667</td>\n",
       "      <td>0.626667</td>\n",
       "      <td>0.810000</td>\n",
       "      <td>0.783333</td>\n",
       "      <td>0.190000</td>\n",
       "      <td>0.470000</td>\n",
       "      <td>0.613333</td>\n",
       "      <td>0.883333</td>\n",
       "      <td>0.653333</td>\n",
       "      <td>0.463333</td>\n",
       "      <td>0.483333</td>\n",
       "      <td>0.583333</td>\n",
       "      <td>0.716667</td>\n",
       "      <td>0.743333</td>\n",
       "      <td>0.680000</td>\n",
       "      <td>0.690000</td>\n",
       "      <td>0.560000</td>\n",
       "      <td>0.670000</td>\n",
       "      <td>0.553333</td>\n",
       "      <td>0.653333</td>\n",
       "      <td>-248.0000</td>\n",
       "      <td>0.0</td>\n",
       "      <td>train</td>\n",
       "    </tr>\n",
       "    <tr>\n",
       "      <th>2</th>\n",
       "      <td>23915</td>\n",
       "      <td>Grp261</td>\n",
       "      <td>1.130000</td>\n",
       "      <td>0.143333</td>\n",
       "      <td>0.946667</td>\n",
       "      <td>0.123333</td>\n",
       "      <td>0.080000</td>\n",
       "      <td>0.836667</td>\n",
       "      <td>0.056667</td>\n",
       "      <td>0.756667</td>\n",
       "      <td>0.226667</td>\n",
       "      <td>0.660000</td>\n",
       "      <td>0.730000</td>\n",
       "      <td>0.873333</td>\n",
       "      <td>0.923333</td>\n",
       "      <td>1.223333</td>\n",
       "      <td>0.686667</td>\n",
       "      <td>0.606667</td>\n",
       "      <td>0.690000</td>\n",
       "      <td>0.820000</td>\n",
       "      <td>0.600000</td>\n",
       "      <td>0.383333</td>\n",
       "      <td>0.763333</td>\n",
       "      <td>0.670000</td>\n",
       "      <td>0.686667</td>\n",
       "      <td>0.673333</td>\n",
       "      <td>-233.1250</td>\n",
       "      <td>0.0</td>\n",
       "      <td>train</td>\n",
       "    </tr>\n",
       "    <tr>\n",
       "      <th>3</th>\n",
       "      <td>50806</td>\n",
       "      <td>Grp198</td>\n",
       "      <td>0.636667</td>\n",
       "      <td>1.090000</td>\n",
       "      <td>0.750000</td>\n",
       "      <td>0.940000</td>\n",
       "      <td>0.743333</td>\n",
       "      <td>0.346667</td>\n",
       "      <td>0.956667</td>\n",
       "      <td>0.633333</td>\n",
       "      <td>0.486667</td>\n",
       "      <td>1.096667</td>\n",
       "      <td>0.466667</td>\n",
       "      <td>0.670000</td>\n",
       "      <td>0.526667</td>\n",
       "      <td>0.783333</td>\n",
       "      <td>0.856667</td>\n",
       "      <td>0.716667</td>\n",
       "      <td>0.720000</td>\n",
       "      <td>0.900000</td>\n",
       "      <td>0.680000</td>\n",
       "      <td>0.846667</td>\n",
       "      <td>0.423333</td>\n",
       "      <td>0.520000</td>\n",
       "      <td>0.846667</td>\n",
       "      <td>0.760000</td>\n",
       "      <td>-249.7775</td>\n",
       "      <td>0.0</td>\n",
       "      <td>train</td>\n",
       "    </tr>\n",
       "    <tr>\n",
       "      <th>4</th>\n",
       "      <td>184244</td>\n",
       "      <td>Grp228</td>\n",
       "      <td>0.560000</td>\n",
       "      <td>1.013333</td>\n",
       "      <td>0.593333</td>\n",
       "      <td>0.416667</td>\n",
       "      <td>0.773333</td>\n",
       "      <td>0.460000</td>\n",
       "      <td>0.853333</td>\n",
       "      <td>0.796667</td>\n",
       "      <td>0.516667</td>\n",
       "      <td>0.756667</td>\n",
       "      <td>0.683333</td>\n",
       "      <td>0.296667</td>\n",
       "      <td>0.780000</td>\n",
       "      <td>0.636667</td>\n",
       "      <td>0.783333</td>\n",
       "      <td>0.630000</td>\n",
       "      <td>0.603333</td>\n",
       "      <td>0.486667</td>\n",
       "      <td>0.693333</td>\n",
       "      <td>0.526667</td>\n",
       "      <td>0.520000</td>\n",
       "      <td>0.716667</td>\n",
       "      <td>0.706667</td>\n",
       "      <td>0.673333</td>\n",
       "      <td>-247.5775</td>\n",
       "      <td>0.0</td>\n",
       "      <td>train</td>\n",
       "    </tr>\n",
       "  </tbody>\n",
       "</table>\n",
       "</div>"
      ],
      "text/plain": [
       "       id   Group      Per1      Per2      Per3      Per4      Per5      Per6  \\\n",
       "0  112751  Grp169  1.070000  0.580000  0.480000  0.766667  1.233333  1.993333   \n",
       "1   18495  Grp161  0.473333  1.206667  0.883333  1.430000  0.726667  0.626667   \n",
       "2   23915  Grp261  1.130000  0.143333  0.946667  0.123333  0.080000  0.836667   \n",
       "3   50806  Grp198  0.636667  1.090000  0.750000  0.940000  0.743333  0.346667   \n",
       "4  184244  Grp228  0.560000  1.013333  0.593333  0.416667  0.773333  0.460000   \n",
       "\n",
       "       Per7      Per8      Per9      Dem1      Dem2      Dem3      Dem4  \\\n",
       "0  0.340000  1.010000  0.863333  0.460000  0.643333  0.736667  0.756667   \n",
       "1  0.810000  0.783333  0.190000  0.470000  0.613333  0.883333  0.653333   \n",
       "2  0.056667  0.756667  0.226667  0.660000  0.730000  0.873333  0.923333   \n",
       "3  0.956667  0.633333  0.486667  1.096667  0.466667  0.670000  0.526667   \n",
       "4  0.853333  0.796667  0.516667  0.756667  0.683333  0.296667  0.780000   \n",
       "\n",
       "       Dem5      Dem6      Dem7      Dem8      Dem9     Cred1     Cred2  \\\n",
       "0  0.813333  0.693333  0.666667  0.680000  0.726667  0.606667  1.010000   \n",
       "1  0.463333  0.483333  0.583333  0.716667  0.743333  0.680000  0.690000   \n",
       "2  1.223333  0.686667  0.606667  0.690000  0.820000  0.600000  0.383333   \n",
       "3  0.783333  0.856667  0.716667  0.720000  0.900000  0.680000  0.846667   \n",
       "4  0.636667  0.783333  0.630000  0.603333  0.486667  0.693333  0.526667   \n",
       "\n",
       "      Cred3     Cred4     Cred5     Cred6  Normalised_FNT  Target   data  \n",
       "0  0.933333  0.603333  0.686667  0.673333       -245.7500     0.0  train  \n",
       "1  0.560000  0.670000  0.553333  0.653333       -248.0000     0.0  train  \n",
       "2  0.763333  0.670000  0.686667  0.673333       -233.1250     0.0  train  \n",
       "3  0.423333  0.520000  0.846667  0.760000       -249.7775     0.0  train  \n",
       "4  0.520000  0.716667  0.706667  0.673333       -247.5775     0.0  train  "
      ]
     },
     "execution_count": 45,
     "metadata": {},
     "output_type": "execute_result"
    }
   ],
   "source": [
    "all_data.head()"
   ]
  },
  {
   "cell_type": "code",
   "execution_count": 46,
   "id": "76c11d02",
   "metadata": {
    "colab": {
     "base_uri": "https://localhost:8080/",
     "height": 226
    },
    "id": "76c11d02",
    "outputId": "959da563-f79c-4895-b87f-5429b6887926"
   },
   "outputs": [
    {
     "data": {
      "text/html": [
       "<div>\n",
       "<style scoped>\n",
       "    .dataframe tbody tr th:only-of-type {\n",
       "        vertical-align: middle;\n",
       "    }\n",
       "\n",
       "    .dataframe tbody tr th {\n",
       "        vertical-align: top;\n",
       "    }\n",
       "\n",
       "    .dataframe thead th {\n",
       "        text-align: right;\n",
       "    }\n",
       "</style>\n",
       "<table border=\"1\" class=\"dataframe\">\n",
       "  <thead>\n",
       "    <tr style=\"text-align: right;\">\n",
       "      <th></th>\n",
       "      <th>id</th>\n",
       "      <th>Group</th>\n",
       "      <th>Per1</th>\n",
       "      <th>Per2</th>\n",
       "      <th>Per3</th>\n",
       "      <th>Per4</th>\n",
       "      <th>Per5</th>\n",
       "      <th>Per6</th>\n",
       "      <th>Per7</th>\n",
       "      <th>Per8</th>\n",
       "      <th>Per9</th>\n",
       "      <th>Dem1</th>\n",
       "      <th>Dem2</th>\n",
       "      <th>Dem3</th>\n",
       "      <th>Dem4</th>\n",
       "      <th>Dem5</th>\n",
       "      <th>Dem6</th>\n",
       "      <th>Dem7</th>\n",
       "      <th>Dem8</th>\n",
       "      <th>Dem9</th>\n",
       "      <th>Cred1</th>\n",
       "      <th>Cred2</th>\n",
       "      <th>Cred3</th>\n",
       "      <th>Cred4</th>\n",
       "      <th>Cred5</th>\n",
       "      <th>Cred6</th>\n",
       "      <th>Normalised_FNT</th>\n",
       "      <th>Target</th>\n",
       "      <th>data</th>\n",
       "    </tr>\n",
       "  </thead>\n",
       "  <tbody>\n",
       "    <tr>\n",
       "      <th>0</th>\n",
       "      <td>112751</td>\n",
       "      <td>Grp169</td>\n",
       "      <td>1.070000</td>\n",
       "      <td>0.580000</td>\n",
       "      <td>0.480000</td>\n",
       "      <td>0.766667</td>\n",
       "      <td>1.233333</td>\n",
       "      <td>1.993333</td>\n",
       "      <td>0.340000</td>\n",
       "      <td>1.010000</td>\n",
       "      <td>0.863333</td>\n",
       "      <td>0.460000</td>\n",
       "      <td>0.643333</td>\n",
       "      <td>0.736667</td>\n",
       "      <td>0.756667</td>\n",
       "      <td>0.813333</td>\n",
       "      <td>0.693333</td>\n",
       "      <td>0.666667</td>\n",
       "      <td>0.680000</td>\n",
       "      <td>0.726667</td>\n",
       "      <td>0.606667</td>\n",
       "      <td>1.010000</td>\n",
       "      <td>0.933333</td>\n",
       "      <td>0.603333</td>\n",
       "      <td>0.686667</td>\n",
       "      <td>0.673333</td>\n",
       "      <td>-245.7500</td>\n",
       "      <td>0.0</td>\n",
       "      <td>train</td>\n",
       "    </tr>\n",
       "    <tr>\n",
       "      <th>1</th>\n",
       "      <td>18495</td>\n",
       "      <td>Grp161</td>\n",
       "      <td>0.473333</td>\n",
       "      <td>1.206667</td>\n",
       "      <td>0.883333</td>\n",
       "      <td>1.430000</td>\n",
       "      <td>0.726667</td>\n",
       "      <td>0.626667</td>\n",
       "      <td>0.810000</td>\n",
       "      <td>0.783333</td>\n",
       "      <td>0.190000</td>\n",
       "      <td>0.470000</td>\n",
       "      <td>0.613333</td>\n",
       "      <td>0.883333</td>\n",
       "      <td>0.653333</td>\n",
       "      <td>0.463333</td>\n",
       "      <td>0.483333</td>\n",
       "      <td>0.583333</td>\n",
       "      <td>0.716667</td>\n",
       "      <td>0.743333</td>\n",
       "      <td>0.680000</td>\n",
       "      <td>0.690000</td>\n",
       "      <td>0.560000</td>\n",
       "      <td>0.670000</td>\n",
       "      <td>0.553333</td>\n",
       "      <td>0.653333</td>\n",
       "      <td>-248.0000</td>\n",
       "      <td>0.0</td>\n",
       "      <td>train</td>\n",
       "    </tr>\n",
       "    <tr>\n",
       "      <th>2</th>\n",
       "      <td>23915</td>\n",
       "      <td>Grp261</td>\n",
       "      <td>1.130000</td>\n",
       "      <td>0.143333</td>\n",
       "      <td>0.946667</td>\n",
       "      <td>0.123333</td>\n",
       "      <td>0.080000</td>\n",
       "      <td>0.836667</td>\n",
       "      <td>0.056667</td>\n",
       "      <td>0.756667</td>\n",
       "      <td>0.226667</td>\n",
       "      <td>0.660000</td>\n",
       "      <td>0.730000</td>\n",
       "      <td>0.873333</td>\n",
       "      <td>0.923333</td>\n",
       "      <td>1.223333</td>\n",
       "      <td>0.686667</td>\n",
       "      <td>0.606667</td>\n",
       "      <td>0.690000</td>\n",
       "      <td>0.820000</td>\n",
       "      <td>0.600000</td>\n",
       "      <td>0.383333</td>\n",
       "      <td>0.763333</td>\n",
       "      <td>0.670000</td>\n",
       "      <td>0.686667</td>\n",
       "      <td>0.673333</td>\n",
       "      <td>-233.1250</td>\n",
       "      <td>0.0</td>\n",
       "      <td>train</td>\n",
       "    </tr>\n",
       "    <tr>\n",
       "      <th>3</th>\n",
       "      <td>50806</td>\n",
       "      <td>Grp198</td>\n",
       "      <td>0.636667</td>\n",
       "      <td>1.090000</td>\n",
       "      <td>0.750000</td>\n",
       "      <td>0.940000</td>\n",
       "      <td>0.743333</td>\n",
       "      <td>0.346667</td>\n",
       "      <td>0.956667</td>\n",
       "      <td>0.633333</td>\n",
       "      <td>0.486667</td>\n",
       "      <td>1.096667</td>\n",
       "      <td>0.466667</td>\n",
       "      <td>0.670000</td>\n",
       "      <td>0.526667</td>\n",
       "      <td>0.783333</td>\n",
       "      <td>0.856667</td>\n",
       "      <td>0.716667</td>\n",
       "      <td>0.720000</td>\n",
       "      <td>0.900000</td>\n",
       "      <td>0.680000</td>\n",
       "      <td>0.846667</td>\n",
       "      <td>0.423333</td>\n",
       "      <td>0.520000</td>\n",
       "      <td>0.846667</td>\n",
       "      <td>0.760000</td>\n",
       "      <td>-249.7775</td>\n",
       "      <td>0.0</td>\n",
       "      <td>train</td>\n",
       "    </tr>\n",
       "    <tr>\n",
       "      <th>4</th>\n",
       "      <td>184244</td>\n",
       "      <td>Grp228</td>\n",
       "      <td>0.560000</td>\n",
       "      <td>1.013333</td>\n",
       "      <td>0.593333</td>\n",
       "      <td>0.416667</td>\n",
       "      <td>0.773333</td>\n",
       "      <td>0.460000</td>\n",
       "      <td>0.853333</td>\n",
       "      <td>0.796667</td>\n",
       "      <td>0.516667</td>\n",
       "      <td>0.756667</td>\n",
       "      <td>0.683333</td>\n",
       "      <td>0.296667</td>\n",
       "      <td>0.780000</td>\n",
       "      <td>0.636667</td>\n",
       "      <td>0.783333</td>\n",
       "      <td>0.630000</td>\n",
       "      <td>0.603333</td>\n",
       "      <td>0.486667</td>\n",
       "      <td>0.693333</td>\n",
       "      <td>0.526667</td>\n",
       "      <td>0.520000</td>\n",
       "      <td>0.716667</td>\n",
       "      <td>0.706667</td>\n",
       "      <td>0.673333</td>\n",
       "      <td>-247.5775</td>\n",
       "      <td>0.0</td>\n",
       "      <td>train</td>\n",
       "    </tr>\n",
       "  </tbody>\n",
       "</table>\n",
       "</div>"
      ],
      "text/plain": [
       "       id   Group      Per1      Per2      Per3      Per4      Per5      Per6  \\\n",
       "0  112751  Grp169  1.070000  0.580000  0.480000  0.766667  1.233333  1.993333   \n",
       "1   18495  Grp161  0.473333  1.206667  0.883333  1.430000  0.726667  0.626667   \n",
       "2   23915  Grp261  1.130000  0.143333  0.946667  0.123333  0.080000  0.836667   \n",
       "3   50806  Grp198  0.636667  1.090000  0.750000  0.940000  0.743333  0.346667   \n",
       "4  184244  Grp228  0.560000  1.013333  0.593333  0.416667  0.773333  0.460000   \n",
       "\n",
       "       Per7      Per8      Per9      Dem1      Dem2      Dem3      Dem4  \\\n",
       "0  0.340000  1.010000  0.863333  0.460000  0.643333  0.736667  0.756667   \n",
       "1  0.810000  0.783333  0.190000  0.470000  0.613333  0.883333  0.653333   \n",
       "2  0.056667  0.756667  0.226667  0.660000  0.730000  0.873333  0.923333   \n",
       "3  0.956667  0.633333  0.486667  1.096667  0.466667  0.670000  0.526667   \n",
       "4  0.853333  0.796667  0.516667  0.756667  0.683333  0.296667  0.780000   \n",
       "\n",
       "       Dem5      Dem6      Dem7      Dem8      Dem9     Cred1     Cred2  \\\n",
       "0  0.813333  0.693333  0.666667  0.680000  0.726667  0.606667  1.010000   \n",
       "1  0.463333  0.483333  0.583333  0.716667  0.743333  0.680000  0.690000   \n",
       "2  1.223333  0.686667  0.606667  0.690000  0.820000  0.600000  0.383333   \n",
       "3  0.783333  0.856667  0.716667  0.720000  0.900000  0.680000  0.846667   \n",
       "4  0.636667  0.783333  0.630000  0.603333  0.486667  0.693333  0.526667   \n",
       "\n",
       "      Cred3     Cred4     Cred5     Cred6  Normalised_FNT  Target   data  \n",
       "0  0.933333  0.603333  0.686667  0.673333       -245.7500     0.0  train  \n",
       "1  0.560000  0.670000  0.553333  0.653333       -248.0000     0.0  train  \n",
       "2  0.763333  0.670000  0.686667  0.673333       -233.1250     0.0  train  \n",
       "3  0.423333  0.520000  0.846667  0.760000       -249.7775     0.0  train  \n",
       "4  0.520000  0.716667  0.706667  0.673333       -247.5775     0.0  train  "
      ]
     },
     "execution_count": 46,
     "metadata": {},
     "output_type": "execute_result"
    }
   ],
   "source": [
    "all_data.head()"
   ]
  },
  {
   "cell_type": "markdown",
   "id": "caf28a9a",
   "metadata": {
    "id": "caf28a9a"
   },
   "source": [
    "# instance"
   ]
  },
  {
   "cell_type": "code",
   "execution_count": 47,
   "id": "8fbae2a4",
   "metadata": {
    "colab": {
     "base_uri": "https://localhost:8080/"
    },
    "id": "8fbae2a4",
    "outputId": "660fe22c-9d00-4c90-a56c-0b96407dfce4"
   },
   "outputs": [
    {
     "data": {
      "text/plain": [
       "(1424035, 2)"
      ]
     },
     "execution_count": 47,
     "metadata": {},
     "output_type": "execute_result"
    }
   ],
   "source": [
    "instance.shape"
   ]
  },
  {
   "cell_type": "code",
   "execution_count": 48,
   "id": "da557ed2",
   "metadata": {
    "colab": {
     "base_uri": "https://localhost:8080/"
    },
    "id": "da557ed2",
    "outputId": "dbaf1e8a-ff98-4663-c59f-467f1fab75a6"
   },
   "outputs": [
    {
     "data": {
      "text/plain": [
       "284807"
      ]
     },
     "execution_count": 48,
     "metadata": {},
     "output_type": "execute_result"
    }
   ],
   "source": [
    "instance[\"id\"].nunique()"
   ]
  },
  {
   "cell_type": "code",
   "execution_count": 49,
   "id": "f880658f",
   "metadata": {
    "colab": {
     "base_uri": "https://localhost:8080/"
    },
    "id": "f880658f",
    "outputId": "d0d77a42-43e5-406b-8582-b0df64d29a7f"
   },
   "outputs": [
    {
     "data": {
      "text/plain": [
       "(284807, 29)"
      ]
     },
     "execution_count": 49,
     "metadata": {},
     "output_type": "execute_result"
    }
   ],
   "source": [
    "all_data.shape"
   ]
  },
  {
   "cell_type": "code",
   "execution_count": 50,
   "id": "138e44a9",
   "metadata": {
    "id": "138e44a9"
   },
   "outputs": [],
   "source": [
    "# We need to groupby instance as well as similar data"
   ]
  },
  {
   "cell_type": "code",
   "execution_count": 51,
   "id": "9f18ccd2",
   "metadata": {
    "colab": {
     "base_uri": "https://localhost:8080/",
     "height": 206
    },
    "id": "9f18ccd2",
    "outputId": "a65e4851-9065-4afb-9cd2-157c0451b422"
   },
   "outputs": [
    {
     "data": {
      "text/html": [
       "<div>\n",
       "<style scoped>\n",
       "    .dataframe tbody tr th:only-of-type {\n",
       "        vertical-align: middle;\n",
       "    }\n",
       "\n",
       "    .dataframe tbody tr th {\n",
       "        vertical-align: top;\n",
       "    }\n",
       "\n",
       "    .dataframe thead th {\n",
       "        text-align: right;\n",
       "    }\n",
       "</style>\n",
       "<table border=\"1\" class=\"dataframe\">\n",
       "  <thead>\n",
       "    <tr style=\"text-align: right;\">\n",
       "      <th></th>\n",
       "      <th>id</th>\n",
       "      <th>instance_scores</th>\n",
       "    </tr>\n",
       "  </thead>\n",
       "  <tbody>\n",
       "    <tr>\n",
       "      <th>0</th>\n",
       "      <td>173444</td>\n",
       "      <td>-0.88</td>\n",
       "    </tr>\n",
       "    <tr>\n",
       "      <th>1</th>\n",
       "      <td>259378</td>\n",
       "      <td>1.50</td>\n",
       "    </tr>\n",
       "    <tr>\n",
       "      <th>2</th>\n",
       "      <td>161170</td>\n",
       "      <td>0.44</td>\n",
       "    </tr>\n",
       "    <tr>\n",
       "      <th>3</th>\n",
       "      <td>191161</td>\n",
       "      <td>0.76</td>\n",
       "    </tr>\n",
       "    <tr>\n",
       "      <th>4</th>\n",
       "      <td>34521</td>\n",
       "      <td>-0.84</td>\n",
       "    </tr>\n",
       "  </tbody>\n",
       "</table>\n",
       "</div>"
      ],
      "text/plain": [
       "       id  instance_scores\n",
       "0  173444            -0.88\n",
       "1  259378             1.50\n",
       "2  161170             0.44\n",
       "3  191161             0.76\n",
       "4   34521            -0.84"
      ]
     },
     "execution_count": 51,
     "metadata": {},
     "output_type": "execute_result"
    }
   ],
   "source": [
    "instance.head()"
   ]
  },
  {
   "cell_type": "code",
   "execution_count": 52,
   "id": "bf0cdeb5",
   "metadata": {
    "id": "bf0cdeb5"
   },
   "outputs": [],
   "source": [
    "instance=instance.groupby(\"id\").mean()"
   ]
  },
  {
   "cell_type": "code",
   "execution_count": 53,
   "id": "88cad96c",
   "metadata": {
    "colab": {
     "base_uri": "https://localhost:8080/"
    },
    "id": "88cad96c",
    "outputId": "2649b23a-9eb9-4ad8-bc45-67415cdb858d"
   },
   "outputs": [
    {
     "data": {
      "text/plain": [
       "(284807, 1)"
      ]
     },
     "execution_count": 53,
     "metadata": {},
     "output_type": "execute_result"
    }
   ],
   "source": [
    "instance.shape"
   ]
  },
  {
   "cell_type": "code",
   "execution_count": 54,
   "id": "c7f73020",
   "metadata": {
    "id": "c7f73020"
   },
   "outputs": [],
   "source": [
    "all_data=pd.merge(all_data,instance,on=\"id\",how=\"left\")"
   ]
  },
  {
   "cell_type": "code",
   "execution_count": 55,
   "id": "df08415d",
   "metadata": {
    "colab": {
     "base_uri": "https://localhost:8080/"
    },
    "id": "df08415d",
    "outputId": "7f2947cd-3d91-41c1-b650-6c47f7f12cc5"
   },
   "outputs": [
    {
     "data": {
      "text/plain": [
       "(284807, 30)"
      ]
     },
     "execution_count": 55,
     "metadata": {},
     "output_type": "execute_result"
    }
   ],
   "source": [
    "all_data.shape"
   ]
  },
  {
   "cell_type": "code",
   "execution_count": 56,
   "id": "6463038e",
   "metadata": {
    "colab": {
     "base_uri": "https://localhost:8080/",
     "height": 226
    },
    "id": "6463038e",
    "outputId": "63db22ce-f0b0-4e89-b727-6de49056dd28"
   },
   "outputs": [
    {
     "data": {
      "text/html": [
       "<div>\n",
       "<style scoped>\n",
       "    .dataframe tbody tr th:only-of-type {\n",
       "        vertical-align: middle;\n",
       "    }\n",
       "\n",
       "    .dataframe tbody tr th {\n",
       "        vertical-align: top;\n",
       "    }\n",
       "\n",
       "    .dataframe thead th {\n",
       "        text-align: right;\n",
       "    }\n",
       "</style>\n",
       "<table border=\"1\" class=\"dataframe\">\n",
       "  <thead>\n",
       "    <tr style=\"text-align: right;\">\n",
       "      <th></th>\n",
       "      <th>id</th>\n",
       "      <th>Group</th>\n",
       "      <th>Per1</th>\n",
       "      <th>Per2</th>\n",
       "      <th>Per3</th>\n",
       "      <th>Per4</th>\n",
       "      <th>Per5</th>\n",
       "      <th>Per6</th>\n",
       "      <th>Per7</th>\n",
       "      <th>Per8</th>\n",
       "      <th>Per9</th>\n",
       "      <th>Dem1</th>\n",
       "      <th>Dem2</th>\n",
       "      <th>Dem3</th>\n",
       "      <th>Dem4</th>\n",
       "      <th>Dem5</th>\n",
       "      <th>Dem6</th>\n",
       "      <th>Dem7</th>\n",
       "      <th>Dem8</th>\n",
       "      <th>Dem9</th>\n",
       "      <th>Cred1</th>\n",
       "      <th>Cred2</th>\n",
       "      <th>Cred3</th>\n",
       "      <th>Cred4</th>\n",
       "      <th>Cred5</th>\n",
       "      <th>Cred6</th>\n",
       "      <th>Normalised_FNT</th>\n",
       "      <th>Target</th>\n",
       "      <th>data</th>\n",
       "      <th>instance_scores</th>\n",
       "    </tr>\n",
       "  </thead>\n",
       "  <tbody>\n",
       "    <tr>\n",
       "      <th>0</th>\n",
       "      <td>112751</td>\n",
       "      <td>Grp169</td>\n",
       "      <td>1.070000</td>\n",
       "      <td>0.580000</td>\n",
       "      <td>0.480000</td>\n",
       "      <td>0.766667</td>\n",
       "      <td>1.233333</td>\n",
       "      <td>1.993333</td>\n",
       "      <td>0.340000</td>\n",
       "      <td>1.010000</td>\n",
       "      <td>0.863333</td>\n",
       "      <td>0.460000</td>\n",
       "      <td>0.643333</td>\n",
       "      <td>0.736667</td>\n",
       "      <td>0.756667</td>\n",
       "      <td>0.813333</td>\n",
       "      <td>0.693333</td>\n",
       "      <td>0.666667</td>\n",
       "      <td>0.680000</td>\n",
       "      <td>0.726667</td>\n",
       "      <td>0.606667</td>\n",
       "      <td>1.010000</td>\n",
       "      <td>0.933333</td>\n",
       "      <td>0.603333</td>\n",
       "      <td>0.686667</td>\n",
       "      <td>0.673333</td>\n",
       "      <td>-245.7500</td>\n",
       "      <td>0.0</td>\n",
       "      <td>train</td>\n",
       "      <td>-0.06</td>\n",
       "    </tr>\n",
       "    <tr>\n",
       "      <th>1</th>\n",
       "      <td>18495</td>\n",
       "      <td>Grp161</td>\n",
       "      <td>0.473333</td>\n",
       "      <td>1.206667</td>\n",
       "      <td>0.883333</td>\n",
       "      <td>1.430000</td>\n",
       "      <td>0.726667</td>\n",
       "      <td>0.626667</td>\n",
       "      <td>0.810000</td>\n",
       "      <td>0.783333</td>\n",
       "      <td>0.190000</td>\n",
       "      <td>0.470000</td>\n",
       "      <td>0.613333</td>\n",
       "      <td>0.883333</td>\n",
       "      <td>0.653333</td>\n",
       "      <td>0.463333</td>\n",
       "      <td>0.483333</td>\n",
       "      <td>0.583333</td>\n",
       "      <td>0.716667</td>\n",
       "      <td>0.743333</td>\n",
       "      <td>0.680000</td>\n",
       "      <td>0.690000</td>\n",
       "      <td>0.560000</td>\n",
       "      <td>0.670000</td>\n",
       "      <td>0.553333</td>\n",
       "      <td>0.653333</td>\n",
       "      <td>-248.0000</td>\n",
       "      <td>0.0</td>\n",
       "      <td>train</td>\n",
       "      <td>0.52</td>\n",
       "    </tr>\n",
       "    <tr>\n",
       "      <th>2</th>\n",
       "      <td>23915</td>\n",
       "      <td>Grp261</td>\n",
       "      <td>1.130000</td>\n",
       "      <td>0.143333</td>\n",
       "      <td>0.946667</td>\n",
       "      <td>0.123333</td>\n",
       "      <td>0.080000</td>\n",
       "      <td>0.836667</td>\n",
       "      <td>0.056667</td>\n",
       "      <td>0.756667</td>\n",
       "      <td>0.226667</td>\n",
       "      <td>0.660000</td>\n",
       "      <td>0.730000</td>\n",
       "      <td>0.873333</td>\n",
       "      <td>0.923333</td>\n",
       "      <td>1.223333</td>\n",
       "      <td>0.686667</td>\n",
       "      <td>0.606667</td>\n",
       "      <td>0.690000</td>\n",
       "      <td>0.820000</td>\n",
       "      <td>0.600000</td>\n",
       "      <td>0.383333</td>\n",
       "      <td>0.763333</td>\n",
       "      <td>0.670000</td>\n",
       "      <td>0.686667</td>\n",
       "      <td>0.673333</td>\n",
       "      <td>-233.1250</td>\n",
       "      <td>0.0</td>\n",
       "      <td>train</td>\n",
       "      <td>1.56</td>\n",
       "    </tr>\n",
       "    <tr>\n",
       "      <th>3</th>\n",
       "      <td>50806</td>\n",
       "      <td>Grp198</td>\n",
       "      <td>0.636667</td>\n",
       "      <td>1.090000</td>\n",
       "      <td>0.750000</td>\n",
       "      <td>0.940000</td>\n",
       "      <td>0.743333</td>\n",
       "      <td>0.346667</td>\n",
       "      <td>0.956667</td>\n",
       "      <td>0.633333</td>\n",
       "      <td>0.486667</td>\n",
       "      <td>1.096667</td>\n",
       "      <td>0.466667</td>\n",
       "      <td>0.670000</td>\n",
       "      <td>0.526667</td>\n",
       "      <td>0.783333</td>\n",
       "      <td>0.856667</td>\n",
       "      <td>0.716667</td>\n",
       "      <td>0.720000</td>\n",
       "      <td>0.900000</td>\n",
       "      <td>0.680000</td>\n",
       "      <td>0.846667</td>\n",
       "      <td>0.423333</td>\n",
       "      <td>0.520000</td>\n",
       "      <td>0.846667</td>\n",
       "      <td>0.760000</td>\n",
       "      <td>-249.7775</td>\n",
       "      <td>0.0</td>\n",
       "      <td>train</td>\n",
       "      <td>0.70</td>\n",
       "    </tr>\n",
       "    <tr>\n",
       "      <th>4</th>\n",
       "      <td>184244</td>\n",
       "      <td>Grp228</td>\n",
       "      <td>0.560000</td>\n",
       "      <td>1.013333</td>\n",
       "      <td>0.593333</td>\n",
       "      <td>0.416667</td>\n",
       "      <td>0.773333</td>\n",
       "      <td>0.460000</td>\n",
       "      <td>0.853333</td>\n",
       "      <td>0.796667</td>\n",
       "      <td>0.516667</td>\n",
       "      <td>0.756667</td>\n",
       "      <td>0.683333</td>\n",
       "      <td>0.296667</td>\n",
       "      <td>0.780000</td>\n",
       "      <td>0.636667</td>\n",
       "      <td>0.783333</td>\n",
       "      <td>0.630000</td>\n",
       "      <td>0.603333</td>\n",
       "      <td>0.486667</td>\n",
       "      <td>0.693333</td>\n",
       "      <td>0.526667</td>\n",
       "      <td>0.520000</td>\n",
       "      <td>0.716667</td>\n",
       "      <td>0.706667</td>\n",
       "      <td>0.673333</td>\n",
       "      <td>-247.5775</td>\n",
       "      <td>0.0</td>\n",
       "      <td>train</td>\n",
       "      <td>-0.47</td>\n",
       "    </tr>\n",
       "  </tbody>\n",
       "</table>\n",
       "</div>"
      ],
      "text/plain": [
       "       id   Group      Per1      Per2      Per3      Per4      Per5      Per6  \\\n",
       "0  112751  Grp169  1.070000  0.580000  0.480000  0.766667  1.233333  1.993333   \n",
       "1   18495  Grp161  0.473333  1.206667  0.883333  1.430000  0.726667  0.626667   \n",
       "2   23915  Grp261  1.130000  0.143333  0.946667  0.123333  0.080000  0.836667   \n",
       "3   50806  Grp198  0.636667  1.090000  0.750000  0.940000  0.743333  0.346667   \n",
       "4  184244  Grp228  0.560000  1.013333  0.593333  0.416667  0.773333  0.460000   \n",
       "\n",
       "       Per7      Per8      Per9      Dem1      Dem2      Dem3      Dem4  \\\n",
       "0  0.340000  1.010000  0.863333  0.460000  0.643333  0.736667  0.756667   \n",
       "1  0.810000  0.783333  0.190000  0.470000  0.613333  0.883333  0.653333   \n",
       "2  0.056667  0.756667  0.226667  0.660000  0.730000  0.873333  0.923333   \n",
       "3  0.956667  0.633333  0.486667  1.096667  0.466667  0.670000  0.526667   \n",
       "4  0.853333  0.796667  0.516667  0.756667  0.683333  0.296667  0.780000   \n",
       "\n",
       "       Dem5      Dem6      Dem7      Dem8      Dem9     Cred1     Cred2  \\\n",
       "0  0.813333  0.693333  0.666667  0.680000  0.726667  0.606667  1.010000   \n",
       "1  0.463333  0.483333  0.583333  0.716667  0.743333  0.680000  0.690000   \n",
       "2  1.223333  0.686667  0.606667  0.690000  0.820000  0.600000  0.383333   \n",
       "3  0.783333  0.856667  0.716667  0.720000  0.900000  0.680000  0.846667   \n",
       "4  0.636667  0.783333  0.630000  0.603333  0.486667  0.693333  0.526667   \n",
       "\n",
       "      Cred3     Cred4     Cred5     Cred6  Normalised_FNT  Target   data  \\\n",
       "0  0.933333  0.603333  0.686667  0.673333       -245.7500     0.0  train   \n",
       "1  0.560000  0.670000  0.553333  0.653333       -248.0000     0.0  train   \n",
       "2  0.763333  0.670000  0.686667  0.673333       -233.1250     0.0  train   \n",
       "3  0.423333  0.520000  0.846667  0.760000       -249.7775     0.0  train   \n",
       "4  0.520000  0.716667  0.706667  0.673333       -247.5775     0.0  train   \n",
       "\n",
       "   instance_scores  \n",
       "0            -0.06  \n",
       "1             0.52  \n",
       "2             1.56  \n",
       "3             0.70  \n",
       "4            -0.47  "
      ]
     },
     "execution_count": 56,
     "metadata": {},
     "output_type": "execute_result"
    }
   ],
   "source": [
    "all_data.head()"
   ]
  },
  {
   "cell_type": "markdown",
   "id": "4d3e829b",
   "metadata": {
    "id": "4d3e829b"
   },
   "source": [
    "# lambdawts"
   ]
  },
  {
   "cell_type": "code",
   "execution_count": 57,
   "id": "854b20d0",
   "metadata": {
    "colab": {
     "base_uri": "https://localhost:8080/"
    },
    "id": "854b20d0",
    "outputId": "bbacd1c2-25e1-40df-fa51-ab62a634791f"
   },
   "outputs": [
    {
     "data": {
      "text/plain": [
       "(1400, 2)"
      ]
     },
     "execution_count": 57,
     "metadata": {},
     "output_type": "execute_result"
    }
   ],
   "source": [
    "lambdawts.shape"
   ]
  },
  {
   "cell_type": "code",
   "execution_count": 58,
   "id": "18e34c09",
   "metadata": {
    "colab": {
     "base_uri": "https://localhost:8080/"
    },
    "id": "18e34c09",
    "outputId": "5846b513-45fe-4225-c4d0-4d736f70b359"
   },
   "outputs": [
    {
     "data": {
      "text/plain": [
       "1400"
      ]
     },
     "execution_count": 58,
     "metadata": {},
     "output_type": "execute_result"
    }
   ],
   "source": [
    "lambdawts[\"Group\"].nunique()"
   ]
  },
  {
   "cell_type": "code",
   "execution_count": 59,
   "id": "c87870b5",
   "metadata": {
    "colab": {
     "base_uri": "https://localhost:8080/"
    },
    "id": "c87870b5",
    "outputId": "743a9d4f-8bd3-43fb-bdda-525fed68667a"
   },
   "outputs": [
    {
     "data": {
      "text/plain": [
       "(284807, 30)"
      ]
     },
     "execution_count": 59,
     "metadata": {},
     "output_type": "execute_result"
    }
   ],
   "source": [
    "all_data.shape"
   ]
  },
  {
   "cell_type": "code",
   "execution_count": 60,
   "id": "f1a05d23",
   "metadata": {
    "colab": {
     "base_uri": "https://localhost:8080/"
    },
    "id": "f1a05d23",
    "outputId": "3fcc7ba1-8b74-472c-d226-3d2975540c1d"
   },
   "outputs": [
    {
     "data": {
      "text/plain": [
       "1400"
      ]
     },
     "execution_count": 60,
     "metadata": {},
     "output_type": "execute_result"
    }
   ],
   "source": [
    "all_data[\"Group\"].nunique()"
   ]
  },
  {
   "cell_type": "code",
   "execution_count": 61,
   "id": "d0ffa530",
   "metadata": {
    "id": "d0ffa530"
   },
   "outputs": [],
   "source": [
    "# The lambdwats contain data of  group which is in all data group so we need to merge it in one table"
   ]
  },
  {
   "cell_type": "code",
   "execution_count": 62,
   "id": "d321d310",
   "metadata": {
    "id": "d321d310"
   },
   "outputs": [],
   "source": [
    "all_data=pd.merge(all_data,lambdawts, on = \"Group\",how=\"left\")"
   ]
  },
  {
   "cell_type": "code",
   "execution_count": 63,
   "id": "e85ef464",
   "metadata": {
    "colab": {
     "base_uri": "https://localhost:8080/"
    },
    "id": "e85ef464",
    "outputId": "88b6b609-f3da-4136-a77f-ba4e601e836b"
   },
   "outputs": [
    {
     "data": {
      "text/plain": [
       "(284807, 31)"
      ]
     },
     "execution_count": 63,
     "metadata": {},
     "output_type": "execute_result"
    }
   ],
   "source": [
    "all_data.shape"
   ]
  },
  {
   "cell_type": "code",
   "execution_count": 64,
   "id": "6b426488",
   "metadata": {
    "colab": {
     "base_uri": "https://localhost:8080/",
     "height": 226
    },
    "id": "6b426488",
    "outputId": "236bce44-b646-4a8a-8578-a326640a770d"
   },
   "outputs": [
    {
     "data": {
      "text/html": [
       "<div>\n",
       "<style scoped>\n",
       "    .dataframe tbody tr th:only-of-type {\n",
       "        vertical-align: middle;\n",
       "    }\n",
       "\n",
       "    .dataframe tbody tr th {\n",
       "        vertical-align: top;\n",
       "    }\n",
       "\n",
       "    .dataframe thead th {\n",
       "        text-align: right;\n",
       "    }\n",
       "</style>\n",
       "<table border=\"1\" class=\"dataframe\">\n",
       "  <thead>\n",
       "    <tr style=\"text-align: right;\">\n",
       "      <th></th>\n",
       "      <th>id</th>\n",
       "      <th>Group</th>\n",
       "      <th>Per1</th>\n",
       "      <th>Per2</th>\n",
       "      <th>Per3</th>\n",
       "      <th>Per4</th>\n",
       "      <th>Per5</th>\n",
       "      <th>Per6</th>\n",
       "      <th>Per7</th>\n",
       "      <th>Per8</th>\n",
       "      <th>Per9</th>\n",
       "      <th>Dem1</th>\n",
       "      <th>Dem2</th>\n",
       "      <th>Dem3</th>\n",
       "      <th>Dem4</th>\n",
       "      <th>Dem5</th>\n",
       "      <th>Dem6</th>\n",
       "      <th>Dem7</th>\n",
       "      <th>Dem8</th>\n",
       "      <th>Dem9</th>\n",
       "      <th>Cred1</th>\n",
       "      <th>Cred2</th>\n",
       "      <th>Cred3</th>\n",
       "      <th>Cred4</th>\n",
       "      <th>Cred5</th>\n",
       "      <th>Cred6</th>\n",
       "      <th>Normalised_FNT</th>\n",
       "      <th>Target</th>\n",
       "      <th>data</th>\n",
       "      <th>instance_scores</th>\n",
       "      <th>lambda_wt</th>\n",
       "    </tr>\n",
       "  </thead>\n",
       "  <tbody>\n",
       "    <tr>\n",
       "      <th>0</th>\n",
       "      <td>112751</td>\n",
       "      <td>Grp169</td>\n",
       "      <td>1.070000</td>\n",
       "      <td>0.580000</td>\n",
       "      <td>0.480000</td>\n",
       "      <td>0.766667</td>\n",
       "      <td>1.233333</td>\n",
       "      <td>1.993333</td>\n",
       "      <td>0.340000</td>\n",
       "      <td>1.010000</td>\n",
       "      <td>0.863333</td>\n",
       "      <td>0.460000</td>\n",
       "      <td>0.643333</td>\n",
       "      <td>0.736667</td>\n",
       "      <td>0.756667</td>\n",
       "      <td>0.813333</td>\n",
       "      <td>0.693333</td>\n",
       "      <td>0.666667</td>\n",
       "      <td>0.680000</td>\n",
       "      <td>0.726667</td>\n",
       "      <td>0.606667</td>\n",
       "      <td>1.010000</td>\n",
       "      <td>0.933333</td>\n",
       "      <td>0.603333</td>\n",
       "      <td>0.686667</td>\n",
       "      <td>0.673333</td>\n",
       "      <td>-245.7500</td>\n",
       "      <td>0.0</td>\n",
       "      <td>train</td>\n",
       "      <td>-0.06</td>\n",
       "      <td>-0.13</td>\n",
       "    </tr>\n",
       "    <tr>\n",
       "      <th>1</th>\n",
       "      <td>18495</td>\n",
       "      <td>Grp161</td>\n",
       "      <td>0.473333</td>\n",
       "      <td>1.206667</td>\n",
       "      <td>0.883333</td>\n",
       "      <td>1.430000</td>\n",
       "      <td>0.726667</td>\n",
       "      <td>0.626667</td>\n",
       "      <td>0.810000</td>\n",
       "      <td>0.783333</td>\n",
       "      <td>0.190000</td>\n",
       "      <td>0.470000</td>\n",
       "      <td>0.613333</td>\n",
       "      <td>0.883333</td>\n",
       "      <td>0.653333</td>\n",
       "      <td>0.463333</td>\n",
       "      <td>0.483333</td>\n",
       "      <td>0.583333</td>\n",
       "      <td>0.716667</td>\n",
       "      <td>0.743333</td>\n",
       "      <td>0.680000</td>\n",
       "      <td>0.690000</td>\n",
       "      <td>0.560000</td>\n",
       "      <td>0.670000</td>\n",
       "      <td>0.553333</td>\n",
       "      <td>0.653333</td>\n",
       "      <td>-248.0000</td>\n",
       "      <td>0.0</td>\n",
       "      <td>train</td>\n",
       "      <td>0.52</td>\n",
       "      <td>0.66</td>\n",
       "    </tr>\n",
       "    <tr>\n",
       "      <th>2</th>\n",
       "      <td>23915</td>\n",
       "      <td>Grp261</td>\n",
       "      <td>1.130000</td>\n",
       "      <td>0.143333</td>\n",
       "      <td>0.946667</td>\n",
       "      <td>0.123333</td>\n",
       "      <td>0.080000</td>\n",
       "      <td>0.836667</td>\n",
       "      <td>0.056667</td>\n",
       "      <td>0.756667</td>\n",
       "      <td>0.226667</td>\n",
       "      <td>0.660000</td>\n",
       "      <td>0.730000</td>\n",
       "      <td>0.873333</td>\n",
       "      <td>0.923333</td>\n",
       "      <td>1.223333</td>\n",
       "      <td>0.686667</td>\n",
       "      <td>0.606667</td>\n",
       "      <td>0.690000</td>\n",
       "      <td>0.820000</td>\n",
       "      <td>0.600000</td>\n",
       "      <td>0.383333</td>\n",
       "      <td>0.763333</td>\n",
       "      <td>0.670000</td>\n",
       "      <td>0.686667</td>\n",
       "      <td>0.673333</td>\n",
       "      <td>-233.1250</td>\n",
       "      <td>0.0</td>\n",
       "      <td>train</td>\n",
       "      <td>1.56</td>\n",
       "      <td>-0.51</td>\n",
       "    </tr>\n",
       "    <tr>\n",
       "      <th>3</th>\n",
       "      <td>50806</td>\n",
       "      <td>Grp198</td>\n",
       "      <td>0.636667</td>\n",
       "      <td>1.090000</td>\n",
       "      <td>0.750000</td>\n",
       "      <td>0.940000</td>\n",
       "      <td>0.743333</td>\n",
       "      <td>0.346667</td>\n",
       "      <td>0.956667</td>\n",
       "      <td>0.633333</td>\n",
       "      <td>0.486667</td>\n",
       "      <td>1.096667</td>\n",
       "      <td>0.466667</td>\n",
       "      <td>0.670000</td>\n",
       "      <td>0.526667</td>\n",
       "      <td>0.783333</td>\n",
       "      <td>0.856667</td>\n",
       "      <td>0.716667</td>\n",
       "      <td>0.720000</td>\n",
       "      <td>0.900000</td>\n",
       "      <td>0.680000</td>\n",
       "      <td>0.846667</td>\n",
       "      <td>0.423333</td>\n",
       "      <td>0.520000</td>\n",
       "      <td>0.846667</td>\n",
       "      <td>0.760000</td>\n",
       "      <td>-249.7775</td>\n",
       "      <td>0.0</td>\n",
       "      <td>train</td>\n",
       "      <td>0.70</td>\n",
       "      <td>0.72</td>\n",
       "    </tr>\n",
       "    <tr>\n",
       "      <th>4</th>\n",
       "      <td>184244</td>\n",
       "      <td>Grp228</td>\n",
       "      <td>0.560000</td>\n",
       "      <td>1.013333</td>\n",
       "      <td>0.593333</td>\n",
       "      <td>0.416667</td>\n",
       "      <td>0.773333</td>\n",
       "      <td>0.460000</td>\n",
       "      <td>0.853333</td>\n",
       "      <td>0.796667</td>\n",
       "      <td>0.516667</td>\n",
       "      <td>0.756667</td>\n",
       "      <td>0.683333</td>\n",
       "      <td>0.296667</td>\n",
       "      <td>0.780000</td>\n",
       "      <td>0.636667</td>\n",
       "      <td>0.783333</td>\n",
       "      <td>0.630000</td>\n",
       "      <td>0.603333</td>\n",
       "      <td>0.486667</td>\n",
       "      <td>0.693333</td>\n",
       "      <td>0.526667</td>\n",
       "      <td>0.520000</td>\n",
       "      <td>0.716667</td>\n",
       "      <td>0.706667</td>\n",
       "      <td>0.673333</td>\n",
       "      <td>-247.5775</td>\n",
       "      <td>0.0</td>\n",
       "      <td>train</td>\n",
       "      <td>-0.47</td>\n",
       "      <td>0.60</td>\n",
       "    </tr>\n",
       "  </tbody>\n",
       "</table>\n",
       "</div>"
      ],
      "text/plain": [
       "       id   Group      Per1      Per2      Per3      Per4      Per5      Per6  \\\n",
       "0  112751  Grp169  1.070000  0.580000  0.480000  0.766667  1.233333  1.993333   \n",
       "1   18495  Grp161  0.473333  1.206667  0.883333  1.430000  0.726667  0.626667   \n",
       "2   23915  Grp261  1.130000  0.143333  0.946667  0.123333  0.080000  0.836667   \n",
       "3   50806  Grp198  0.636667  1.090000  0.750000  0.940000  0.743333  0.346667   \n",
       "4  184244  Grp228  0.560000  1.013333  0.593333  0.416667  0.773333  0.460000   \n",
       "\n",
       "       Per7      Per8      Per9      Dem1      Dem2      Dem3      Dem4  \\\n",
       "0  0.340000  1.010000  0.863333  0.460000  0.643333  0.736667  0.756667   \n",
       "1  0.810000  0.783333  0.190000  0.470000  0.613333  0.883333  0.653333   \n",
       "2  0.056667  0.756667  0.226667  0.660000  0.730000  0.873333  0.923333   \n",
       "3  0.956667  0.633333  0.486667  1.096667  0.466667  0.670000  0.526667   \n",
       "4  0.853333  0.796667  0.516667  0.756667  0.683333  0.296667  0.780000   \n",
       "\n",
       "       Dem5      Dem6      Dem7      Dem8      Dem9     Cred1     Cred2  \\\n",
       "0  0.813333  0.693333  0.666667  0.680000  0.726667  0.606667  1.010000   \n",
       "1  0.463333  0.483333  0.583333  0.716667  0.743333  0.680000  0.690000   \n",
       "2  1.223333  0.686667  0.606667  0.690000  0.820000  0.600000  0.383333   \n",
       "3  0.783333  0.856667  0.716667  0.720000  0.900000  0.680000  0.846667   \n",
       "4  0.636667  0.783333  0.630000  0.603333  0.486667  0.693333  0.526667   \n",
       "\n",
       "      Cred3     Cred4     Cred5     Cred6  Normalised_FNT  Target   data  \\\n",
       "0  0.933333  0.603333  0.686667  0.673333       -245.7500     0.0  train   \n",
       "1  0.560000  0.670000  0.553333  0.653333       -248.0000     0.0  train   \n",
       "2  0.763333  0.670000  0.686667  0.673333       -233.1250     0.0  train   \n",
       "3  0.423333  0.520000  0.846667  0.760000       -249.7775     0.0  train   \n",
       "4  0.520000  0.716667  0.706667  0.673333       -247.5775     0.0  train   \n",
       "\n",
       "   instance_scores  lambda_wt  \n",
       "0            -0.06      -0.13  \n",
       "1             0.52       0.66  \n",
       "2             1.56      -0.51  \n",
       "3             0.70       0.72  \n",
       "4            -0.47       0.60  "
      ]
     },
     "execution_count": 64,
     "metadata": {},
     "output_type": "execute_result"
    }
   ],
   "source": [
    "all_data.head()"
   ]
  },
  {
   "cell_type": "markdown",
   "id": "50204615",
   "metadata": {
    "id": "50204615"
   },
   "source": [
    "# QSET"
   ]
  },
  {
   "cell_type": "code",
   "execution_count": 65,
   "id": "c8190625",
   "metadata": {
    "colab": {
     "base_uri": "https://localhost:8080/"
    },
    "id": "c8190625",
    "outputId": "7a4e96d0-94d7-461e-bf9f-b12b4148d6c1",
    "scrolled": true
   },
   "outputs": [
    {
     "data": {
      "text/plain": [
       "284807"
      ]
     },
     "execution_count": 65,
     "metadata": {},
     "output_type": "execute_result"
    }
   ],
   "source": [
    "qset[\"id\"].nunique()"
   ]
  },
  {
   "cell_type": "code",
   "execution_count": 66,
   "id": "d5569bb6",
   "metadata": {
    "colab": {
     "base_uri": "https://localhost:8080/"
    },
    "id": "d5569bb6",
    "outputId": "4937b884-ee5e-43f4-db9c-f5c522bc9363"
   },
   "outputs": [
    {
     "data": {
      "text/plain": [
       "(1424035, 2)"
      ]
     },
     "execution_count": 66,
     "metadata": {},
     "output_type": "execute_result"
    }
   ],
   "source": [
    "qset.shape"
   ]
  },
  {
   "cell_type": "code",
   "execution_count": 67,
   "id": "e5d64941",
   "metadata": {
    "id": "e5d64941"
   },
   "outputs": [],
   "source": [
    "qset=qset.groupby(\"id\").mean()"
   ]
  },
  {
   "cell_type": "code",
   "execution_count": 68,
   "id": "42c4b9ae",
   "metadata": {
    "colab": {
     "base_uri": "https://localhost:8080/"
    },
    "id": "42c4b9ae",
    "outputId": "396b8992-e4ad-406e-adaa-73e63c82f5c7"
   },
   "outputs": [
    {
     "data": {
      "text/plain": [
       "(284807, 0)"
      ]
     },
     "execution_count": 68,
     "metadata": {},
     "output_type": "execute_result"
    }
   ],
   "source": [
    "qset.shape"
   ]
  },
  {
   "cell_type": "code",
   "execution_count": 69,
   "id": "14850eb2",
   "metadata": {
    "id": "14850eb2"
   },
   "outputs": [],
   "source": [
    "all_data=pd.merge(all_data, qset, on = \"id\",how=\"left\")"
   ]
  },
  {
   "cell_type": "code",
   "execution_count": 70,
   "id": "aa0100b4",
   "metadata": {
    "colab": {
     "base_uri": "https://localhost:8080/",
     "height": 226
    },
    "id": "aa0100b4",
    "outputId": "7f68c97d-4875-4766-fd93-28b5e3847fd5"
   },
   "outputs": [
    {
     "data": {
      "text/html": [
       "<div>\n",
       "<style scoped>\n",
       "    .dataframe tbody tr th:only-of-type {\n",
       "        vertical-align: middle;\n",
       "    }\n",
       "\n",
       "    .dataframe tbody tr th {\n",
       "        vertical-align: top;\n",
       "    }\n",
       "\n",
       "    .dataframe thead th {\n",
       "        text-align: right;\n",
       "    }\n",
       "</style>\n",
       "<table border=\"1\" class=\"dataframe\">\n",
       "  <thead>\n",
       "    <tr style=\"text-align: right;\">\n",
       "      <th></th>\n",
       "      <th>id</th>\n",
       "      <th>Group</th>\n",
       "      <th>Per1</th>\n",
       "      <th>Per2</th>\n",
       "      <th>Per3</th>\n",
       "      <th>Per4</th>\n",
       "      <th>Per5</th>\n",
       "      <th>Per6</th>\n",
       "      <th>Per7</th>\n",
       "      <th>Per8</th>\n",
       "      <th>Per9</th>\n",
       "      <th>Dem1</th>\n",
       "      <th>Dem2</th>\n",
       "      <th>Dem3</th>\n",
       "      <th>Dem4</th>\n",
       "      <th>Dem5</th>\n",
       "      <th>Dem6</th>\n",
       "      <th>Dem7</th>\n",
       "      <th>Dem8</th>\n",
       "      <th>Dem9</th>\n",
       "      <th>Cred1</th>\n",
       "      <th>Cred2</th>\n",
       "      <th>Cred3</th>\n",
       "      <th>Cred4</th>\n",
       "      <th>Cred5</th>\n",
       "      <th>Cred6</th>\n",
       "      <th>Normalised_FNT</th>\n",
       "      <th>Target</th>\n",
       "      <th>data</th>\n",
       "      <th>instance_scores</th>\n",
       "      <th>lambda_wt</th>\n",
       "    </tr>\n",
       "  </thead>\n",
       "  <tbody>\n",
       "    <tr>\n",
       "      <th>0</th>\n",
       "      <td>112751</td>\n",
       "      <td>Grp169</td>\n",
       "      <td>1.070000</td>\n",
       "      <td>0.580000</td>\n",
       "      <td>0.480000</td>\n",
       "      <td>0.766667</td>\n",
       "      <td>1.233333</td>\n",
       "      <td>1.993333</td>\n",
       "      <td>0.340000</td>\n",
       "      <td>1.010000</td>\n",
       "      <td>0.863333</td>\n",
       "      <td>0.460000</td>\n",
       "      <td>0.643333</td>\n",
       "      <td>0.736667</td>\n",
       "      <td>0.756667</td>\n",
       "      <td>0.813333</td>\n",
       "      <td>0.693333</td>\n",
       "      <td>0.666667</td>\n",
       "      <td>0.680000</td>\n",
       "      <td>0.726667</td>\n",
       "      <td>0.606667</td>\n",
       "      <td>1.010000</td>\n",
       "      <td>0.933333</td>\n",
       "      <td>0.603333</td>\n",
       "      <td>0.686667</td>\n",
       "      <td>0.673333</td>\n",
       "      <td>-245.7500</td>\n",
       "      <td>0.0</td>\n",
       "      <td>train</td>\n",
       "      <td>-0.06</td>\n",
       "      <td>-0.13</td>\n",
       "    </tr>\n",
       "    <tr>\n",
       "      <th>1</th>\n",
       "      <td>18495</td>\n",
       "      <td>Grp161</td>\n",
       "      <td>0.473333</td>\n",
       "      <td>1.206667</td>\n",
       "      <td>0.883333</td>\n",
       "      <td>1.430000</td>\n",
       "      <td>0.726667</td>\n",
       "      <td>0.626667</td>\n",
       "      <td>0.810000</td>\n",
       "      <td>0.783333</td>\n",
       "      <td>0.190000</td>\n",
       "      <td>0.470000</td>\n",
       "      <td>0.613333</td>\n",
       "      <td>0.883333</td>\n",
       "      <td>0.653333</td>\n",
       "      <td>0.463333</td>\n",
       "      <td>0.483333</td>\n",
       "      <td>0.583333</td>\n",
       "      <td>0.716667</td>\n",
       "      <td>0.743333</td>\n",
       "      <td>0.680000</td>\n",
       "      <td>0.690000</td>\n",
       "      <td>0.560000</td>\n",
       "      <td>0.670000</td>\n",
       "      <td>0.553333</td>\n",
       "      <td>0.653333</td>\n",
       "      <td>-248.0000</td>\n",
       "      <td>0.0</td>\n",
       "      <td>train</td>\n",
       "      <td>0.52</td>\n",
       "      <td>0.66</td>\n",
       "    </tr>\n",
       "    <tr>\n",
       "      <th>2</th>\n",
       "      <td>23915</td>\n",
       "      <td>Grp261</td>\n",
       "      <td>1.130000</td>\n",
       "      <td>0.143333</td>\n",
       "      <td>0.946667</td>\n",
       "      <td>0.123333</td>\n",
       "      <td>0.080000</td>\n",
       "      <td>0.836667</td>\n",
       "      <td>0.056667</td>\n",
       "      <td>0.756667</td>\n",
       "      <td>0.226667</td>\n",
       "      <td>0.660000</td>\n",
       "      <td>0.730000</td>\n",
       "      <td>0.873333</td>\n",
       "      <td>0.923333</td>\n",
       "      <td>1.223333</td>\n",
       "      <td>0.686667</td>\n",
       "      <td>0.606667</td>\n",
       "      <td>0.690000</td>\n",
       "      <td>0.820000</td>\n",
       "      <td>0.600000</td>\n",
       "      <td>0.383333</td>\n",
       "      <td>0.763333</td>\n",
       "      <td>0.670000</td>\n",
       "      <td>0.686667</td>\n",
       "      <td>0.673333</td>\n",
       "      <td>-233.1250</td>\n",
       "      <td>0.0</td>\n",
       "      <td>train</td>\n",
       "      <td>1.56</td>\n",
       "      <td>-0.51</td>\n",
       "    </tr>\n",
       "    <tr>\n",
       "      <th>3</th>\n",
       "      <td>50806</td>\n",
       "      <td>Grp198</td>\n",
       "      <td>0.636667</td>\n",
       "      <td>1.090000</td>\n",
       "      <td>0.750000</td>\n",
       "      <td>0.940000</td>\n",
       "      <td>0.743333</td>\n",
       "      <td>0.346667</td>\n",
       "      <td>0.956667</td>\n",
       "      <td>0.633333</td>\n",
       "      <td>0.486667</td>\n",
       "      <td>1.096667</td>\n",
       "      <td>0.466667</td>\n",
       "      <td>0.670000</td>\n",
       "      <td>0.526667</td>\n",
       "      <td>0.783333</td>\n",
       "      <td>0.856667</td>\n",
       "      <td>0.716667</td>\n",
       "      <td>0.720000</td>\n",
       "      <td>0.900000</td>\n",
       "      <td>0.680000</td>\n",
       "      <td>0.846667</td>\n",
       "      <td>0.423333</td>\n",
       "      <td>0.520000</td>\n",
       "      <td>0.846667</td>\n",
       "      <td>0.760000</td>\n",
       "      <td>-249.7775</td>\n",
       "      <td>0.0</td>\n",
       "      <td>train</td>\n",
       "      <td>0.70</td>\n",
       "      <td>0.72</td>\n",
       "    </tr>\n",
       "    <tr>\n",
       "      <th>4</th>\n",
       "      <td>184244</td>\n",
       "      <td>Grp228</td>\n",
       "      <td>0.560000</td>\n",
       "      <td>1.013333</td>\n",
       "      <td>0.593333</td>\n",
       "      <td>0.416667</td>\n",
       "      <td>0.773333</td>\n",
       "      <td>0.460000</td>\n",
       "      <td>0.853333</td>\n",
       "      <td>0.796667</td>\n",
       "      <td>0.516667</td>\n",
       "      <td>0.756667</td>\n",
       "      <td>0.683333</td>\n",
       "      <td>0.296667</td>\n",
       "      <td>0.780000</td>\n",
       "      <td>0.636667</td>\n",
       "      <td>0.783333</td>\n",
       "      <td>0.630000</td>\n",
       "      <td>0.603333</td>\n",
       "      <td>0.486667</td>\n",
       "      <td>0.693333</td>\n",
       "      <td>0.526667</td>\n",
       "      <td>0.520000</td>\n",
       "      <td>0.716667</td>\n",
       "      <td>0.706667</td>\n",
       "      <td>0.673333</td>\n",
       "      <td>-247.5775</td>\n",
       "      <td>0.0</td>\n",
       "      <td>train</td>\n",
       "      <td>-0.47</td>\n",
       "      <td>0.60</td>\n",
       "    </tr>\n",
       "  </tbody>\n",
       "</table>\n",
       "</div>"
      ],
      "text/plain": [
       "       id   Group      Per1      Per2      Per3      Per4      Per5      Per6  \\\n",
       "0  112751  Grp169  1.070000  0.580000  0.480000  0.766667  1.233333  1.993333   \n",
       "1   18495  Grp161  0.473333  1.206667  0.883333  1.430000  0.726667  0.626667   \n",
       "2   23915  Grp261  1.130000  0.143333  0.946667  0.123333  0.080000  0.836667   \n",
       "3   50806  Grp198  0.636667  1.090000  0.750000  0.940000  0.743333  0.346667   \n",
       "4  184244  Grp228  0.560000  1.013333  0.593333  0.416667  0.773333  0.460000   \n",
       "\n",
       "       Per7      Per8      Per9      Dem1      Dem2      Dem3      Dem4  \\\n",
       "0  0.340000  1.010000  0.863333  0.460000  0.643333  0.736667  0.756667   \n",
       "1  0.810000  0.783333  0.190000  0.470000  0.613333  0.883333  0.653333   \n",
       "2  0.056667  0.756667  0.226667  0.660000  0.730000  0.873333  0.923333   \n",
       "3  0.956667  0.633333  0.486667  1.096667  0.466667  0.670000  0.526667   \n",
       "4  0.853333  0.796667  0.516667  0.756667  0.683333  0.296667  0.780000   \n",
       "\n",
       "       Dem5      Dem6      Dem7      Dem8      Dem9     Cred1     Cred2  \\\n",
       "0  0.813333  0.693333  0.666667  0.680000  0.726667  0.606667  1.010000   \n",
       "1  0.463333  0.483333  0.583333  0.716667  0.743333  0.680000  0.690000   \n",
       "2  1.223333  0.686667  0.606667  0.690000  0.820000  0.600000  0.383333   \n",
       "3  0.783333  0.856667  0.716667  0.720000  0.900000  0.680000  0.846667   \n",
       "4  0.636667  0.783333  0.630000  0.603333  0.486667  0.693333  0.526667   \n",
       "\n",
       "      Cred3     Cred4     Cred5     Cred6  Normalised_FNT  Target   data  \\\n",
       "0  0.933333  0.603333  0.686667  0.673333       -245.7500     0.0  train   \n",
       "1  0.560000  0.670000  0.553333  0.653333       -248.0000     0.0  train   \n",
       "2  0.763333  0.670000  0.686667  0.673333       -233.1250     0.0  train   \n",
       "3  0.423333  0.520000  0.846667  0.760000       -249.7775     0.0  train   \n",
       "4  0.520000  0.716667  0.706667  0.673333       -247.5775     0.0  train   \n",
       "\n",
       "   instance_scores  lambda_wt  \n",
       "0            -0.06      -0.13  \n",
       "1             0.52       0.66  \n",
       "2             1.56      -0.51  \n",
       "3             0.70       0.72  \n",
       "4            -0.47       0.60  "
      ]
     },
     "execution_count": 70,
     "metadata": {},
     "output_type": "execute_result"
    }
   ],
   "source": [
    "all_data.head()"
   ]
  },
  {
   "cell_type": "code",
   "execution_count": 71,
   "id": "753862d7",
   "metadata": {
    "colab": {
     "base_uri": "https://localhost:8080/"
    },
    "id": "753862d7",
    "outputId": "a08955ed-063e-4201-f122-73c21378db56"
   },
   "outputs": [
    {
     "data": {
      "text/plain": [
       "(284807, 31)"
      ]
     },
     "execution_count": 71,
     "metadata": {},
     "output_type": "execute_result"
    }
   ],
   "source": [
    "all_data.shape"
   ]
  },
  {
   "cell_type": "markdown",
   "id": "7ff0147b",
   "metadata": {
    "id": "7ff0147b"
   },
   "source": [
    "# Split the Train and test data"
   ]
  },
  {
   "cell_type": "code",
   "execution_count": 72,
   "id": "524de96c",
   "metadata": {
    "id": "524de96c"
   },
   "outputs": [],
   "source": [
    "train= all_data[all_data[\"data\"]==\"train\"]\n",
    "test = all_data[all_data[\"data\"]==\"test\"]"
   ]
  },
  {
   "cell_type": "code",
   "execution_count": 73,
   "id": "9230aea1",
   "metadata": {
    "colab": {
     "base_uri": "https://localhost:8080/"
    },
    "id": "9230aea1",
    "outputId": "3e2e310d-2f5c-4ad6-b8c7-901692cf5f8a"
   },
   "outputs": [
    {
     "name": "stdout",
     "output_type": "stream",
     "text": [
      "(227845, 31)\n",
      "(56962, 31)\n"
     ]
    }
   ],
   "source": [
    "print(train.shape)\n",
    "print(test.shape)"
   ]
  },
  {
   "cell_type": "markdown",
   "id": "4cf80304",
   "metadata": {
    "id": "4cf80304"
   },
   "source": [
    "# Target- Train dataset"
   ]
  },
  {
   "cell_type": "code",
   "execution_count": 74,
   "id": "47578b40",
   "metadata": {
    "id": "47578b40"
   },
   "outputs": [],
   "source": [
    "# split the data into independent and dependent variable"
   ]
  },
  {
   "cell_type": "code",
   "execution_count": 75,
   "id": "eb2caea7",
   "metadata": {
    "colab": {
     "base_uri": "https://localhost:8080/",
     "height": 338
    },
    "id": "eb2caea7",
    "outputId": "b4ba0c42-5f2f-4c26-f923-40445d4609b9"
   },
   "outputs": [],
   "source": [
    "x = train.drop([\"id\",\"Group\",\"Target\",\"data\"], axis =1)\n",
    "y = train[[\"Target\"]]"
   ]
  },
  {
   "cell_type": "code",
   "execution_count": 76,
   "id": "a946858d",
   "metadata": {
    "colab": {
     "base_uri": "https://localhost:8080/",
     "height": 226
    },
    "id": "a946858d",
    "outputId": "4126794d-044e-44a4-a555-818118adcc58"
   },
   "outputs": [
    {
     "data": {
      "text/html": [
       "<div>\n",
       "<style scoped>\n",
       "    .dataframe tbody tr th:only-of-type {\n",
       "        vertical-align: middle;\n",
       "    }\n",
       "\n",
       "    .dataframe tbody tr th {\n",
       "        vertical-align: top;\n",
       "    }\n",
       "\n",
       "    .dataframe thead th {\n",
       "        text-align: right;\n",
       "    }\n",
       "</style>\n",
       "<table border=\"1\" class=\"dataframe\">\n",
       "  <thead>\n",
       "    <tr style=\"text-align: right;\">\n",
       "      <th></th>\n",
       "      <th>Per1</th>\n",
       "      <th>Per2</th>\n",
       "      <th>Per3</th>\n",
       "      <th>Per4</th>\n",
       "      <th>Per5</th>\n",
       "      <th>Per6</th>\n",
       "      <th>Per7</th>\n",
       "      <th>Per8</th>\n",
       "      <th>Per9</th>\n",
       "      <th>Dem1</th>\n",
       "      <th>Dem2</th>\n",
       "      <th>Dem3</th>\n",
       "      <th>Dem4</th>\n",
       "      <th>Dem5</th>\n",
       "      <th>Dem6</th>\n",
       "      <th>Dem7</th>\n",
       "      <th>Dem8</th>\n",
       "      <th>Dem9</th>\n",
       "      <th>Cred1</th>\n",
       "      <th>Cred2</th>\n",
       "      <th>Cred3</th>\n",
       "      <th>Cred4</th>\n",
       "      <th>Cred5</th>\n",
       "      <th>Cred6</th>\n",
       "      <th>Normalised_FNT</th>\n",
       "      <th>instance_scores</th>\n",
       "      <th>lambda_wt</th>\n",
       "    </tr>\n",
       "  </thead>\n",
       "  <tbody>\n",
       "    <tr>\n",
       "      <th>0</th>\n",
       "      <td>1.070000</td>\n",
       "      <td>0.580000</td>\n",
       "      <td>0.480000</td>\n",
       "      <td>0.766667</td>\n",
       "      <td>1.233333</td>\n",
       "      <td>1.993333</td>\n",
       "      <td>0.340000</td>\n",
       "      <td>1.010000</td>\n",
       "      <td>0.863333</td>\n",
       "      <td>0.460000</td>\n",
       "      <td>0.643333</td>\n",
       "      <td>0.736667</td>\n",
       "      <td>0.756667</td>\n",
       "      <td>0.813333</td>\n",
       "      <td>0.693333</td>\n",
       "      <td>0.666667</td>\n",
       "      <td>0.680000</td>\n",
       "      <td>0.726667</td>\n",
       "      <td>0.606667</td>\n",
       "      <td>1.010000</td>\n",
       "      <td>0.933333</td>\n",
       "      <td>0.603333</td>\n",
       "      <td>0.686667</td>\n",
       "      <td>0.673333</td>\n",
       "      <td>-245.7500</td>\n",
       "      <td>-0.06</td>\n",
       "      <td>-0.13</td>\n",
       "    </tr>\n",
       "    <tr>\n",
       "      <th>1</th>\n",
       "      <td>0.473333</td>\n",
       "      <td>1.206667</td>\n",
       "      <td>0.883333</td>\n",
       "      <td>1.430000</td>\n",
       "      <td>0.726667</td>\n",
       "      <td>0.626667</td>\n",
       "      <td>0.810000</td>\n",
       "      <td>0.783333</td>\n",
       "      <td>0.190000</td>\n",
       "      <td>0.470000</td>\n",
       "      <td>0.613333</td>\n",
       "      <td>0.883333</td>\n",
       "      <td>0.653333</td>\n",
       "      <td>0.463333</td>\n",
       "      <td>0.483333</td>\n",
       "      <td>0.583333</td>\n",
       "      <td>0.716667</td>\n",
       "      <td>0.743333</td>\n",
       "      <td>0.680000</td>\n",
       "      <td>0.690000</td>\n",
       "      <td>0.560000</td>\n",
       "      <td>0.670000</td>\n",
       "      <td>0.553333</td>\n",
       "      <td>0.653333</td>\n",
       "      <td>-248.0000</td>\n",
       "      <td>0.52</td>\n",
       "      <td>0.66</td>\n",
       "    </tr>\n",
       "    <tr>\n",
       "      <th>2</th>\n",
       "      <td>1.130000</td>\n",
       "      <td>0.143333</td>\n",
       "      <td>0.946667</td>\n",
       "      <td>0.123333</td>\n",
       "      <td>0.080000</td>\n",
       "      <td>0.836667</td>\n",
       "      <td>0.056667</td>\n",
       "      <td>0.756667</td>\n",
       "      <td>0.226667</td>\n",
       "      <td>0.660000</td>\n",
       "      <td>0.730000</td>\n",
       "      <td>0.873333</td>\n",
       "      <td>0.923333</td>\n",
       "      <td>1.223333</td>\n",
       "      <td>0.686667</td>\n",
       "      <td>0.606667</td>\n",
       "      <td>0.690000</td>\n",
       "      <td>0.820000</td>\n",
       "      <td>0.600000</td>\n",
       "      <td>0.383333</td>\n",
       "      <td>0.763333</td>\n",
       "      <td>0.670000</td>\n",
       "      <td>0.686667</td>\n",
       "      <td>0.673333</td>\n",
       "      <td>-233.1250</td>\n",
       "      <td>1.56</td>\n",
       "      <td>-0.51</td>\n",
       "    </tr>\n",
       "    <tr>\n",
       "      <th>3</th>\n",
       "      <td>0.636667</td>\n",
       "      <td>1.090000</td>\n",
       "      <td>0.750000</td>\n",
       "      <td>0.940000</td>\n",
       "      <td>0.743333</td>\n",
       "      <td>0.346667</td>\n",
       "      <td>0.956667</td>\n",
       "      <td>0.633333</td>\n",
       "      <td>0.486667</td>\n",
       "      <td>1.096667</td>\n",
       "      <td>0.466667</td>\n",
       "      <td>0.670000</td>\n",
       "      <td>0.526667</td>\n",
       "      <td>0.783333</td>\n",
       "      <td>0.856667</td>\n",
       "      <td>0.716667</td>\n",
       "      <td>0.720000</td>\n",
       "      <td>0.900000</td>\n",
       "      <td>0.680000</td>\n",
       "      <td>0.846667</td>\n",
       "      <td>0.423333</td>\n",
       "      <td>0.520000</td>\n",
       "      <td>0.846667</td>\n",
       "      <td>0.760000</td>\n",
       "      <td>-249.7775</td>\n",
       "      <td>0.70</td>\n",
       "      <td>0.72</td>\n",
       "    </tr>\n",
       "    <tr>\n",
       "      <th>4</th>\n",
       "      <td>0.560000</td>\n",
       "      <td>1.013333</td>\n",
       "      <td>0.593333</td>\n",
       "      <td>0.416667</td>\n",
       "      <td>0.773333</td>\n",
       "      <td>0.460000</td>\n",
       "      <td>0.853333</td>\n",
       "      <td>0.796667</td>\n",
       "      <td>0.516667</td>\n",
       "      <td>0.756667</td>\n",
       "      <td>0.683333</td>\n",
       "      <td>0.296667</td>\n",
       "      <td>0.780000</td>\n",
       "      <td>0.636667</td>\n",
       "      <td>0.783333</td>\n",
       "      <td>0.630000</td>\n",
       "      <td>0.603333</td>\n",
       "      <td>0.486667</td>\n",
       "      <td>0.693333</td>\n",
       "      <td>0.526667</td>\n",
       "      <td>0.520000</td>\n",
       "      <td>0.716667</td>\n",
       "      <td>0.706667</td>\n",
       "      <td>0.673333</td>\n",
       "      <td>-247.5775</td>\n",
       "      <td>-0.47</td>\n",
       "      <td>0.60</td>\n",
       "    </tr>\n",
       "  </tbody>\n",
       "</table>\n",
       "</div>"
      ],
      "text/plain": [
       "       Per1      Per2      Per3      Per4      Per5      Per6      Per7  \\\n",
       "0  1.070000  0.580000  0.480000  0.766667  1.233333  1.993333  0.340000   \n",
       "1  0.473333  1.206667  0.883333  1.430000  0.726667  0.626667  0.810000   \n",
       "2  1.130000  0.143333  0.946667  0.123333  0.080000  0.836667  0.056667   \n",
       "3  0.636667  1.090000  0.750000  0.940000  0.743333  0.346667  0.956667   \n",
       "4  0.560000  1.013333  0.593333  0.416667  0.773333  0.460000  0.853333   \n",
       "\n",
       "       Per8      Per9      Dem1      Dem2      Dem3      Dem4      Dem5  \\\n",
       "0  1.010000  0.863333  0.460000  0.643333  0.736667  0.756667  0.813333   \n",
       "1  0.783333  0.190000  0.470000  0.613333  0.883333  0.653333  0.463333   \n",
       "2  0.756667  0.226667  0.660000  0.730000  0.873333  0.923333  1.223333   \n",
       "3  0.633333  0.486667  1.096667  0.466667  0.670000  0.526667  0.783333   \n",
       "4  0.796667  0.516667  0.756667  0.683333  0.296667  0.780000  0.636667   \n",
       "\n",
       "       Dem6      Dem7      Dem8      Dem9     Cred1     Cred2     Cred3  \\\n",
       "0  0.693333  0.666667  0.680000  0.726667  0.606667  1.010000  0.933333   \n",
       "1  0.483333  0.583333  0.716667  0.743333  0.680000  0.690000  0.560000   \n",
       "2  0.686667  0.606667  0.690000  0.820000  0.600000  0.383333  0.763333   \n",
       "3  0.856667  0.716667  0.720000  0.900000  0.680000  0.846667  0.423333   \n",
       "4  0.783333  0.630000  0.603333  0.486667  0.693333  0.526667  0.520000   \n",
       "\n",
       "      Cred4     Cred5     Cred6  Normalised_FNT  instance_scores  lambda_wt  \n",
       "0  0.603333  0.686667  0.673333       -245.7500            -0.06      -0.13  \n",
       "1  0.670000  0.553333  0.653333       -248.0000             0.52       0.66  \n",
       "2  0.670000  0.686667  0.673333       -233.1250             1.56      -0.51  \n",
       "3  0.520000  0.846667  0.760000       -249.7775             0.70       0.72  \n",
       "4  0.716667  0.706667  0.673333       -247.5775            -0.47       0.60  "
      ]
     },
     "execution_count": 76,
     "metadata": {},
     "output_type": "execute_result"
    }
   ],
   "source": [
    "x.head()"
   ]
  },
  {
   "cell_type": "code",
   "execution_count": 77,
   "id": "556a228e",
   "metadata": {
    "colab": {
     "base_uri": "https://localhost:8080/",
     "height": 206
    },
    "id": "556a228e",
    "outputId": "63513db3-5d77-4718-aaa3-e851d45eda7b"
   },
   "outputs": [
    {
     "data": {
      "text/html": [
       "<div>\n",
       "<style scoped>\n",
       "    .dataframe tbody tr th:only-of-type {\n",
       "        vertical-align: middle;\n",
       "    }\n",
       "\n",
       "    .dataframe tbody tr th {\n",
       "        vertical-align: top;\n",
       "    }\n",
       "\n",
       "    .dataframe thead th {\n",
       "        text-align: right;\n",
       "    }\n",
       "</style>\n",
       "<table border=\"1\" class=\"dataframe\">\n",
       "  <thead>\n",
       "    <tr style=\"text-align: right;\">\n",
       "      <th></th>\n",
       "      <th>Target</th>\n",
       "    </tr>\n",
       "  </thead>\n",
       "  <tbody>\n",
       "    <tr>\n",
       "      <th>0</th>\n",
       "      <td>0.0</td>\n",
       "    </tr>\n",
       "    <tr>\n",
       "      <th>1</th>\n",
       "      <td>0.0</td>\n",
       "    </tr>\n",
       "    <tr>\n",
       "      <th>2</th>\n",
       "      <td>0.0</td>\n",
       "    </tr>\n",
       "    <tr>\n",
       "      <th>3</th>\n",
       "      <td>0.0</td>\n",
       "    </tr>\n",
       "    <tr>\n",
       "      <th>4</th>\n",
       "      <td>0.0</td>\n",
       "    </tr>\n",
       "  </tbody>\n",
       "</table>\n",
       "</div>"
      ],
      "text/plain": [
       "   Target\n",
       "0     0.0\n",
       "1     0.0\n",
       "2     0.0\n",
       "3     0.0\n",
       "4     0.0"
      ]
     },
     "execution_count": 77,
     "metadata": {},
     "output_type": "execute_result"
    }
   ],
   "source": [
    "y.head()"
   ]
  },
  {
   "cell_type": "markdown",
   "id": "1f53af2f",
   "metadata": {
    "id": "1f53af2f"
   },
   "source": [
    "# Test data"
   ]
  },
  {
   "cell_type": "code",
   "execution_count": 78,
   "id": "6d5ecd83",
   "metadata": {
    "colab": {
     "base_uri": "https://localhost:8080/",
     "height": 226
    },
    "id": "6d5ecd83",
    "outputId": "14755a04-ac9e-4047-867b-247ac65df037"
   },
   "outputs": [
    {
     "data": {
      "text/html": [
       "<div>\n",
       "<style scoped>\n",
       "    .dataframe tbody tr th:only-of-type {\n",
       "        vertical-align: middle;\n",
       "    }\n",
       "\n",
       "    .dataframe tbody tr th {\n",
       "        vertical-align: top;\n",
       "    }\n",
       "\n",
       "    .dataframe thead th {\n",
       "        text-align: right;\n",
       "    }\n",
       "</style>\n",
       "<table border=\"1\" class=\"dataframe\">\n",
       "  <thead>\n",
       "    <tr style=\"text-align: right;\">\n",
       "      <th></th>\n",
       "      <th>id</th>\n",
       "      <th>Group</th>\n",
       "      <th>Per1</th>\n",
       "      <th>Per2</th>\n",
       "      <th>Per3</th>\n",
       "      <th>Per4</th>\n",
       "      <th>Per5</th>\n",
       "      <th>Per6</th>\n",
       "      <th>Per7</th>\n",
       "      <th>Per8</th>\n",
       "      <th>Per9</th>\n",
       "      <th>Dem1</th>\n",
       "      <th>Dem2</th>\n",
       "      <th>Dem3</th>\n",
       "      <th>Dem4</th>\n",
       "      <th>Dem5</th>\n",
       "      <th>Dem6</th>\n",
       "      <th>Dem7</th>\n",
       "      <th>Dem8</th>\n",
       "      <th>Dem9</th>\n",
       "      <th>Cred1</th>\n",
       "      <th>Cred2</th>\n",
       "      <th>Cred3</th>\n",
       "      <th>Cred4</th>\n",
       "      <th>Cred5</th>\n",
       "      <th>Cred6</th>\n",
       "      <th>Normalised_FNT</th>\n",
       "      <th>Target</th>\n",
       "      <th>data</th>\n",
       "      <th>instance_scores</th>\n",
       "      <th>lambda_wt</th>\n",
       "    </tr>\n",
       "  </thead>\n",
       "  <tbody>\n",
       "    <tr>\n",
       "      <th>227845</th>\n",
       "      <td>146574</td>\n",
       "      <td>Grp229</td>\n",
       "      <td>-0.300000</td>\n",
       "      <td>1.540000</td>\n",
       "      <td>0.220000</td>\n",
       "      <td>-0.280000</td>\n",
       "      <td>0.570000</td>\n",
       "      <td>0.260000</td>\n",
       "      <td>0.700000</td>\n",
       "      <td>1.076667</td>\n",
       "      <td>0.930000</td>\n",
       "      <td>0.156667</td>\n",
       "      <td>0.546667</td>\n",
       "      <td>0.530000</td>\n",
       "      <td>0.876667</td>\n",
       "      <td>0.450000</td>\n",
       "      <td>0.370000</td>\n",
       "      <td>0.786667</td>\n",
       "      <td>0.546667</td>\n",
       "      <td>0.313333</td>\n",
       "      <td>0.703333</td>\n",
       "      <td>0.813333</td>\n",
       "      <td>0.776667</td>\n",
       "      <td>0.796667</td>\n",
       "      <td>0.823333</td>\n",
       "      <td>0.783333</td>\n",
       "      <td>-249.7500</td>\n",
       "      <td>NaN</td>\n",
       "      <td>test</td>\n",
       "      <td>-0.04</td>\n",
       "      <td>0.76</td>\n",
       "    </tr>\n",
       "    <tr>\n",
       "      <th>227846</th>\n",
       "      <td>268759</td>\n",
       "      <td>Grp141</td>\n",
       "      <td>0.633333</td>\n",
       "      <td>0.953333</td>\n",
       "      <td>0.810000</td>\n",
       "      <td>0.466667</td>\n",
       "      <td>0.910000</td>\n",
       "      <td>0.253333</td>\n",
       "      <td>1.040000</td>\n",
       "      <td>0.550000</td>\n",
       "      <td>0.543333</td>\n",
       "      <td>0.433333</td>\n",
       "      <td>0.966667</td>\n",
       "      <td>0.760000</td>\n",
       "      <td>0.576667</td>\n",
       "      <td>0.653333</td>\n",
       "      <td>0.553333</td>\n",
       "      <td>0.636667</td>\n",
       "      <td>0.770000</td>\n",
       "      <td>0.993333</td>\n",
       "      <td>0.536667</td>\n",
       "      <td>0.703333</td>\n",
       "      <td>0.806667</td>\n",
       "      <td>0.630000</td>\n",
       "      <td>0.673333</td>\n",
       "      <td>0.673333</td>\n",
       "      <td>-249.8125</td>\n",
       "      <td>NaN</td>\n",
       "      <td>test</td>\n",
       "      <td>-0.77</td>\n",
       "      <td>0.18</td>\n",
       "    </tr>\n",
       "    <tr>\n",
       "      <th>227847</th>\n",
       "      <td>59727</td>\n",
       "      <td>Grp188</td>\n",
       "      <td>1.043333</td>\n",
       "      <td>0.740000</td>\n",
       "      <td>0.860000</td>\n",
       "      <td>1.006667</td>\n",
       "      <td>0.583333</td>\n",
       "      <td>0.616667</td>\n",
       "      <td>0.630000</td>\n",
       "      <td>0.686667</td>\n",
       "      <td>0.593333</td>\n",
       "      <td>1.250000</td>\n",
       "      <td>0.826667</td>\n",
       "      <td>0.826667</td>\n",
       "      <td>0.653333</td>\n",
       "      <td>0.663333</td>\n",
       "      <td>0.453333</td>\n",
       "      <td>0.626667</td>\n",
       "      <td>0.756667</td>\n",
       "      <td>0.953333</td>\n",
       "      <td>0.623333</td>\n",
       "      <td>0.753333</td>\n",
       "      <td>0.870000</td>\n",
       "      <td>0.596667</td>\n",
       "      <td>0.680000</td>\n",
       "      <td>0.670000</td>\n",
       "      <td>-248.1200</td>\n",
       "      <td>NaN</td>\n",
       "      <td>test</td>\n",
       "      <td>0.11</td>\n",
       "      <td>0.39</td>\n",
       "    </tr>\n",
       "    <tr>\n",
       "      <th>227848</th>\n",
       "      <td>151544</td>\n",
       "      <td>Grp426</td>\n",
       "      <td>1.283333</td>\n",
       "      <td>0.300000</td>\n",
       "      <td>0.576667</td>\n",
       "      <td>0.636667</td>\n",
       "      <td>0.256667</td>\n",
       "      <td>0.543333</td>\n",
       "      <td>0.356667</td>\n",
       "      <td>0.663333</td>\n",
       "      <td>1.156667</td>\n",
       "      <td>1.186667</td>\n",
       "      <td>0.900000</td>\n",
       "      <td>0.433333</td>\n",
       "      <td>0.230000</td>\n",
       "      <td>1.323333</td>\n",
       "      <td>0.403333</td>\n",
       "      <td>0.480000</td>\n",
       "      <td>0.460000</td>\n",
       "      <td>0.260000</td>\n",
       "      <td>0.800000</td>\n",
       "      <td>0.606667</td>\n",
       "      <td>0.456667</td>\n",
       "      <td>0.320000</td>\n",
       "      <td>0.676667</td>\n",
       "      <td>0.660000</td>\n",
       "      <td>-222.9875</td>\n",
       "      <td>NaN</td>\n",
       "      <td>test</td>\n",
       "      <td>0.33</td>\n",
       "      <td>1.80</td>\n",
       "    </tr>\n",
       "    <tr>\n",
       "      <th>227849</th>\n",
       "      <td>155008</td>\n",
       "      <td>Grp443</td>\n",
       "      <td>1.186667</td>\n",
       "      <td>0.326667</td>\n",
       "      <td>0.476667</td>\n",
       "      <td>0.866667</td>\n",
       "      <td>0.436667</td>\n",
       "      <td>0.680000</td>\n",
       "      <td>0.476667</td>\n",
       "      <td>0.686667</td>\n",
       "      <td>1.476667</td>\n",
       "      <td>1.213333</td>\n",
       "      <td>0.853333</td>\n",
       "      <td>0.583333</td>\n",
       "      <td>0.850000</td>\n",
       "      <td>1.090000</td>\n",
       "      <td>0.550000</td>\n",
       "      <td>0.706667</td>\n",
       "      <td>0.740000</td>\n",
       "      <td>0.823333</td>\n",
       "      <td>0.670000</td>\n",
       "      <td>0.896667</td>\n",
       "      <td>0.566667</td>\n",
       "      <td>0.546667</td>\n",
       "      <td>0.650000</td>\n",
       "      <td>0.663333</td>\n",
       "      <td>-196.2200</td>\n",
       "      <td>NaN</td>\n",
       "      <td>test</td>\n",
       "      <td>-0.37</td>\n",
       "      <td>1.89</td>\n",
       "    </tr>\n",
       "  </tbody>\n",
       "</table>\n",
       "</div>"
      ],
      "text/plain": [
       "            id   Group      Per1      Per2      Per3      Per4      Per5  \\\n",
       "227845  146574  Grp229 -0.300000  1.540000  0.220000 -0.280000  0.570000   \n",
       "227846  268759  Grp141  0.633333  0.953333  0.810000  0.466667  0.910000   \n",
       "227847   59727  Grp188  1.043333  0.740000  0.860000  1.006667  0.583333   \n",
       "227848  151544  Grp426  1.283333  0.300000  0.576667  0.636667  0.256667   \n",
       "227849  155008  Grp443  1.186667  0.326667  0.476667  0.866667  0.436667   \n",
       "\n",
       "            Per6      Per7      Per8      Per9      Dem1      Dem2      Dem3  \\\n",
       "227845  0.260000  0.700000  1.076667  0.930000  0.156667  0.546667  0.530000   \n",
       "227846  0.253333  1.040000  0.550000  0.543333  0.433333  0.966667  0.760000   \n",
       "227847  0.616667  0.630000  0.686667  0.593333  1.250000  0.826667  0.826667   \n",
       "227848  0.543333  0.356667  0.663333  1.156667  1.186667  0.900000  0.433333   \n",
       "227849  0.680000  0.476667  0.686667  1.476667  1.213333  0.853333  0.583333   \n",
       "\n",
       "            Dem4      Dem5      Dem6      Dem7      Dem8      Dem9     Cred1  \\\n",
       "227845  0.876667  0.450000  0.370000  0.786667  0.546667  0.313333  0.703333   \n",
       "227846  0.576667  0.653333  0.553333  0.636667  0.770000  0.993333  0.536667   \n",
       "227847  0.653333  0.663333  0.453333  0.626667  0.756667  0.953333  0.623333   \n",
       "227848  0.230000  1.323333  0.403333  0.480000  0.460000  0.260000  0.800000   \n",
       "227849  0.850000  1.090000  0.550000  0.706667  0.740000  0.823333  0.670000   \n",
       "\n",
       "           Cred2     Cred3     Cred4     Cred5     Cred6  Normalised_FNT  \\\n",
       "227845  0.813333  0.776667  0.796667  0.823333  0.783333       -249.7500   \n",
       "227846  0.703333  0.806667  0.630000  0.673333  0.673333       -249.8125   \n",
       "227847  0.753333  0.870000  0.596667  0.680000  0.670000       -248.1200   \n",
       "227848  0.606667  0.456667  0.320000  0.676667  0.660000       -222.9875   \n",
       "227849  0.896667  0.566667  0.546667  0.650000  0.663333       -196.2200   \n",
       "\n",
       "        Target  data  instance_scores  lambda_wt  \n",
       "227845     NaN  test            -0.04       0.76  \n",
       "227846     NaN  test            -0.77       0.18  \n",
       "227847     NaN  test             0.11       0.39  \n",
       "227848     NaN  test             0.33       1.80  \n",
       "227849     NaN  test            -0.37       1.89  "
      ]
     },
     "execution_count": 78,
     "metadata": {},
     "output_type": "execute_result"
    }
   ],
   "source": [
    "\n",
    "test.head()"
   ]
  },
  {
   "cell_type": "code",
   "execution_count": 79,
   "id": "72f7f839",
   "metadata": {
    "id": "72f7f839"
   },
   "outputs": [],
   "source": [
    "test=test.drop([\"id\",\"Group\",\"Target\",\"data\"], axis= 1)"
   ]
  },
  {
   "cell_type": "code",
   "execution_count": 80,
   "id": "f219d333",
   "metadata": {
    "colab": {
     "base_uri": "https://localhost:8080/",
     "height": 226
    },
    "id": "f219d333",
    "outputId": "6710b5d3-86de-47e5-97a6-8e798e4a64c6"
   },
   "outputs": [
    {
     "data": {
      "text/html": [
       "<div>\n",
       "<style scoped>\n",
       "    .dataframe tbody tr th:only-of-type {\n",
       "        vertical-align: middle;\n",
       "    }\n",
       "\n",
       "    .dataframe tbody tr th {\n",
       "        vertical-align: top;\n",
       "    }\n",
       "\n",
       "    .dataframe thead th {\n",
       "        text-align: right;\n",
       "    }\n",
       "</style>\n",
       "<table border=\"1\" class=\"dataframe\">\n",
       "  <thead>\n",
       "    <tr style=\"text-align: right;\">\n",
       "      <th></th>\n",
       "      <th>Per1</th>\n",
       "      <th>Per2</th>\n",
       "      <th>Per3</th>\n",
       "      <th>Per4</th>\n",
       "      <th>Per5</th>\n",
       "      <th>Per6</th>\n",
       "      <th>Per7</th>\n",
       "      <th>Per8</th>\n",
       "      <th>Per9</th>\n",
       "      <th>Dem1</th>\n",
       "      <th>Dem2</th>\n",
       "      <th>Dem3</th>\n",
       "      <th>Dem4</th>\n",
       "      <th>Dem5</th>\n",
       "      <th>Dem6</th>\n",
       "      <th>Dem7</th>\n",
       "      <th>Dem8</th>\n",
       "      <th>Dem9</th>\n",
       "      <th>Cred1</th>\n",
       "      <th>Cred2</th>\n",
       "      <th>Cred3</th>\n",
       "      <th>Cred4</th>\n",
       "      <th>Cred5</th>\n",
       "      <th>Cred6</th>\n",
       "      <th>Normalised_FNT</th>\n",
       "      <th>instance_scores</th>\n",
       "      <th>lambda_wt</th>\n",
       "    </tr>\n",
       "  </thead>\n",
       "  <tbody>\n",
       "    <tr>\n",
       "      <th>227845</th>\n",
       "      <td>-0.300000</td>\n",
       "      <td>1.540000</td>\n",
       "      <td>0.220000</td>\n",
       "      <td>-0.280000</td>\n",
       "      <td>0.570000</td>\n",
       "      <td>0.260000</td>\n",
       "      <td>0.700000</td>\n",
       "      <td>1.076667</td>\n",
       "      <td>0.930000</td>\n",
       "      <td>0.156667</td>\n",
       "      <td>0.546667</td>\n",
       "      <td>0.530000</td>\n",
       "      <td>0.876667</td>\n",
       "      <td>0.450000</td>\n",
       "      <td>0.370000</td>\n",
       "      <td>0.786667</td>\n",
       "      <td>0.546667</td>\n",
       "      <td>0.313333</td>\n",
       "      <td>0.703333</td>\n",
       "      <td>0.813333</td>\n",
       "      <td>0.776667</td>\n",
       "      <td>0.796667</td>\n",
       "      <td>0.823333</td>\n",
       "      <td>0.783333</td>\n",
       "      <td>-249.7500</td>\n",
       "      <td>-0.04</td>\n",
       "      <td>0.76</td>\n",
       "    </tr>\n",
       "    <tr>\n",
       "      <th>227846</th>\n",
       "      <td>0.633333</td>\n",
       "      <td>0.953333</td>\n",
       "      <td>0.810000</td>\n",
       "      <td>0.466667</td>\n",
       "      <td>0.910000</td>\n",
       "      <td>0.253333</td>\n",
       "      <td>1.040000</td>\n",
       "      <td>0.550000</td>\n",
       "      <td>0.543333</td>\n",
       "      <td>0.433333</td>\n",
       "      <td>0.966667</td>\n",
       "      <td>0.760000</td>\n",
       "      <td>0.576667</td>\n",
       "      <td>0.653333</td>\n",
       "      <td>0.553333</td>\n",
       "      <td>0.636667</td>\n",
       "      <td>0.770000</td>\n",
       "      <td>0.993333</td>\n",
       "      <td>0.536667</td>\n",
       "      <td>0.703333</td>\n",
       "      <td>0.806667</td>\n",
       "      <td>0.630000</td>\n",
       "      <td>0.673333</td>\n",
       "      <td>0.673333</td>\n",
       "      <td>-249.8125</td>\n",
       "      <td>-0.77</td>\n",
       "      <td>0.18</td>\n",
       "    </tr>\n",
       "    <tr>\n",
       "      <th>227847</th>\n",
       "      <td>1.043333</td>\n",
       "      <td>0.740000</td>\n",
       "      <td>0.860000</td>\n",
       "      <td>1.006667</td>\n",
       "      <td>0.583333</td>\n",
       "      <td>0.616667</td>\n",
       "      <td>0.630000</td>\n",
       "      <td>0.686667</td>\n",
       "      <td>0.593333</td>\n",
       "      <td>1.250000</td>\n",
       "      <td>0.826667</td>\n",
       "      <td>0.826667</td>\n",
       "      <td>0.653333</td>\n",
       "      <td>0.663333</td>\n",
       "      <td>0.453333</td>\n",
       "      <td>0.626667</td>\n",
       "      <td>0.756667</td>\n",
       "      <td>0.953333</td>\n",
       "      <td>0.623333</td>\n",
       "      <td>0.753333</td>\n",
       "      <td>0.870000</td>\n",
       "      <td>0.596667</td>\n",
       "      <td>0.680000</td>\n",
       "      <td>0.670000</td>\n",
       "      <td>-248.1200</td>\n",
       "      <td>0.11</td>\n",
       "      <td>0.39</td>\n",
       "    </tr>\n",
       "    <tr>\n",
       "      <th>227848</th>\n",
       "      <td>1.283333</td>\n",
       "      <td>0.300000</td>\n",
       "      <td>0.576667</td>\n",
       "      <td>0.636667</td>\n",
       "      <td>0.256667</td>\n",
       "      <td>0.543333</td>\n",
       "      <td>0.356667</td>\n",
       "      <td>0.663333</td>\n",
       "      <td>1.156667</td>\n",
       "      <td>1.186667</td>\n",
       "      <td>0.900000</td>\n",
       "      <td>0.433333</td>\n",
       "      <td>0.230000</td>\n",
       "      <td>1.323333</td>\n",
       "      <td>0.403333</td>\n",
       "      <td>0.480000</td>\n",
       "      <td>0.460000</td>\n",
       "      <td>0.260000</td>\n",
       "      <td>0.800000</td>\n",
       "      <td>0.606667</td>\n",
       "      <td>0.456667</td>\n",
       "      <td>0.320000</td>\n",
       "      <td>0.676667</td>\n",
       "      <td>0.660000</td>\n",
       "      <td>-222.9875</td>\n",
       "      <td>0.33</td>\n",
       "      <td>1.80</td>\n",
       "    </tr>\n",
       "    <tr>\n",
       "      <th>227849</th>\n",
       "      <td>1.186667</td>\n",
       "      <td>0.326667</td>\n",
       "      <td>0.476667</td>\n",
       "      <td>0.866667</td>\n",
       "      <td>0.436667</td>\n",
       "      <td>0.680000</td>\n",
       "      <td>0.476667</td>\n",
       "      <td>0.686667</td>\n",
       "      <td>1.476667</td>\n",
       "      <td>1.213333</td>\n",
       "      <td>0.853333</td>\n",
       "      <td>0.583333</td>\n",
       "      <td>0.850000</td>\n",
       "      <td>1.090000</td>\n",
       "      <td>0.550000</td>\n",
       "      <td>0.706667</td>\n",
       "      <td>0.740000</td>\n",
       "      <td>0.823333</td>\n",
       "      <td>0.670000</td>\n",
       "      <td>0.896667</td>\n",
       "      <td>0.566667</td>\n",
       "      <td>0.546667</td>\n",
       "      <td>0.650000</td>\n",
       "      <td>0.663333</td>\n",
       "      <td>-196.2200</td>\n",
       "      <td>-0.37</td>\n",
       "      <td>1.89</td>\n",
       "    </tr>\n",
       "  </tbody>\n",
       "</table>\n",
       "</div>"
      ],
      "text/plain": [
       "            Per1      Per2      Per3      Per4      Per5      Per6      Per7  \\\n",
       "227845 -0.300000  1.540000  0.220000 -0.280000  0.570000  0.260000  0.700000   \n",
       "227846  0.633333  0.953333  0.810000  0.466667  0.910000  0.253333  1.040000   \n",
       "227847  1.043333  0.740000  0.860000  1.006667  0.583333  0.616667  0.630000   \n",
       "227848  1.283333  0.300000  0.576667  0.636667  0.256667  0.543333  0.356667   \n",
       "227849  1.186667  0.326667  0.476667  0.866667  0.436667  0.680000  0.476667   \n",
       "\n",
       "            Per8      Per9      Dem1      Dem2      Dem3      Dem4      Dem5  \\\n",
       "227845  1.076667  0.930000  0.156667  0.546667  0.530000  0.876667  0.450000   \n",
       "227846  0.550000  0.543333  0.433333  0.966667  0.760000  0.576667  0.653333   \n",
       "227847  0.686667  0.593333  1.250000  0.826667  0.826667  0.653333  0.663333   \n",
       "227848  0.663333  1.156667  1.186667  0.900000  0.433333  0.230000  1.323333   \n",
       "227849  0.686667  1.476667  1.213333  0.853333  0.583333  0.850000  1.090000   \n",
       "\n",
       "            Dem6      Dem7      Dem8      Dem9     Cred1     Cred2     Cred3  \\\n",
       "227845  0.370000  0.786667  0.546667  0.313333  0.703333  0.813333  0.776667   \n",
       "227846  0.553333  0.636667  0.770000  0.993333  0.536667  0.703333  0.806667   \n",
       "227847  0.453333  0.626667  0.756667  0.953333  0.623333  0.753333  0.870000   \n",
       "227848  0.403333  0.480000  0.460000  0.260000  0.800000  0.606667  0.456667   \n",
       "227849  0.550000  0.706667  0.740000  0.823333  0.670000  0.896667  0.566667   \n",
       "\n",
       "           Cred4     Cred5     Cred6  Normalised_FNT  instance_scores  \\\n",
       "227845  0.796667  0.823333  0.783333       -249.7500            -0.04   \n",
       "227846  0.630000  0.673333  0.673333       -249.8125            -0.77   \n",
       "227847  0.596667  0.680000  0.670000       -248.1200             0.11   \n",
       "227848  0.320000  0.676667  0.660000       -222.9875             0.33   \n",
       "227849  0.546667  0.650000  0.663333       -196.2200            -0.37   \n",
       "\n",
       "        lambda_wt  \n",
       "227845       0.76  \n",
       "227846       0.18  \n",
       "227847       0.39  \n",
       "227848       1.80  \n",
       "227849       1.89  "
      ]
     },
     "execution_count": 80,
     "metadata": {},
     "output_type": "execute_result"
    }
   ],
   "source": [
    "test.head()"
   ]
  },
  {
   "cell_type": "code",
   "execution_count": 81,
   "id": "c572003d",
   "metadata": {
    "colab": {
     "base_uri": "https://localhost:8080/"
    },
    "id": "c572003d",
    "outputId": "cb468afd-cb58-4d1f-db59-d7ae1b923dd5"
   },
   "outputs": [
    {
     "name": "stdout",
     "output_type": "stream",
     "text": [
      "<class 'pandas.core.frame.DataFrame'>\n",
      "Int64Index: 227845 entries, 0 to 227844\n",
      "Data columns (total 27 columns):\n",
      " #   Column           Non-Null Count   Dtype  \n",
      "---  ------           --------------   -----  \n",
      " 0   Per1             227845 non-null  float64\n",
      " 1   Per2             227845 non-null  float64\n",
      " 2   Per3             227845 non-null  float64\n",
      " 3   Per4             227845 non-null  float64\n",
      " 4   Per5             227845 non-null  float64\n",
      " 5   Per6             227845 non-null  float64\n",
      " 6   Per7             227845 non-null  float64\n",
      " 7   Per8             227845 non-null  float64\n",
      " 8   Per9             227845 non-null  float64\n",
      " 9   Dem1             227845 non-null  float64\n",
      " 10  Dem2             227845 non-null  float64\n",
      " 11  Dem3             227845 non-null  float64\n",
      " 12  Dem4             227845 non-null  float64\n",
      " 13  Dem5             227845 non-null  float64\n",
      " 14  Dem6             227845 non-null  float64\n",
      " 15  Dem7             227845 non-null  float64\n",
      " 16  Dem8             227845 non-null  float64\n",
      " 17  Dem9             227845 non-null  float64\n",
      " 18  Cred1            227845 non-null  float64\n",
      " 19  Cred2            227845 non-null  float64\n",
      " 20  Cred3            227845 non-null  float64\n",
      " 21  Cred4            227845 non-null  float64\n",
      " 22  Cred5            227845 non-null  float64\n",
      " 23  Cred6            227845 non-null  float64\n",
      " 24  Normalised_FNT   227845 non-null  float64\n",
      " 25  instance_scores  227845 non-null  float64\n",
      " 26  lambda_wt        227845 non-null  float64\n",
      "dtypes: float64(27)\n",
      "memory usage: 48.7 MB\n"
     ]
    }
   ],
   "source": [
    "x.info()"
   ]
  },
  {
   "cell_type": "code",
   "execution_count": 82,
   "id": "29c29051",
   "metadata": {
    "id": "29c29051"
   },
   "outputs": [],
   "source": [
    "# Data Preprocssing\n",
    "\n",
    "# 1) missing value imputation completed\n",
    "# 2) Encoding - Not required as no char variable\n",
    "# 3) Outlier treatment -\n",
    "# 4) Feature Scaling - Completed"
   ]
  },
  {
   "cell_type": "code",
   "execution_count": 83,
   "id": "4397421c",
   "metadata": {
    "colab": {
     "base_uri": "https://localhost:8080/",
     "height": 320
    },
    "id": "4397421c",
    "outputId": "f532d90a-8a8c-4734-925d-317a26c00642"
   },
   "outputs": [
    {
     "data": {
      "text/html": [
       "<div>\n",
       "<style scoped>\n",
       "    .dataframe tbody tr th:only-of-type {\n",
       "        vertical-align: middle;\n",
       "    }\n",
       "\n",
       "    .dataframe tbody tr th {\n",
       "        vertical-align: top;\n",
       "    }\n",
       "\n",
       "    .dataframe thead th {\n",
       "        text-align: right;\n",
       "    }\n",
       "</style>\n",
       "<table border=\"1\" class=\"dataframe\">\n",
       "  <thead>\n",
       "    <tr style=\"text-align: right;\">\n",
       "      <th></th>\n",
       "      <th>Per1</th>\n",
       "      <th>Per2</th>\n",
       "      <th>Per3</th>\n",
       "      <th>Per4</th>\n",
       "      <th>Per5</th>\n",
       "      <th>Per6</th>\n",
       "      <th>Per7</th>\n",
       "      <th>Per8</th>\n",
       "      <th>Per9</th>\n",
       "      <th>Dem1</th>\n",
       "      <th>Dem2</th>\n",
       "      <th>Dem3</th>\n",
       "      <th>Dem4</th>\n",
       "      <th>Dem5</th>\n",
       "      <th>Dem6</th>\n",
       "      <th>Dem7</th>\n",
       "      <th>Dem8</th>\n",
       "      <th>Dem9</th>\n",
       "      <th>Cred1</th>\n",
       "      <th>Cred2</th>\n",
       "      <th>Cred3</th>\n",
       "      <th>Cred4</th>\n",
       "      <th>Cred5</th>\n",
       "      <th>Cred6</th>\n",
       "      <th>Normalised_FNT</th>\n",
       "      <th>instance_scores</th>\n",
       "      <th>lambda_wt</th>\n",
       "    </tr>\n",
       "  </thead>\n",
       "  <tbody>\n",
       "    <tr>\n",
       "      <th>count</th>\n",
       "      <td>227845.000000</td>\n",
       "      <td>227845.000000</td>\n",
       "      <td>227845.000000</td>\n",
       "      <td>227845.000000</td>\n",
       "      <td>227845.000000</td>\n",
       "      <td>227845.000000</td>\n",
       "      <td>227845.000000</td>\n",
       "      <td>227845.000000</td>\n",
       "      <td>227845.000000</td>\n",
       "      <td>227845.000000</td>\n",
       "      <td>227845.000000</td>\n",
       "      <td>227845.000000</td>\n",
       "      <td>227845.000000</td>\n",
       "      <td>227845.000000</td>\n",
       "      <td>227845.000000</td>\n",
       "      <td>227845.000000</td>\n",
       "      <td>227845.000000</td>\n",
       "      <td>227845.000000</td>\n",
       "      <td>227845.000000</td>\n",
       "      <td>227845.000000</td>\n",
       "      <td>227845.000000</td>\n",
       "      <td>227845.000000</td>\n",
       "      <td>227845.000000</td>\n",
       "      <td>227845.000000</td>\n",
       "      <td>227845.000000</td>\n",
       "      <td>227845.000000</td>\n",
       "      <td>227845.000000</td>\n",
       "    </tr>\n",
       "    <tr>\n",
       "      <th>mean</th>\n",
       "      <td>0.666006</td>\n",
       "      <td>0.667701</td>\n",
       "      <td>0.666315</td>\n",
       "      <td>0.666687</td>\n",
       "      <td>0.666723</td>\n",
       "      <td>0.667378</td>\n",
       "      <td>0.666934</td>\n",
       "      <td>0.666279</td>\n",
       "      <td>0.666688</td>\n",
       "      <td>0.666576</td>\n",
       "      <td>0.666329</td>\n",
       "      <td>0.666380</td>\n",
       "      <td>0.666871</td>\n",
       "      <td>0.666518</td>\n",
       "      <td>0.666748</td>\n",
       "      <td>0.666394</td>\n",
       "      <td>0.666540</td>\n",
       "      <td>0.666535</td>\n",
       "      <td>0.666684</td>\n",
       "      <td>0.666264</td>\n",
       "      <td>0.666755</td>\n",
       "      <td>0.666878</td>\n",
       "      <td>0.666566</td>\n",
       "      <td>0.666776</td>\n",
       "      <td>-227.954170</td>\n",
       "      <td>-0.000123</td>\n",
       "      <td>0.000350</td>\n",
       "    </tr>\n",
       "    <tr>\n",
       "      <th>std</th>\n",
       "      <td>0.654133</td>\n",
       "      <td>0.548305</td>\n",
       "      <td>0.506357</td>\n",
       "      <td>0.471956</td>\n",
       "      <td>0.461393</td>\n",
       "      <td>0.444573</td>\n",
       "      <td>0.415657</td>\n",
       "      <td>0.401546</td>\n",
       "      <td>0.366537</td>\n",
       "      <td>0.340436</td>\n",
       "      <td>0.332016</td>\n",
       "      <td>0.305384</td>\n",
       "      <td>0.292013</td>\n",
       "      <td>0.279469</td>\n",
       "      <td>0.271590</td>\n",
       "      <td>0.257631</td>\n",
       "      <td>0.244423</td>\n",
       "      <td>0.241902</td>\n",
       "      <td>0.207575</td>\n",
       "      <td>0.202204</td>\n",
       "      <td>0.174204</td>\n",
       "      <td>0.160803</td>\n",
       "      <td>0.135762</td>\n",
       "      <td>0.111612</td>\n",
       "      <td>61.951661</td>\n",
       "      <td>1.091488</td>\n",
       "      <td>0.957957</td>\n",
       "    </tr>\n",
       "    <tr>\n",
       "      <th>min</th>\n",
       "      <td>-18.136667</td>\n",
       "      <td>-23.573333</td>\n",
       "      <td>-15.443333</td>\n",
       "      <td>-1.226667</td>\n",
       "      <td>-37.246667</td>\n",
       "      <td>-8.053333</td>\n",
       "      <td>-13.853333</td>\n",
       "      <td>-23.740000</td>\n",
       "      <td>-3.810000</td>\n",
       "      <td>-0.893333</td>\n",
       "      <td>-1.263333</td>\n",
       "      <td>-0.833333</td>\n",
       "      <td>-3.853333</td>\n",
       "      <td>-2.500000</td>\n",
       "      <td>-0.976667</td>\n",
       "      <td>-17.500000</td>\n",
       "      <td>-10.943333</td>\n",
       "      <td>-2.296667</td>\n",
       "      <td>-14.270000</td>\n",
       "      <td>-0.280000</td>\n",
       "      <td>-2.766667</td>\n",
       "      <td>-0.080000</td>\n",
       "      <td>-6.856667</td>\n",
       "      <td>-4.476667</td>\n",
       "      <td>-250.000000</td>\n",
       "      <td>-24.590000</td>\n",
       "      <td>-19.210000</td>\n",
       "    </tr>\n",
       "    <tr>\n",
       "      <th>25%</th>\n",
       "      <td>0.360000</td>\n",
       "      <td>0.470000</td>\n",
       "      <td>0.370000</td>\n",
       "      <td>0.383333</td>\n",
       "      <td>0.436667</td>\n",
       "      <td>0.410000</td>\n",
       "      <td>0.483333</td>\n",
       "      <td>0.596667</td>\n",
       "      <td>0.453333</td>\n",
       "      <td>0.413333</td>\n",
       "      <td>0.450000</td>\n",
       "      <td>0.473333</td>\n",
       "      <td>0.510000</td>\n",
       "      <td>0.500000</td>\n",
       "      <td>0.513333</td>\n",
       "      <td>0.596667</td>\n",
       "      <td>0.590000</td>\n",
       "      <td>0.486667</td>\n",
       "      <td>0.613333</td>\n",
       "      <td>0.546667</td>\n",
       "      <td>0.560000</td>\n",
       "      <td>0.556667</td>\n",
       "      <td>0.643333</td>\n",
       "      <td>0.650000</td>\n",
       "      <td>-248.617500</td>\n",
       "      <td>-0.540000</td>\n",
       "      <td>-0.430000</td>\n",
       "    </tr>\n",
       "    <tr>\n",
       "      <th>50%</th>\n",
       "      <td>0.670000</td>\n",
       "      <td>0.690000</td>\n",
       "      <td>0.726667</td>\n",
       "      <td>0.660000</td>\n",
       "      <td>0.650000</td>\n",
       "      <td>0.576667</td>\n",
       "      <td>0.680000</td>\n",
       "      <td>0.673333</td>\n",
       "      <td>0.650000</td>\n",
       "      <td>0.656667</td>\n",
       "      <td>0.663333</td>\n",
       "      <td>0.683333</td>\n",
       "      <td>0.690000</td>\n",
       "      <td>0.666667</td>\n",
       "      <td>0.666667</td>\n",
       "      <td>0.646667</td>\n",
       "      <td>0.656667</td>\n",
       "      <td>0.670000</td>\n",
       "      <td>0.663333</td>\n",
       "      <td>0.680000</td>\n",
       "      <td>0.673333</td>\n",
       "      <td>0.650000</td>\n",
       "      <td>0.666667</td>\n",
       "      <td>0.670000</td>\n",
       "      <td>-244.510000</td>\n",
       "      <td>-0.090000</td>\n",
       "      <td>0.050000</td>\n",
       "    </tr>\n",
       "    <tr>\n",
       "      <th>75%</th>\n",
       "      <td>1.103333</td>\n",
       "      <td>0.933333</td>\n",
       "      <td>1.010000</td>\n",
       "      <td>0.913333</td>\n",
       "      <td>0.870000</td>\n",
       "      <td>0.800000</td>\n",
       "      <td>0.856667</td>\n",
       "      <td>0.776667</td>\n",
       "      <td>0.866667</td>\n",
       "      <td>0.913333</td>\n",
       "      <td>0.886667</td>\n",
       "      <td>0.883333</td>\n",
       "      <td>0.840000</td>\n",
       "      <td>0.833333</td>\n",
       "      <td>0.820000</td>\n",
       "      <td>0.710000</td>\n",
       "      <td>0.730000</td>\n",
       "      <td>0.843333</td>\n",
       "      <td>0.716667</td>\n",
       "      <td>0.813333</td>\n",
       "      <td>0.783333</td>\n",
       "      <td>0.746667</td>\n",
       "      <td>0.696667</td>\n",
       "      <td>0.693333</td>\n",
       "      <td>-230.750000</td>\n",
       "      <td>0.450000</td>\n",
       "      <td>0.490000</td>\n",
       "    </tr>\n",
       "    <tr>\n",
       "      <th>max</th>\n",
       "      <td>1.483333</td>\n",
       "      <td>8.020000</td>\n",
       "      <td>3.793333</td>\n",
       "      <td>6.163333</td>\n",
       "      <td>12.266667</td>\n",
       "      <td>25.100000</td>\n",
       "      <td>40.863333</td>\n",
       "      <td>7.336667</td>\n",
       "      <td>5.863333</td>\n",
       "      <td>4.673333</td>\n",
       "      <td>3.043333</td>\n",
       "      <td>3.626667</td>\n",
       "      <td>6.440000</td>\n",
       "      <td>2.080000</td>\n",
       "      <td>2.530000</td>\n",
       "      <td>9.413333</td>\n",
       "      <td>9.733333</td>\n",
       "      <td>4.166667</td>\n",
       "      <td>8.176667</td>\n",
       "      <td>2.193333</td>\n",
       "      <td>3.173333</td>\n",
       "      <td>1.840000</td>\n",
       "      <td>11.203333</td>\n",
       "      <td>11.950000</td>\n",
       "      <td>6172.790000</td>\n",
       "      <td>23.750000</td>\n",
       "      <td>10.530000</td>\n",
       "    </tr>\n",
       "  </tbody>\n",
       "</table>\n",
       "</div>"
      ],
      "text/plain": [
       "                Per1           Per2           Per3           Per4  \\\n",
       "count  227845.000000  227845.000000  227845.000000  227845.000000   \n",
       "mean        0.666006       0.667701       0.666315       0.666687   \n",
       "std         0.654133       0.548305       0.506357       0.471956   \n",
       "min       -18.136667     -23.573333     -15.443333      -1.226667   \n",
       "25%         0.360000       0.470000       0.370000       0.383333   \n",
       "50%         0.670000       0.690000       0.726667       0.660000   \n",
       "75%         1.103333       0.933333       1.010000       0.913333   \n",
       "max         1.483333       8.020000       3.793333       6.163333   \n",
       "\n",
       "                Per5           Per6           Per7           Per8  \\\n",
       "count  227845.000000  227845.000000  227845.000000  227845.000000   \n",
       "mean        0.666723       0.667378       0.666934       0.666279   \n",
       "std         0.461393       0.444573       0.415657       0.401546   \n",
       "min       -37.246667      -8.053333     -13.853333     -23.740000   \n",
       "25%         0.436667       0.410000       0.483333       0.596667   \n",
       "50%         0.650000       0.576667       0.680000       0.673333   \n",
       "75%         0.870000       0.800000       0.856667       0.776667   \n",
       "max        12.266667      25.100000      40.863333       7.336667   \n",
       "\n",
       "                Per9           Dem1           Dem2           Dem3  \\\n",
       "count  227845.000000  227845.000000  227845.000000  227845.000000   \n",
       "mean        0.666688       0.666576       0.666329       0.666380   \n",
       "std         0.366537       0.340436       0.332016       0.305384   \n",
       "min        -3.810000      -0.893333      -1.263333      -0.833333   \n",
       "25%         0.453333       0.413333       0.450000       0.473333   \n",
       "50%         0.650000       0.656667       0.663333       0.683333   \n",
       "75%         0.866667       0.913333       0.886667       0.883333   \n",
       "max         5.863333       4.673333       3.043333       3.626667   \n",
       "\n",
       "                Dem4           Dem5           Dem6           Dem7  \\\n",
       "count  227845.000000  227845.000000  227845.000000  227845.000000   \n",
       "mean        0.666871       0.666518       0.666748       0.666394   \n",
       "std         0.292013       0.279469       0.271590       0.257631   \n",
       "min        -3.853333      -2.500000      -0.976667     -17.500000   \n",
       "25%         0.510000       0.500000       0.513333       0.596667   \n",
       "50%         0.690000       0.666667       0.666667       0.646667   \n",
       "75%         0.840000       0.833333       0.820000       0.710000   \n",
       "max         6.440000       2.080000       2.530000       9.413333   \n",
       "\n",
       "                Dem8           Dem9          Cred1          Cred2  \\\n",
       "count  227845.000000  227845.000000  227845.000000  227845.000000   \n",
       "mean        0.666540       0.666535       0.666684       0.666264   \n",
       "std         0.244423       0.241902       0.207575       0.202204   \n",
       "min       -10.943333      -2.296667     -14.270000      -0.280000   \n",
       "25%         0.590000       0.486667       0.613333       0.546667   \n",
       "50%         0.656667       0.670000       0.663333       0.680000   \n",
       "75%         0.730000       0.843333       0.716667       0.813333   \n",
       "max         9.733333       4.166667       8.176667       2.193333   \n",
       "\n",
       "               Cred3          Cred4          Cred5          Cred6  \\\n",
       "count  227845.000000  227845.000000  227845.000000  227845.000000   \n",
       "mean        0.666755       0.666878       0.666566       0.666776   \n",
       "std         0.174204       0.160803       0.135762       0.111612   \n",
       "min        -2.766667      -0.080000      -6.856667      -4.476667   \n",
       "25%         0.560000       0.556667       0.643333       0.650000   \n",
       "50%         0.673333       0.650000       0.666667       0.670000   \n",
       "75%         0.783333       0.746667       0.696667       0.693333   \n",
       "max         3.173333       1.840000      11.203333      11.950000   \n",
       "\n",
       "       Normalised_FNT  instance_scores      lambda_wt  \n",
       "count   227845.000000    227845.000000  227845.000000  \n",
       "mean      -227.954170        -0.000123       0.000350  \n",
       "std         61.951661         1.091488       0.957957  \n",
       "min       -250.000000       -24.590000     -19.210000  \n",
       "25%       -248.617500        -0.540000      -0.430000  \n",
       "50%       -244.510000        -0.090000       0.050000  \n",
       "75%       -230.750000         0.450000       0.490000  \n",
       "max       6172.790000        23.750000      10.530000  "
      ]
     },
     "execution_count": 83,
     "metadata": {},
     "output_type": "execute_result"
    }
   ],
   "source": [
    "x.describe()"
   ]
  },
  {
   "cell_type": "code",
   "execution_count": 84,
   "id": "278cdf13",
   "metadata": {
    "colab": {
     "base_uri": "https://localhost:8080/",
     "height": 423
    },
    "id": "278cdf13",
    "outputId": "c84c7a85-992e-4ff8-e65e-45579dedccb8"
   },
   "outputs": [
    {
     "data": {
      "text/plain": [
       "<AxesSubplot:ylabel='Normalised_FNT'>"
      ]
     },
     "execution_count": 84,
     "metadata": {},
     "output_type": "execute_result"
    },
    {
     "data": {
      "image/png": "[encoded data removed]",
      "text/plain": [
       "<Figure size 640x480 with 1 Axes>"
      ]
     },
     "metadata": {},
     "output_type": "display_data"
    }
   ],
   "source": [
    "sns.boxplot(y =\"Normalised_FNT\",data=x )"
   ]
  },
  {
   "cell_type": "code",
   "execution_count": 85,
   "id": "21af1f6b",
   "metadata": {
    "colab": {
     "base_uri": "https://localhost:8080/"
    },
    "id": "21af1f6b",
    "outputId": "f10d7232-86bd-4ba3-d3a6-3b4f4686227b"
   },
   "outputs": [
    {
     "data": {
      "text/plain": [
       "count    227845.000000\n",
       "mean       -227.954170\n",
       "std          61.951661\n",
       "min        -250.000000\n",
       "25%        -248.617500\n",
       "50%        -244.510000\n",
       "75%        -230.750000\n",
       "max        6172.790000\n",
       "Name: Normalised_FNT, dtype: float64"
      ]
     },
     "execution_count": 85,
     "metadata": {},
     "output_type": "execute_result"
    }
   ],
   "source": [
    "x[\"Normalised_FNT\"].describe()"
   ]
  },
  {
   "cell_type": "code",
   "execution_count": 86,
   "id": "9c8b2823",
   "metadata": {
    "colab": {
     "base_uri": "https://localhost:8080/"
    },
    "id": "9c8b2823",
    "outputId": "cce14013-d23d-40dc-fb24-bc34c7067a45"
   },
   "outputs": [
    {
     "data": {
      "text/plain": [
       "17.867500000000007"
      ]
     },
     "execution_count": 86,
     "metadata": {},
     "output_type": "execute_result"
    }
   ],
   "source": [
    "IQR = (-230.750000)-(-248.617500)\n",
    "IQR"
   ]
  },
  {
   "cell_type": "code",
   "execution_count": 87,
   "id": "86dbf22b",
   "metadata": {
    "colab": {
     "base_uri": "https://localhost:8080/"
    },
    "id": "86dbf22b",
    "outputId": "94a320a5-a557-4fb6-9702-155c764f1f35"
   },
   "outputs": [
    {
     "data": {
      "text/plain": [
       "-203.94875"
      ]
     },
     "execution_count": 87,
     "metadata": {},
     "output_type": "execute_result"
    }
   ],
   "source": [
    "# Pos_outlier range = Q3+1.5*IQR\n",
    "\n",
    "pos_outlier_range = (-230.750000)+1.5*IQR\n",
    "pos_outlier_range"
   ]
  },
  {
   "cell_type": "code",
   "execution_count": 88,
   "id": "78a7137e",
   "metadata": {
    "id": "78a7137e"
   },
   "outputs": [],
   "source": [
    "# holding capping method right now as positive outlier range is -203.94 which is very less and very data is above this range"
   ]
  },
  {
   "cell_type": "markdown",
   "id": "673fb88e",
   "metadata": {
    "id": "673fb88e"
   },
   "source": [
    "# Feature Scaling"
   ]
  },
  {
   "cell_type": "code",
   "execution_count": 89,
   "id": "3a456d58",
   "metadata": {
    "id": "3a456d58"
   },
   "outputs": [],
   "source": [
    "from sklearn.preprocessing import StandardScaler\n",
    "\n",
    "sc = StandardScaler()\n",
    "sc_x = sc.fit_transform(x)"
   ]
  },
  {
   "cell_type": "code",
   "execution_count": 90,
   "id": "bfa06fa1",
   "metadata": {
    "colab": {
     "base_uri": "https://localhost:8080/",
     "height": 407
    },
    "id": "bfa06fa1",
    "outputId": "4ee7bef0-28e8-4467-b083-87b217db641b"
   },
   "outputs": [
    {
     "data": {
      "text/html": [
       "<div>\n",
       "<style scoped>\n",
       "    .dataframe tbody tr th:only-of-type {\n",
       "        vertical-align: middle;\n",
       "    }\n",
       "\n",
       "    .dataframe tbody tr th {\n",
       "        vertical-align: top;\n",
       "    }\n",
       "\n",
       "    .dataframe thead th {\n",
       "        text-align: right;\n",
       "    }\n",
       "</style>\n",
       "<table border=\"1\" class=\"dataframe\">\n",
       "  <thead>\n",
       "    <tr style=\"text-align: right;\">\n",
       "      <th></th>\n",
       "      <th>0</th>\n",
       "      <th>1</th>\n",
       "      <th>2</th>\n",
       "      <th>3</th>\n",
       "      <th>4</th>\n",
       "      <th>5</th>\n",
       "      <th>6</th>\n",
       "      <th>7</th>\n",
       "      <th>8</th>\n",
       "      <th>9</th>\n",
       "      <th>10</th>\n",
       "      <th>11</th>\n",
       "      <th>12</th>\n",
       "      <th>13</th>\n",
       "      <th>14</th>\n",
       "      <th>15</th>\n",
       "      <th>16</th>\n",
       "      <th>17</th>\n",
       "      <th>18</th>\n",
       "      <th>19</th>\n",
       "      <th>20</th>\n",
       "      <th>21</th>\n",
       "      <th>22</th>\n",
       "      <th>23</th>\n",
       "      <th>24</th>\n",
       "      <th>25</th>\n",
       "      <th>26</th>\n",
       "    </tr>\n",
       "  </thead>\n",
       "  <tbody>\n",
       "    <tr>\n",
       "      <th>count</th>\n",
       "      <td>2.278450e+05</td>\n",
       "      <td>2.278450e+05</td>\n",
       "      <td>2.278450e+05</td>\n",
       "      <td>2.278450e+05</td>\n",
       "      <td>2.278450e+05</td>\n",
       "      <td>2.278450e+05</td>\n",
       "      <td>2.278450e+05</td>\n",
       "      <td>2.278450e+05</td>\n",
       "      <td>2.278450e+05</td>\n",
       "      <td>2.278450e+05</td>\n",
       "      <td>2.278450e+05</td>\n",
       "      <td>2.278450e+05</td>\n",
       "      <td>2.278450e+05</td>\n",
       "      <td>2.278450e+05</td>\n",
       "      <td>2.278450e+05</td>\n",
       "      <td>2.278450e+05</td>\n",
       "      <td>2.278450e+05</td>\n",
       "      <td>2.278450e+05</td>\n",
       "      <td>2.278450e+05</td>\n",
       "      <td>2.278450e+05</td>\n",
       "      <td>2.278450e+05</td>\n",
       "      <td>2.278450e+05</td>\n",
       "      <td>2.278450e+05</td>\n",
       "      <td>2.278450e+05</td>\n",
       "      <td>2.278450e+05</td>\n",
       "      <td>2.278450e+05</td>\n",
       "      <td>2.278450e+05</td>\n",
       "    </tr>\n",
       "    <tr>\n",
       "      <th>mean</th>\n",
       "      <td>1.152050e-16</td>\n",
       "      <td>-1.250406e-16</td>\n",
       "      <td>1.700401e-16</td>\n",
       "      <td>3.456137e-16</td>\n",
       "      <td>-5.339956e-17</td>\n",
       "      <td>-2.049625e-16</td>\n",
       "      <td>4.497342e-17</td>\n",
       "      <td>2.235651e-16</td>\n",
       "      <td>-2.084790e-16</td>\n",
       "      <td>1.052233e-16</td>\n",
       "      <td>-6.239858e-16</td>\n",
       "      <td>-5.673138e-16</td>\n",
       "      <td>6.097083e-16</td>\n",
       "      <td>6.815360e-16</td>\n",
       "      <td>-1.662786e-16</td>\n",
       "      <td>2.788928e-16</td>\n",
       "      <td>1.267819e-16</td>\n",
       "      <td>3.604791e-16</td>\n",
       "      <td>5.568583e-16</td>\n",
       "      <td>5.790760e-16</td>\n",
       "      <td>-2.863878e-16</td>\n",
       "      <td>-2.442739e-16</td>\n",
       "      <td>9.009133e-17</td>\n",
       "      <td>1.037059e-15</td>\n",
       "      <td>-4.415118e-16</td>\n",
       "      <td>4.162867e-17</td>\n",
       "      <td>-4.822611e-17</td>\n",
       "    </tr>\n",
       "    <tr>\n",
       "      <th>std</th>\n",
       "      <td>1.000002e+00</td>\n",
       "      <td>1.000002e+00</td>\n",
       "      <td>1.000002e+00</td>\n",
       "      <td>1.000002e+00</td>\n",
       "      <td>1.000002e+00</td>\n",
       "      <td>1.000002e+00</td>\n",
       "      <td>1.000002e+00</td>\n",
       "      <td>1.000002e+00</td>\n",
       "      <td>1.000002e+00</td>\n",
       "      <td>1.000002e+00</td>\n",
       "      <td>1.000002e+00</td>\n",
       "      <td>1.000002e+00</td>\n",
       "      <td>1.000002e+00</td>\n",
       "      <td>1.000002e+00</td>\n",
       "      <td>1.000002e+00</td>\n",
       "      <td>1.000002e+00</td>\n",
       "      <td>1.000002e+00</td>\n",
       "      <td>1.000002e+00</td>\n",
       "      <td>1.000002e+00</td>\n",
       "      <td>1.000002e+00</td>\n",
       "      <td>1.000002e+00</td>\n",
       "      <td>1.000002e+00</td>\n",
       "      <td>1.000002e+00</td>\n",
       "      <td>1.000002e+00</td>\n",
       "      <td>1.000002e+00</td>\n",
       "      <td>1.000002e+00</td>\n",
       "      <td>1.000002e+00</td>\n",
       "    </tr>\n",
       "    <tr>\n",
       "      <th>min</th>\n",
       "      <td>-2.874447e+01</td>\n",
       "      <td>-4.421098e+01</td>\n",
       "      <td>-3.181486e+01</td>\n",
       "      <td>-4.011726e+00</td>\n",
       "      <td>-8.217170e+01</td>\n",
       "      <td>-1.961595e+01</td>\n",
       "      <td>-3.493340e+01</td>\n",
       "      <td>-6.078089e+01</td>\n",
       "      <td>-1.221350e+01</td>\n",
       "      <td>-4.582104e+00</td>\n",
       "      <td>-5.811971e+00</td>\n",
       "      <td>-4.910923e+00</td>\n",
       "      <td>-1.547951e+01</td>\n",
       "      <td>-1.133049e+01</td>\n",
       "      <td>-6.051100e+00</td>\n",
       "      <td>-7.051329e+01</td>\n",
       "      <td>-4.749922e+01</td>\n",
       "      <td>-1.224960e+01</td>\n",
       "      <td>-7.195806e+01</td>\n",
       "      <td>-4.679759e+00</td>\n",
       "      <td>-1.970929e+01</td>\n",
       "      <td>-4.644689e+00</td>\n",
       "      <td>-5.541489e+01</td>\n",
       "      <td>-4.608324e+01</td>\n",
       "      <td>-3.558561e-01</td>\n",
       "      <td>-2.252882e+01</td>\n",
       "      <td>-2.005350e+01</td>\n",
       "    </tr>\n",
       "    <tr>\n",
       "      <th>25%</th>\n",
       "      <td>-4.678047e-01</td>\n",
       "      <td>-3.605683e-01</td>\n",
       "      <td>-5.851915e-01</td>\n",
       "      <td>-6.003821e-01</td>\n",
       "      <td>-4.986139e-01</td>\n",
       "      <td>-5.789326e-01</td>\n",
       "      <td>-4.417124e-01</td>\n",
       "      <td>-1.733613e-01</td>\n",
       "      <td>-5.820826e-01</td>\n",
       "      <td>-7.438795e-01</td>\n",
       "      <td>-6.515639e-01</td>\n",
       "      <td>-6.321454e-01</td>\n",
       "      <td>-5.372076e-01</td>\n",
       "      <td>-5.958371e-01</td>\n",
       "      <td>-5.648776e-01</td>\n",
       "      <td>-2.706473e-01</td>\n",
       "      <td>-3.131479e-01</td>\n",
       "      <td>-7.435576e-01</td>\n",
       "      <td>-2.570189e-01</td>\n",
       "      <td>-5.914703e-01</td>\n",
       "      <td>-6.128164e-01</td>\n",
       "      <td>-6.853842e-01</td>\n",
       "      <td>-1.711252e-01</td>\n",
       "      <td>-1.503079e-01</td>\n",
       "      <td>-3.335403e-01</td>\n",
       "      <td>-4.946259e-01</td>\n",
       "      <td>-4.492380e-01</td>\n",
       "    </tr>\n",
       "    <tr>\n",
       "      <th>50%</th>\n",
       "      <td>6.105872e-03</td>\n",
       "      <td>4.066939e-02</td>\n",
       "      <td>1.191877e-01</td>\n",
       "      <td>-1.416771e-02</td>\n",
       "      <td>-3.624526e-02</td>\n",
       "      <td>-2.040406e-01</td>\n",
       "      <td>3.143566e-02</td>\n",
       "      <td>1.756780e-02</td>\n",
       "      <td>-4.552782e-02</td>\n",
       "      <td>-2.910820e-02</td>\n",
       "      <td>-9.022932e-03</td>\n",
       "      <td>5.551521e-02</td>\n",
       "      <td>7.920522e-02</td>\n",
       "      <td>5.325959e-04</td>\n",
       "      <td>-2.998801e-04</td>\n",
       "      <td>-7.657107e-02</td>\n",
       "      <td>-4.039599e-02</td>\n",
       "      <td>1.432557e-02</td>\n",
       "      <td>-1.614191e-02</td>\n",
       "      <td>6.793120e-02</td>\n",
       "      <td>3.776502e-02</td>\n",
       "      <td>-1.049626e-01</td>\n",
       "      <td>7.443046e-04</td>\n",
       "      <td>2.888425e-02</td>\n",
       "      <td>-2.672385e-01</td>\n",
       "      <td>-8.234372e-02</td>\n",
       "      <td>5.182947e-02</td>\n",
       "    </tr>\n",
       "    <tr>\n",
       "      <th>75%</th>\n",
       "      <td>6.685615e-01</td>\n",
       "      <td>4.844626e-01</td>\n",
       "      <td>6.787413e-01</td>\n",
       "      <td>5.226069e-01</td>\n",
       "      <td>4.405724e-01</td>\n",
       "      <td>2.983147e-01</td>\n",
       "      <td>4.564670e-01</td>\n",
       "      <td>2.749070e-01</td>\n",
       "      <td>5.455918e-01</td>\n",
       "      <td>7.248287e-01</td>\n",
       "      <td>6.636372e-01</td>\n",
       "      <td>7.104301e-01</td>\n",
       "      <td>5.928826e-01</td>\n",
       "      <td>5.969023e-01</td>\n",
       "      <td>5.642778e-01</td>\n",
       "      <td>1.692588e-01</td>\n",
       "      <td>2.596311e-01</td>\n",
       "      <td>7.308697e-01</td>\n",
       "      <td>2.407935e-01</td>\n",
       "      <td>7.273327e-01</td>\n",
       "      <td>6.692117e-01</td>\n",
       "      <td>4.961884e-01</td>\n",
       "      <td>2.217194e-01</td>\n",
       "      <td>2.379418e-01</td>\n",
       "      <td>-4.512932e-02</td>\n",
       "      <td>4.123949e-01</td>\n",
       "      <td>5.111413e-01</td>\n",
       "    </tr>\n",
       "    <tr>\n",
       "      <th>max</th>\n",
       "      <td>1.249484e+00</td>\n",
       "      <td>1.340918e+01</td>\n",
       "      <td>6.175532e+00</td>\n",
       "      <td>1.164655e+01</td>\n",
       "      <td>2.514117e+01</td>\n",
       "      <td>5.495757e+01</td>\n",
       "      <td>9.670601e+01</td>\n",
       "      <td>1.661179e+01</td>\n",
       "      <td>1.417772e+01</td>\n",
       "      <td>1.176951e+01</td>\n",
       "      <td>7.159325e+00</td>\n",
       "      <td>9.693679e+00</td>\n",
       "      <td>1.977017e+01</td>\n",
       "      <td>5.057748e+00</td>\n",
       "      <td>6.860546e+00</td>\n",
       "      <td>3.395145e+01</td>\n",
       "      <td>3.709477e+01</td>\n",
       "      <td>1.446923e+01</td>\n",
       "      <td>3.617963e+01</td>\n",
       "      <td>7.552138e+00</td>\n",
       "      <td>1.438883e+01</td>\n",
       "      <td>7.295413e+00</td>\n",
       "      <td>7.761210e+01</td>\n",
       "      <td>1.010933e+02</td>\n",
       "      <td>1.033186e+02</td>\n",
       "      <td>2.175945e+01</td>\n",
       "      <td>1.099180e+01</td>\n",
       "    </tr>\n",
       "  </tbody>\n",
       "</table>\n",
       "</div>"
      ],
      "text/plain": [
       "                 0             1             2             3             4   \\\n",
       "count  2.278450e+05  2.278450e+05  2.278450e+05  2.278450e+05  2.278450e+05   \n",
       "mean   1.152050e-16 -1.250406e-16  1.700401e-16  3.456137e-16 -5.339956e-17   \n",
       "std    1.000002e+00  1.000002e+00  1.000002e+00  1.000002e+00  1.000002e+00   \n",
       "min   -2.874447e+01 -4.421098e+01 -3.181486e+01 -4.011726e+00 -8.217170e+01   \n",
       "25%   -4.678047e-01 -3.605683e-01 -5.851915e-01 -6.003821e-01 -4.986139e-01   \n",
       "50%    6.105872e-03  4.066939e-02  1.191877e-01 -1.416771e-02 -3.624526e-02   \n",
       "75%    6.685615e-01  4.844626e-01  6.787413e-01  5.226069e-01  4.405724e-01   \n",
       "max    1.249484e+00  1.340918e+01  6.175532e+00  1.164655e+01  2.514117e+01   \n",
       "\n",
       "                 5             6             7             8             9   \\\n",
       "count  2.278450e+05  2.278450e+05  2.278450e+05  2.278450e+05  2.278450e+05   \n",
       "mean  -2.049625e-16  4.497342e-17  2.235651e-16 -2.084790e-16  1.052233e-16   \n",
       "std    1.000002e+00  1.000002e+00  1.000002e+00  1.000002e+00  1.000002e+00   \n",
       "min   -1.961595e+01 -3.493340e+01 -6.078089e+01 -1.221350e+01 -4.582104e+00   \n",
       "25%   -5.789326e-01 -4.417124e-01 -1.733613e-01 -5.820826e-01 -7.438795e-01   \n",
       "50%   -2.040406e-01  3.143566e-02  1.756780e-02 -4.552782e-02 -2.910820e-02   \n",
       "75%    2.983147e-01  4.564670e-01  2.749070e-01  5.455918e-01  7.248287e-01   \n",
       "max    5.495757e+01  9.670601e+01  1.661179e+01  1.417772e+01  1.176951e+01   \n",
       "\n",
       "                 10            11            12            13            14  \\\n",
       "count  2.278450e+05  2.278450e+05  2.278450e+05  2.278450e+05  2.278450e+05   \n",
       "mean  -6.239858e-16 -5.673138e-16  6.097083e-16  6.815360e-16 -1.662786e-16   \n",
       "std    1.000002e+00  1.000002e+00  1.000002e+00  1.000002e+00  1.000002e+00   \n",
       "min   -5.811971e+00 -4.910923e+00 -1.547951e+01 -1.133049e+01 -6.051100e+00   \n",
       "25%   -6.515639e-01 -6.321454e-01 -5.372076e-01 -5.958371e-01 -5.648776e-01   \n",
       "50%   -9.022932e-03  5.551521e-02  7.920522e-02  5.325959e-04 -2.998801e-04   \n",
       "75%    6.636372e-01  7.104301e-01  5.928826e-01  5.969023e-01  5.642778e-01   \n",
       "max    7.159325e+00  9.693679e+00  1.977017e+01  5.057748e+00  6.860546e+00   \n",
       "\n",
       "                 15            16            17            18            19  \\\n",
       "count  2.278450e+05  2.278450e+05  2.278450e+05  2.278450e+05  2.278450e+05   \n",
       "mean   2.788928e-16  1.267819e-16  3.604791e-16  5.568583e-16  5.790760e-16   \n",
       "std    1.000002e+00  1.000002e+00  1.000002e+00  1.000002e+00  1.000002e+00   \n",
       "min   -7.051329e+01 -4.749922e+01 -1.224960e+01 -7.195806e+01 -4.679759e+00   \n",
       "25%   -2.706473e-01 -3.131479e-01 -7.435576e-01 -2.570189e-01 -5.914703e-01   \n",
       "50%   -7.657107e-02 -4.039599e-02  1.432557e-02 -1.614191e-02  6.793120e-02   \n",
       "75%    1.692588e-01  2.596311e-01  7.308697e-01  2.407935e-01  7.273327e-01   \n",
       "max    3.395145e+01  3.709477e+01  1.446923e+01  3.617963e+01  7.552138e+00   \n",
       "\n",
       "                 20            21            22            23            24  \\\n",
       "count  2.278450e+05  2.278450e+05  2.278450e+05  2.278450e+05  2.278450e+05   \n",
       "mean  -2.863878e-16 -2.442739e-16  9.009133e-17  1.037059e-15 -4.415118e-16   \n",
       "std    1.000002e+00  1.000002e+00  1.000002e+00  1.000002e+00  1.000002e+00   \n",
       "min   -1.970929e+01 -4.644689e+00 -5.541489e+01 -4.608324e+01 -3.558561e-01   \n",
       "25%   -6.128164e-01 -6.853842e-01 -1.711252e-01 -1.503079e-01 -3.335403e-01   \n",
       "50%    3.776502e-02 -1.049626e-01  7.443046e-04  2.888425e-02 -2.672385e-01   \n",
       "75%    6.692117e-01  4.961884e-01  2.217194e-01  2.379418e-01 -4.512932e-02   \n",
       "max    1.438883e+01  7.295413e+00  7.761210e+01  1.010933e+02  1.033186e+02   \n",
       "\n",
       "                 25            26  \n",
       "count  2.278450e+05  2.278450e+05  \n",
       "mean   4.162867e-17 -4.822611e-17  \n",
       "std    1.000002e+00  1.000002e+00  \n",
       "min   -2.252882e+01 -2.005350e+01  \n",
       "25%   -4.946259e-01 -4.492380e-01  \n",
       "50%   -8.234372e-02  5.182947e-02  \n",
       "75%    4.123949e-01  5.111413e-01  \n",
       "max    2.175945e+01  1.099180e+01  "
      ]
     },
     "execution_count": 90,
     "metadata": {},
     "output_type": "execute_result"
    }
   ],
   "source": [
    "pd.DataFrame(sc_x).describe()"
   ]
  },
  {
   "cell_type": "markdown",
   "id": "a5e8edd1",
   "metadata": {
    "id": "a5e8edd1"
   },
   "source": [
    "# Checking Imbalance Dataset"
   ]
  },
  {
   "cell_type": "code",
   "execution_count": 91,
   "id": "17c2d332",
   "metadata": {
    "colab": {
     "base_uri": "https://localhost:8080/"
    },
    "id": "17c2d332",
    "outputId": "cb2cf666-0b19-4d64-bf4e-5bc231d986e6"
   },
   "outputs": [
    {
     "data": {
      "text/plain": [
       "Target\n",
       "0.0       227451\n",
       "1.0          394\n",
       "dtype: int64"
      ]
     },
     "execution_count": 91,
     "metadata": {},
     "output_type": "execute_result"
    }
   ],
   "source": [
    "y.value_counts()"
   ]
  },
  {
   "cell_type": "code",
   "execution_count": 92,
   "id": "67d6d875",
   "metadata": {
    "colab": {
     "base_uri": "https://localhost:8080/"
    },
    "id": "67d6d875",
    "outputId": "c0d16740-2891-4abc-cae6-4f67399abff0"
   },
   "outputs": [
    {
     "data": {
      "text/plain": [
       "0.17292457591783889"
      ]
     },
     "execution_count": 92,
     "metadata": {},
     "output_type": "execute_result"
    }
   ],
   "source": [
    "fraud_per = 394/(394+227451)*100\n",
    "fraud_per\n",
    "\n"
   ]
  },
  {
   "cell_type": "code",
   "execution_count": 93,
   "id": "746a1b0a",
   "metadata": {
    "colab": {
     "base_uri": "https://localhost:8080/"
    },
    "id": "746a1b0a",
    "outputId": "498b4d6f-d84a-4206-e106-d67188e9dbe6"
   },
   "outputs": [
    {
     "name": "stdout",
     "output_type": "stream",
     "text": [
      "Total outlier : 0.17292457591783889\n"
     ]
    }
   ],
   "source": [
    "fraud=train[train['Target']==1]\n",
    "valid = train[train['Target']==0]\n",
    "outlier_total = len(fraud)/float(len(train))*100\n",
    "print(\"Total outlier :\",outlier_total)"
   ]
  },
  {
   "cell_type": "code",
   "execution_count": 94,
   "id": "bcaf8055",
   "metadata": {
    "colab": {
     "base_uri": "https://localhost:8080/"
    },
    "id": "bcaf8055",
    "outputId": "325f0af8-1605-4a98-b3e1-d806f60d68f5"
   },
   "outputs": [
    {
     "name": "stdout",
     "output_type": "stream",
     "text": [
      "394\n",
      "227451\n"
     ]
    }
   ],
   "source": [
    "print(len(fraud))\n",
    "print(len(valid))"
   ]
  },
  {
   "cell_type": "code",
   "execution_count": 95,
   "id": "ecf87c79",
   "metadata": {
    "id": "ecf87c79"
   },
   "outputs": [],
   "source": [
    "# This type of issue is called Anomaly detection - Isolation Forest model and Local Outlier Factor will be used"
   ]
  },
  {
   "cell_type": "code",
   "execution_count": 96,
   "id": "f0dda198",
   "metadata": {
    "id": "f0dda198"
   },
   "outputs": [],
   "source": [
    "# Since data is imbalance, so we can build model with both approch\n",
    "#1) balance the data and perform model building\n",
    "#2 ) model building without balancing data"
   ]
  },
  {
   "cell_type": "code",
   "execution_count": 97,
   "id": "9b421316",
   "metadata": {
    "colab": {
     "base_uri": "https://localhost:8080/",
     "height": 390
    },
    "id": "9b421316",
    "outputId": "9a25dd84-dccc-467d-e73e-a774a572b671"
   },
   "outputs": [
    {
     "name": "stdout",
     "output_type": "stream",
     "text": [
      "Target\n",
      "0.0       227451\n",
      "1.0          394\n",
      "dtype: int64\n",
      "Target\n",
      "0.0       227451\n",
      "1.0       227451\n",
      "dtype: int64\n"
     ]
    }
   ],
   "source": [
    "from imblearn.over_sampling import SMOTE\n",
    "\n",
    "ros = SMOTE()\n",
    "x_ros,y_ros=ros.fit_resample(sc_x,y)\n",
    "print(y.value_counts())\n",
    "print(y_ros.value_counts())"
   ]
  },
  {
   "cell_type": "code",
   "execution_count": 98,
   "id": "af6abeb5",
   "metadata": {
    "id": "af6abeb5"
   },
   "outputs": [],
   "source": [
    "# Split the data into train and test split for model buildig\n",
    "\n",
    "from sklearn.model_selection import train_test_split"
   ]
  },
  {
   "cell_type": "code",
   "execution_count": 99,
   "id": "cf8f86fb",
   "metadata": {
    "id": "cf8f86fb"
   },
   "outputs": [],
   "source": [
    "x_train,x_test,y_train,y_test=train_test_split(x_ros,y_ros,test_size=0.25,random_state=101)"
   ]
  },
  {
   "cell_type": "code",
   "execution_count": 100,
   "id": "c28092e0",
   "metadata": {},
   "outputs": [],
   "source": [
    "from sklearn.metrics import accuracy_score\n",
    "from sklearn.metrics import confusion_matrix,classification_report\n",
    "from sklearn.model_selection import cross_val_score\n",
    "from sklearn .metrics import roc_auc_score\n",
    "from sklearn .metrics import roc_curve\n",
    "import pylab as pl"
   ]
  },
  {
   "cell_type": "code",
   "execution_count": 101,
   "id": "459c741e",
   "metadata": {},
   "outputs": [],
   "source": [
    "model_df={}\n",
    "def model_val(model,x_train,y_train):\n",
    "    model.fit(x_train,y_train)\n",
    "    y_pred=model.predict(x_test)\n",
    "    print(f\"{model} test accuracy is {round(accuracy_score(y_test,y_pred),2)}\")\n",
    "    \n",
    "    train_score=cross_val_score(model,x_train,y_train,cv=5)\n",
    "    test_score=cross_val_score(model,x_test,y_test,cv=5)\n",
    "    print(f\"{model} Avg cross val training score is {np.mean(train_score)}\")\n",
    "    print(f\"{model} Avg cross val testing score is {np.mean(test_score)}\")\n",
    "    model_df[model]=round(np.mean(test_score)*100,2)\n",
    "    print(\"Average % test accuracy\",model_df[model])\n",
    "    print (\"Confusion Matrix\")\n",
    "    cm = confusion_matrix(y_test,y_pred)\n",
    "    print(cm)\n",
    "    print (\"Classification Report\")\n",
    "    print(classification_report(y_test,y_pred))\n",
    "    auc = np.round(roc_auc_score(y_test,y_pred), 3)\n",
    "    print(\"Auc score is {}\".format(auc))\n",
    "    ax= plt.subplot()\n",
    "    sns.heatmap(cm, annot=True, fmt='g', ax=ax)\n",
    "    ax.set_xlabel('Predicted labels');ax.set_ylabel('True labels'); \n",
    "    ax.set_title('Confusion Matrix'); \n",
    "    ax.xaxis.set_ticklabels([\"0:Not_Fraud\",\"1:Fraud\",]); ax.yaxis.set_ticklabels([\"0:Not_Fraud\",\"1: Fraud\"]);"
   ]
  },
  {
   "cell_type": "code",
   "execution_count": 102,
   "id": "76a60ce0",
   "metadata": {},
   "outputs": [],
   "source": [
    "from sklearn. linear_model import LogisticRegression\n",
    "from sklearn.ensemble import RandomForestClassifier\n",
    "from sklearn.tree import DecisionTreeClassifier\n",
    "\n"
   ]
  },
  {
   "cell_type": "code",
   "execution_count": 103,
   "id": "47f1b7bd",
   "metadata": {},
   "outputs": [
    {
     "name": "stdout",
     "output_type": "stream",
     "text": [
      "LogisticRegression() test accuracy is 0.94\n",
      "LogisticRegression() Avg cross val training score is 0.935722707711532\n",
      "LogisticRegression() Avg cross val testing score is 0.935722707711532\n",
      "Average % test accuracy 93.57\n",
      "Confusion Matrix\n",
      "[[55218  1606]\n",
      " [ 5685 51217]]\n",
      "Classification Report\n",
      "              precision    recall  f1-score   support\n",
      "\n",
      "         0.0       0.91      0.97      0.94     56824\n",
      "         1.0       0.97      0.90      0.93     56902\n",
      "\n",
      "    accuracy                           0.94    113726\n",
      "   macro avg       0.94      0.94      0.94    113726\n",
      "weighted avg       0.94      0.94      0.94    113726\n",
      "\n",
      "Auc score is 0.936\n"
     ]
    },
    {
     "data": {
      "image/png": "[encoded data removed]",
      "text/plain": [
       "<Figure size 640x480 with 2 Axes>"
      ]
     },
     "metadata": {},
     "output_type": "display_data"
    }
   ],
   "source": [
    "lr = LogisticRegression()\n",
    "log= lr.fit(x_train,y_train)\n",
    "y_pred_lr=lr.predict(x_test)\n",
    "accuracylr = accuracy_score(y_test,y_pred_lr)\n",
    "accuracylr\n",
    "model_val(lr,x_test,y_test)"
   ]
  },
  {
   "cell_type": "code",
   "execution_count": null,
   "id": "4d0134aa",
   "metadata": {},
   "outputs": [],
   "source": [
    "log_reg={\"penalty\" : ['l1', 'l2', 'elasticnet', 'none'],\n",
    "         \"solver\" : ['newton-cg', 'lbfgs', 'liblinear', 'sag', 'saga'],\n",
    "         \"multi_class\" : ['auto', 'ovr', 'multinomial']\n",
    "        }\n",
    "\n",
    "Log_rs=GridSearchCV(LogisticRegression(),param_grid=log_reg,n_jobs=10, cv=5,verbose=True)\n",
    "\n",
    "Log_rs.fit(x_train,y_train)\n",
    "\n",
    "Log_rs.best_params_"
   ]
  },
  {
   "cell_type": "markdown",
   "id": "43ed2b87",
   "metadata": {
    "id": "43ed2b87"
   },
   "source": [
    "# Decission Tree"
   ]
  },
  {
   "cell_type": "code",
   "execution_count": 104,
   "id": "5a563dff",
   "metadata": {},
   "outputs": [
    {
     "name": "stdout",
     "output_type": "stream",
     "text": [
      "DecisionTreeClassifier(max_depth=10, min_samples_leaf=8, min_samples_split=8) test accuracy is 0.99\n",
      "DecisionTreeClassifier(max_depth=10, min_samples_leaf=8, min_samples_split=8) Avg cross val training score is 0.9861654978151959\n",
      "DecisionTreeClassifier(max_depth=10, min_samples_leaf=8, min_samples_split=8) Avg cross val testing score is 0.9841197258910406\n",
      "Average % test accuracy 98.41\n",
      "Confusion Matrix\n",
      "[[56064   760]\n",
      " [  726 56176]]\n",
      "Classification Report\n",
      "              precision    recall  f1-score   support\n",
      "\n",
      "         0.0       0.99      0.99      0.99     56824\n",
      "         1.0       0.99      0.99      0.99     56902\n",
      "\n",
      "    accuracy                           0.99    113726\n",
      "   macro avg       0.99      0.99      0.99    113726\n",
      "weighted avg       0.99      0.99      0.99    113726\n",
      "\n",
      "Auc score is 0.987\n",
      "0.9869335068497969\n"
     ]
    },
    {
     "data": {
      "image/png": "[encoded data removed]",
      "text/plain": [
       "<Figure size 640x480 with 2 Axes>"
      ]
     },
     "metadata": {},
     "output_type": "display_data"
    }
   ],
   "source": [
    "dt = DecisionTreeClassifier(criterion='gini', max_depth = 10, min_samples_leaf= 8, min_samples_split= 8)\n",
    "dec = dt.fit(x_train,y_train)\n",
    "model_val(dt,x_train,y_train)\n",
    "\n",
    "\n",
    "y_pred=dt.predict(x_test)\n",
    "dt= accuracy_score(y_test,y_pred)\n",
    "print(dt)"
   ]
  },
  {
   "cell_type": "code",
   "execution_count": 105,
   "id": "7779bb52",
   "metadata": {},
   "outputs": [
    {
     "name": "stdout",
     "output_type": "stream",
     "text": [
      "Fitting 5 folds for each of 512 candidates, totalling 2560 fits\n"
     ]
    },
    {
     "ename": "KeyboardInterrupt",
     "evalue": "",
     "output_type": "error",
     "traceback": [
      "\u001b[1;31m---------------------------------------------------------------------------\u001b[0m",
      "\u001b[1;31mKeyboardInterrupt\u001b[0m                         Traceback (most recent call last)",
      "\u001b[1;32m~\\AppData\\Local\\Temp\\ipykernel_14672\\2056221823.py\u001b[0m in \u001b[0;36m<module>\u001b[1;34m\u001b[0m\n\u001b[0;32m      9\u001b[0m \u001b[1;33m\u001b[0m\u001b[0m\n\u001b[0;32m     10\u001b[0m \u001b[0mgrid_search\u001b[0m \u001b[1;33m=\u001b[0m \u001b[0mGridSearchCV\u001b[0m\u001b[1;33m(\u001b[0m\u001b[0mDecisionTreeClassifier\u001b[0m\u001b[1;33m(\u001b[0m\u001b[1;33m)\u001b[0m\u001b[1;33m,\u001b[0m \u001b[0mgrid_params\u001b[0m\u001b[1;33m,\u001b[0m \u001b[0mcv\u001b[0m \u001b[1;33m=\u001b[0m \u001b[1;36m5\u001b[0m\u001b[1;33m,\u001b[0m \u001b[0mn_jobs\u001b[0m \u001b[1;33m=\u001b[0m \u001b[1;33m-\u001b[0m\u001b[1;36m1\u001b[0m\u001b[1;33m,\u001b[0m \u001b[0mverbose\u001b[0m \u001b[1;33m=\u001b[0m \u001b[1;36m1\u001b[0m\u001b[1;33m)\u001b[0m\u001b[1;33m\u001b[0m\u001b[1;33m\u001b[0m\u001b[0m\n\u001b[1;32m---> 11\u001b[1;33m \u001b[0mgrid_search\u001b[0m\u001b[1;33m.\u001b[0m\u001b[0mfit\u001b[0m\u001b[1;33m(\u001b[0m\u001b[0mx_train\u001b[0m\u001b[1;33m,\u001b[0m \u001b[0my_train\u001b[0m\u001b[1;33m)\u001b[0m\u001b[1;33m\u001b[0m\u001b[1;33m\u001b[0m\u001b[0m\n\u001b[0m",
      "\u001b[1;32m~\\anaconda3\\lib\\site-packages\\sklearn\\model_selection\\_search.py\u001b[0m in \u001b[0;36mfit\u001b[1;34m(self, X, y, groups, **fit_params)\u001b[0m\n\u001b[0;32m    889\u001b[0m                 \u001b[1;32mreturn\u001b[0m \u001b[0mresults\u001b[0m\u001b[1;33m\u001b[0m\u001b[1;33m\u001b[0m\u001b[0m\n\u001b[0;32m    890\u001b[0m \u001b[1;33m\u001b[0m\u001b[0m\n\u001b[1;32m--> 891\u001b[1;33m             \u001b[0mself\u001b[0m\u001b[1;33m.\u001b[0m\u001b[0m_run_search\u001b[0m\u001b[1;33m(\u001b[0m\u001b[0mevaluate_candidates\u001b[0m\u001b[1;33m)\u001b[0m\u001b[1;33m\u001b[0m\u001b[1;33m\u001b[0m\u001b[0m\n\u001b[0m\u001b[0;32m    892\u001b[0m \u001b[1;33m\u001b[0m\u001b[0m\n\u001b[0;32m    893\u001b[0m             \u001b[1;31m# multimetric is determined here because in the case of a callable\u001b[0m\u001b[1;33m\u001b[0m\u001b[1;33m\u001b[0m\u001b[0m\n",
      "\u001b[1;32m~\\anaconda3\\lib\\site-packages\\sklearn\\model_selection\\_search.py\u001b[0m in \u001b[0;36m_run_search\u001b[1;34m(self, evaluate_candidates)\u001b[0m\n\u001b[0;32m   1390\u001b[0m     \u001b[1;32mdef\u001b[0m \u001b[0m_run_search\u001b[0m\u001b[1;33m(\u001b[0m\u001b[0mself\u001b[0m\u001b[1;33m,\u001b[0m \u001b[0mevaluate_candidates\u001b[0m\u001b[1;33m)\u001b[0m\u001b[1;33m:\u001b[0m\u001b[1;33m\u001b[0m\u001b[1;33m\u001b[0m\u001b[0m\n\u001b[0;32m   1391\u001b[0m         \u001b[1;34m\"\"\"Search all candidates in param_grid\"\"\"\u001b[0m\u001b[1;33m\u001b[0m\u001b[1;33m\u001b[0m\u001b[0m\n\u001b[1;32m-> 1392\u001b[1;33m         \u001b[0mevaluate_candidates\u001b[0m\u001b[1;33m(\u001b[0m\u001b[0mParameterGrid\u001b[0m\u001b[1;33m(\u001b[0m\u001b[0mself\u001b[0m\u001b[1;33m.\u001b[0m\u001b[0mparam_grid\u001b[0m\u001b[1;33m)\u001b[0m\u001b[1;33m)\u001b[0m\u001b[1;33m\u001b[0m\u001b[1;33m\u001b[0m\u001b[0m\n\u001b[0m\u001b[0;32m   1393\u001b[0m \u001b[1;33m\u001b[0m\u001b[0m\n\u001b[0;32m   1394\u001b[0m \u001b[1;33m\u001b[0m\u001b[0m\n",
      "\u001b[1;32m~\\anaconda3\\lib\\site-packages\\sklearn\\model_selection\\_search.py\u001b[0m in \u001b[0;36mevaluate_candidates\u001b[1;34m(candidate_params, cv, more_results)\u001b[0m\n\u001b[0;32m    836\u001b[0m                     )\n\u001b[0;32m    837\u001b[0m \u001b[1;33m\u001b[0m\u001b[0m\n\u001b[1;32m--> 838\u001b[1;33m                 out = parallel(\n\u001b[0m\u001b[0;32m    839\u001b[0m                     delayed(_fit_and_score)(\n\u001b[0;32m    840\u001b[0m                         \u001b[0mclone\u001b[0m\u001b[1;33m(\u001b[0m\u001b[0mbase_estimator\u001b[0m\u001b[1;33m)\u001b[0m\u001b[1;33m,\u001b[0m\u001b[1;33m\u001b[0m\u001b[1;33m\u001b[0m\u001b[0m\n",
      "\u001b[1;32m~\\anaconda3\\lib\\site-packages\\joblib\\parallel.py\u001b[0m in \u001b[0;36m__call__\u001b[1;34m(self, iterable)\u001b[0m\n\u001b[0;32m   1054\u001b[0m \u001b[1;33m\u001b[0m\u001b[0m\n\u001b[0;32m   1055\u001b[0m             \u001b[1;32mwith\u001b[0m \u001b[0mself\u001b[0m\u001b[1;33m.\u001b[0m\u001b[0m_backend\u001b[0m\u001b[1;33m.\u001b[0m\u001b[0mretrieval_context\u001b[0m\u001b[1;33m(\u001b[0m\u001b[1;33m)\u001b[0m\u001b[1;33m:\u001b[0m\u001b[1;33m\u001b[0m\u001b[1;33m\u001b[0m\u001b[0m\n\u001b[1;32m-> 1056\u001b[1;33m                 \u001b[0mself\u001b[0m\u001b[1;33m.\u001b[0m\u001b[0mretrieve\u001b[0m\u001b[1;33m(\u001b[0m\u001b[1;33m)\u001b[0m\u001b[1;33m\u001b[0m\u001b[1;33m\u001b[0m\u001b[0m\n\u001b[0m\u001b[0;32m   1057\u001b[0m             \u001b[1;31m# Make sure that we get a last message telling us we are done\u001b[0m\u001b[1;33m\u001b[0m\u001b[1;33m\u001b[0m\u001b[0m\n\u001b[0;32m   1058\u001b[0m             \u001b[0melapsed_time\u001b[0m \u001b[1;33m=\u001b[0m \u001b[0mtime\u001b[0m\u001b[1;33m.\u001b[0m\u001b[0mtime\u001b[0m\u001b[1;33m(\u001b[0m\u001b[1;33m)\u001b[0m \u001b[1;33m-\u001b[0m \u001b[0mself\u001b[0m\u001b[1;33m.\u001b[0m\u001b[0m_start_time\u001b[0m\u001b[1;33m\u001b[0m\u001b[1;33m\u001b[0m\u001b[0m\n",
      "\u001b[1;32m~\\anaconda3\\lib\\site-packages\\joblib\\parallel.py\u001b[0m in \u001b[0;36mretrieve\u001b[1;34m(self)\u001b[0m\n\u001b[0;32m    933\u001b[0m             \u001b[1;32mtry\u001b[0m\u001b[1;33m:\u001b[0m\u001b[1;33m\u001b[0m\u001b[1;33m\u001b[0m\u001b[0m\n\u001b[0;32m    934\u001b[0m                 \u001b[1;32mif\u001b[0m \u001b[0mgetattr\u001b[0m\u001b[1;33m(\u001b[0m\u001b[0mself\u001b[0m\u001b[1;33m.\u001b[0m\u001b[0m_backend\u001b[0m\u001b[1;33m,\u001b[0m \u001b[1;34m'supports_timeout'\u001b[0m\u001b[1;33m,\u001b[0m \u001b[1;32mFalse\u001b[0m\u001b[1;33m)\u001b[0m\u001b[1;33m:\u001b[0m\u001b[1;33m\u001b[0m\u001b[1;33m\u001b[0m\u001b[0m\n\u001b[1;32m--> 935\u001b[1;33m                     \u001b[0mself\u001b[0m\u001b[1;33m.\u001b[0m\u001b[0m_output\u001b[0m\u001b[1;33m.\u001b[0m\u001b[0mextend\u001b[0m\u001b[1;33m(\u001b[0m\u001b[0mjob\u001b[0m\u001b[1;33m.\u001b[0m\u001b[0mget\u001b[0m\u001b[1;33m(\u001b[0m\u001b[0mtimeout\u001b[0m\u001b[1;33m=\u001b[0m\u001b[0mself\u001b[0m\u001b[1;33m.\u001b[0m\u001b[0mtimeout\u001b[0m\u001b[1;33m)\u001b[0m\u001b[1;33m)\u001b[0m\u001b[1;33m\u001b[0m\u001b[1;33m\u001b[0m\u001b[0m\n\u001b[0m\u001b[0;32m    936\u001b[0m                 \u001b[1;32melse\u001b[0m\u001b[1;33m:\u001b[0m\u001b[1;33m\u001b[0m\u001b[1;33m\u001b[0m\u001b[0m\n\u001b[0;32m    937\u001b[0m                     \u001b[0mself\u001b[0m\u001b[1;33m.\u001b[0m\u001b[0m_output\u001b[0m\u001b[1;33m.\u001b[0m\u001b[0mextend\u001b[0m\u001b[1;33m(\u001b[0m\u001b[0mjob\u001b[0m\u001b[1;33m.\u001b[0m\u001b[0mget\u001b[0m\u001b[1;33m(\u001b[0m\u001b[1;33m)\u001b[0m\u001b[1;33m)\u001b[0m\u001b[1;33m\u001b[0m\u001b[1;33m\u001b[0m\u001b[0m\n",
      "\u001b[1;32m~\\anaconda3\\lib\\site-packages\\joblib\\_parallel_backends.py\u001b[0m in \u001b[0;36mwrap_future_result\u001b[1;34m(future, timeout)\u001b[0m\n\u001b[0;32m    540\u001b[0m         AsyncResults.get from multiprocessing.\"\"\"\n\u001b[0;32m    541\u001b[0m         \u001b[1;32mtry\u001b[0m\u001b[1;33m:\u001b[0m\u001b[1;33m\u001b[0m\u001b[1;33m\u001b[0m\u001b[0m\n\u001b[1;32m--> 542\u001b[1;33m             \u001b[1;32mreturn\u001b[0m \u001b[0mfuture\u001b[0m\u001b[1;33m.\u001b[0m\u001b[0mresult\u001b[0m\u001b[1;33m(\u001b[0m\u001b[0mtimeout\u001b[0m\u001b[1;33m=\u001b[0m\u001b[0mtimeout\u001b[0m\u001b[1;33m)\u001b[0m\u001b[1;33m\u001b[0m\u001b[1;33m\u001b[0m\u001b[0m\n\u001b[0m\u001b[0;32m    543\u001b[0m         \u001b[1;32mexcept\u001b[0m \u001b[0mCfTimeoutError\u001b[0m \u001b[1;32mas\u001b[0m \u001b[0me\u001b[0m\u001b[1;33m:\u001b[0m\u001b[1;33m\u001b[0m\u001b[1;33m\u001b[0m\u001b[0m\n\u001b[0;32m    544\u001b[0m             \u001b[1;32mraise\u001b[0m \u001b[0mTimeoutError\u001b[0m \u001b[1;32mfrom\u001b[0m \u001b[0me\u001b[0m\u001b[1;33m\u001b[0m\u001b[1;33m\u001b[0m\u001b[0m\n",
      "\u001b[1;32m~\\anaconda3\\lib\\concurrent\\futures\\_base.py\u001b[0m in \u001b[0;36mresult\u001b[1;34m(self, timeout)\u001b[0m\n\u001b[0;32m    439\u001b[0m                     \u001b[1;32mreturn\u001b[0m \u001b[0mself\u001b[0m\u001b[1;33m.\u001b[0m\u001b[0m__get_result\u001b[0m\u001b[1;33m(\u001b[0m\u001b[1;33m)\u001b[0m\u001b[1;33m\u001b[0m\u001b[1;33m\u001b[0m\u001b[0m\n\u001b[0;32m    440\u001b[0m \u001b[1;33m\u001b[0m\u001b[0m\n\u001b[1;32m--> 441\u001b[1;33m                 \u001b[0mself\u001b[0m\u001b[1;33m.\u001b[0m\u001b[0m_condition\u001b[0m\u001b[1;33m.\u001b[0m\u001b[0mwait\u001b[0m\u001b[1;33m(\u001b[0m\u001b[0mtimeout\u001b[0m\u001b[1;33m)\u001b[0m\u001b[1;33m\u001b[0m\u001b[1;33m\u001b[0m\u001b[0m\n\u001b[0m\u001b[0;32m    442\u001b[0m \u001b[1;33m\u001b[0m\u001b[0m\n\u001b[0;32m    443\u001b[0m                 \u001b[1;32mif\u001b[0m \u001b[0mself\u001b[0m\u001b[1;33m.\u001b[0m\u001b[0m_state\u001b[0m \u001b[1;32min\u001b[0m \u001b[1;33m[\u001b[0m\u001b[0mCANCELLED\u001b[0m\u001b[1;33m,\u001b[0m \u001b[0mCANCELLED_AND_NOTIFIED\u001b[0m\u001b[1;33m]\u001b[0m\u001b[1;33m:\u001b[0m\u001b[1;33m\u001b[0m\u001b[1;33m\u001b[0m\u001b[0m\n",
      "\u001b[1;32m~\\anaconda3\\lib\\threading.py\u001b[0m in \u001b[0;36mwait\u001b[1;34m(self, timeout)\u001b[0m\n\u001b[0;32m    310\u001b[0m         \u001b[1;32mtry\u001b[0m\u001b[1;33m:\u001b[0m    \u001b[1;31m# restore state no matter what (e.g., KeyboardInterrupt)\u001b[0m\u001b[1;33m\u001b[0m\u001b[1;33m\u001b[0m\u001b[0m\n\u001b[0;32m    311\u001b[0m             \u001b[1;32mif\u001b[0m \u001b[0mtimeout\u001b[0m \u001b[1;32mis\u001b[0m \u001b[1;32mNone\u001b[0m\u001b[1;33m:\u001b[0m\u001b[1;33m\u001b[0m\u001b[1;33m\u001b[0m\u001b[0m\n\u001b[1;32m--> 312\u001b[1;33m                 \u001b[0mwaiter\u001b[0m\u001b[1;33m.\u001b[0m\u001b[0macquire\u001b[0m\u001b[1;33m(\u001b[0m\u001b[1;33m)\u001b[0m\u001b[1;33m\u001b[0m\u001b[1;33m\u001b[0m\u001b[0m\n\u001b[0m\u001b[0;32m    313\u001b[0m                 \u001b[0mgotit\u001b[0m \u001b[1;33m=\u001b[0m \u001b[1;32mTrue\u001b[0m\u001b[1;33m\u001b[0m\u001b[1;33m\u001b[0m\u001b[0m\n\u001b[0;32m    314\u001b[0m             \u001b[1;32melse\u001b[0m\u001b[1;33m:\u001b[0m\u001b[1;33m\u001b[0m\u001b[1;33m\u001b[0m\u001b[0m\n",
      "\u001b[1;31mKeyboardInterrupt\u001b[0m: "
     ]
    }
   ],
   "source": [
    "from sklearn.model_selection import GridSearchCV\n",
    "\n",
    "grid_params = {\n",
    "    'criterion' : ['gini', 'entropy'],\n",
    "    'max_depth' : [3, 5, 7, 10],\n",
    "    'min_samples_split' : range(2, 10, 1),\n",
    "    'min_samples_leaf' : range(2, 10, 1)\n",
    "}\n",
    "\n",
    "grid_search = GridSearchCV(DecisionTreeClassifier(), grid_params, cv = 5, n_jobs = -1, verbose = 1)\n",
    "grid_search.fit(x_train, y_train)"
   ]
  },
  {
   "cell_type": "code",
   "execution_count": null,
   "id": "eef147f3",
   "metadata": {
    "id": "eef147f3"
   },
   "outputs": [],
   "source": [
    "# from sklearn.tree import DecisionTreeClassifier\n",
    "\n",
    "# dtree= DecisionTreeClassifier()\n",
    "# dtree.fit(x_train,y_train)\n",
    "# y_pred_DT = dtree.predict(x_train)\n",
    "# y_pred_test_DT = dtree.predict(x_test)\n",
    "# print(accuracy_score(y_train,y_pred_DT))\n",
    "# print()\n",
    "# print(accuracy_score(y_test,y_pred_test_DT))"
   ]
  },
  {
   "cell_type": "code",
   "execution_count": null,
   "id": "6ea8ba0f",
   "metadata": {
    "id": "6ea8ba0f"
   },
   "outputs": [],
   "source": [
    "# from sklearn import tree\n",
    "# tree.plot_tree(dtree,filled = True)\n",
    "# plt.show()"
   ]
  },
  {
   "cell_type": "markdown",
   "id": "44972b43",
   "metadata": {
    "id": "44972b43"
   },
   "source": [
    "# Random Forest Classification"
   ]
  },
  {
   "cell_type": "code",
   "execution_count": null,
   "id": "a5f89888",
   "metadata": {
    "id": "a5f89888"
   },
   "outputs": [],
   "source": [
    "from sklearn.ensemble import RandomForestClassifier"
   ]
  },
  {
   "cell_type": "code",
   "execution_count": 106,
   "id": "44098711",
   "metadata": {
    "id": "44098711"
   },
   "outputs": [
    {
     "ename": "KeyboardInterrupt",
     "evalue": "",
     "output_type": "error",
     "traceback": [
      "\u001b[1;31m---------------------------------------------------------------------------\u001b[0m",
      "\u001b[1;31mKeyboardInterrupt\u001b[0m                         Traceback (most recent call last)",
      "\u001b[1;32m~\\AppData\\Local\\Temp\\ipykernel_14672\\2068317798.py\u001b[0m in \u001b[0;36m<module>\u001b[1;34m\u001b[0m\n\u001b[0;32m      1\u001b[0m \u001b[0mrf\u001b[0m\u001b[1;33m=\u001b[0m\u001b[0mRandomForestClassifier\u001b[0m\u001b[1;33m(\u001b[0m\u001b[1;33m)\u001b[0m\u001b[1;33m\u001b[0m\u001b[1;33m\u001b[0m\u001b[0m\n\u001b[0;32m      2\u001b[0m \u001b[0mrand\u001b[0m \u001b[1;33m=\u001b[0m \u001b[0mrf\u001b[0m\u001b[1;33m.\u001b[0m\u001b[0mfit\u001b[0m\u001b[1;33m(\u001b[0m\u001b[0mx_train\u001b[0m\u001b[1;33m,\u001b[0m\u001b[0my_train\u001b[0m\u001b[1;33m)\u001b[0m\u001b[1;33m\u001b[0m\u001b[1;33m\u001b[0m\u001b[0m\n\u001b[1;32m----> 3\u001b[1;33m \u001b[0mmodel_val\u001b[0m\u001b[1;33m(\u001b[0m\u001b[0mrf\u001b[0m\u001b[1;33m,\u001b[0m\u001b[0mx_train\u001b[0m\u001b[1;33m,\u001b[0m\u001b[0my_train\u001b[0m\u001b[1;33m)\u001b[0m\u001b[1;33m\u001b[0m\u001b[1;33m\u001b[0m\u001b[0m\n\u001b[0m\u001b[0;32m      4\u001b[0m \u001b[1;33m\u001b[0m\u001b[0m\n\u001b[0;32m      5\u001b[0m \u001b[0my_pred\u001b[0m\u001b[1;33m=\u001b[0m\u001b[0mrf\u001b[0m\u001b[1;33m.\u001b[0m\u001b[0mpredict\u001b[0m\u001b[1;33m(\u001b[0m\u001b[0mx_test\u001b[0m\u001b[1;33m)\u001b[0m\u001b[1;33m\u001b[0m\u001b[1;33m\u001b[0m\u001b[0m\n",
      "\u001b[1;32m~\\AppData\\Local\\Temp\\ipykernel_14672\\3272289513.py\u001b[0m in \u001b[0;36mmodel_val\u001b[1;34m(model, x_train, y_train)\u001b[0m\n\u001b[0;32m      1\u001b[0m \u001b[0mmodel_df\u001b[0m\u001b[1;33m=\u001b[0m\u001b[1;33m{\u001b[0m\u001b[1;33m}\u001b[0m\u001b[1;33m\u001b[0m\u001b[1;33m\u001b[0m\u001b[0m\n\u001b[0;32m      2\u001b[0m \u001b[1;32mdef\u001b[0m \u001b[0mmodel_val\u001b[0m\u001b[1;33m(\u001b[0m\u001b[0mmodel\u001b[0m\u001b[1;33m,\u001b[0m\u001b[0mx_train\u001b[0m\u001b[1;33m,\u001b[0m\u001b[0my_train\u001b[0m\u001b[1;33m)\u001b[0m\u001b[1;33m:\u001b[0m\u001b[1;33m\u001b[0m\u001b[1;33m\u001b[0m\u001b[0m\n\u001b[1;32m----> 3\u001b[1;33m     \u001b[0mmodel\u001b[0m\u001b[1;33m.\u001b[0m\u001b[0mfit\u001b[0m\u001b[1;33m(\u001b[0m\u001b[0mx_train\u001b[0m\u001b[1;33m,\u001b[0m\u001b[0my_train\u001b[0m\u001b[1;33m)\u001b[0m\u001b[1;33m\u001b[0m\u001b[1;33m\u001b[0m\u001b[0m\n\u001b[0m\u001b[0;32m      4\u001b[0m     \u001b[0my_pred\u001b[0m\u001b[1;33m=\u001b[0m\u001b[0mmodel\u001b[0m\u001b[1;33m.\u001b[0m\u001b[0mpredict\u001b[0m\u001b[1;33m(\u001b[0m\u001b[0mx_test\u001b[0m\u001b[1;33m)\u001b[0m\u001b[1;33m\u001b[0m\u001b[1;33m\u001b[0m\u001b[0m\n\u001b[0;32m      5\u001b[0m     \u001b[0mprint\u001b[0m\u001b[1;33m(\u001b[0m\u001b[1;34mf\"{model} test accuracy is {round(accuracy_score(y_test,y_pred),2)}\"\u001b[0m\u001b[1;33m)\u001b[0m\u001b[1;33m\u001b[0m\u001b[1;33m\u001b[0m\u001b[0m\n",
      "\u001b[1;32m~\\anaconda3\\lib\\site-packages\\sklearn\\ensemble\\_forest.py\u001b[0m in \u001b[0;36mfit\u001b[1;34m(self, X, y, sample_weight)\u001b[0m\n\u001b[0;32m    448\u001b[0m             \u001b[1;31m# parallel_backend contexts set at a higher level,\u001b[0m\u001b[1;33m\u001b[0m\u001b[1;33m\u001b[0m\u001b[0m\n\u001b[0;32m    449\u001b[0m             \u001b[1;31m# since correctness does not rely on using threads.\u001b[0m\u001b[1;33m\u001b[0m\u001b[1;33m\u001b[0m\u001b[0m\n\u001b[1;32m--> 450\u001b[1;33m             trees = Parallel(\n\u001b[0m\u001b[0;32m    451\u001b[0m                 \u001b[0mn_jobs\u001b[0m\u001b[1;33m=\u001b[0m\u001b[0mself\u001b[0m\u001b[1;33m.\u001b[0m\u001b[0mn_jobs\u001b[0m\u001b[1;33m,\u001b[0m\u001b[1;33m\u001b[0m\u001b[1;33m\u001b[0m\u001b[0m\n\u001b[0;32m    452\u001b[0m                 \u001b[0mverbose\u001b[0m\u001b[1;33m=\u001b[0m\u001b[0mself\u001b[0m\u001b[1;33m.\u001b[0m\u001b[0mverbose\u001b[0m\u001b[1;33m,\u001b[0m\u001b[1;33m\u001b[0m\u001b[1;33m\u001b[0m\u001b[0m\n",
      "\u001b[1;32m~\\anaconda3\\lib\\site-packages\\joblib\\parallel.py\u001b[0m in \u001b[0;36m__call__\u001b[1;34m(self, iterable)\u001b[0m\n\u001b[0;32m   1044\u001b[0m                 \u001b[0mself\u001b[0m\u001b[1;33m.\u001b[0m\u001b[0m_iterating\u001b[0m \u001b[1;33m=\u001b[0m \u001b[0mself\u001b[0m\u001b[1;33m.\u001b[0m\u001b[0m_original_iterator\u001b[0m \u001b[1;32mis\u001b[0m \u001b[1;32mnot\u001b[0m \u001b[1;32mNone\u001b[0m\u001b[1;33m\u001b[0m\u001b[1;33m\u001b[0m\u001b[0m\n\u001b[0;32m   1045\u001b[0m \u001b[1;33m\u001b[0m\u001b[0m\n\u001b[1;32m-> 1046\u001b[1;33m             \u001b[1;32mwhile\u001b[0m \u001b[0mself\u001b[0m\u001b[1;33m.\u001b[0m\u001b[0mdispatch_one_batch\u001b[0m\u001b[1;33m(\u001b[0m\u001b[0miterator\u001b[0m\u001b[1;33m)\u001b[0m\u001b[1;33m:\u001b[0m\u001b[1;33m\u001b[0m\u001b[1;33m\u001b[0m\u001b[0m\n\u001b[0m\u001b[0;32m   1047\u001b[0m                 \u001b[1;32mpass\u001b[0m\u001b[1;33m\u001b[0m\u001b[1;33m\u001b[0m\u001b[0m\n\u001b[0;32m   1048\u001b[0m \u001b[1;33m\u001b[0m\u001b[0m\n",
      "\u001b[1;32m~\\anaconda3\\lib\\site-packages\\joblib\\parallel.py\u001b[0m in \u001b[0;36mdispatch_one_batch\u001b[1;34m(self, iterator)\u001b[0m\n\u001b[0;32m    859\u001b[0m                 \u001b[1;32mreturn\u001b[0m \u001b[1;32mFalse\u001b[0m\u001b[1;33m\u001b[0m\u001b[1;33m\u001b[0m\u001b[0m\n\u001b[0;32m    860\u001b[0m             \u001b[1;32melse\u001b[0m\u001b[1;33m:\u001b[0m\u001b[1;33m\u001b[0m\u001b[1;33m\u001b[0m\u001b[0m\n\u001b[1;32m--> 861\u001b[1;33m                 \u001b[0mself\u001b[0m\u001b[1;33m.\u001b[0m\u001b[0m_dispatch\u001b[0m\u001b[1;33m(\u001b[0m\u001b[0mtasks\u001b[0m\u001b[1;33m)\u001b[0m\u001b[1;33m\u001b[0m\u001b[1;33m\u001b[0m\u001b[0m\n\u001b[0m\u001b[0;32m    862\u001b[0m                 \u001b[1;32mreturn\u001b[0m \u001b[1;32mTrue\u001b[0m\u001b[1;33m\u001b[0m\u001b[1;33m\u001b[0m\u001b[0m\n\u001b[0;32m    863\u001b[0m \u001b[1;33m\u001b[0m\u001b[0m\n",
      "\u001b[1;32m~\\anaconda3\\lib\\site-packages\\joblib\\parallel.py\u001b[0m in \u001b[0;36m_dispatch\u001b[1;34m(self, batch)\u001b[0m\n\u001b[0;32m    777\u001b[0m         \u001b[1;32mwith\u001b[0m \u001b[0mself\u001b[0m\u001b[1;33m.\u001b[0m\u001b[0m_lock\u001b[0m\u001b[1;33m:\u001b[0m\u001b[1;33m\u001b[0m\u001b[1;33m\u001b[0m\u001b[0m\n\u001b[0;32m    778\u001b[0m             \u001b[0mjob_idx\u001b[0m \u001b[1;33m=\u001b[0m \u001b[0mlen\u001b[0m\u001b[1;33m(\u001b[0m\u001b[0mself\u001b[0m\u001b[1;33m.\u001b[0m\u001b[0m_jobs\u001b[0m\u001b[1;33m)\u001b[0m\u001b[1;33m\u001b[0m\u001b[1;33m\u001b[0m\u001b[0m\n\u001b[1;32m--> 779\u001b[1;33m             \u001b[0mjob\u001b[0m \u001b[1;33m=\u001b[0m \u001b[0mself\u001b[0m\u001b[1;33m.\u001b[0m\u001b[0m_backend\u001b[0m\u001b[1;33m.\u001b[0m\u001b[0mapply_async\u001b[0m\u001b[1;33m(\u001b[0m\u001b[0mbatch\u001b[0m\u001b[1;33m,\u001b[0m \u001b[0mcallback\u001b[0m\u001b[1;33m=\u001b[0m\u001b[0mcb\u001b[0m\u001b[1;33m)\u001b[0m\u001b[1;33m\u001b[0m\u001b[1;33m\u001b[0m\u001b[0m\n\u001b[0m\u001b[0;32m    780\u001b[0m             \u001b[1;31m# A job can complete so quickly than its callback is\u001b[0m\u001b[1;33m\u001b[0m\u001b[1;33m\u001b[0m\u001b[0m\n\u001b[0;32m    781\u001b[0m             \u001b[1;31m# called before we get here, causing self._jobs to\u001b[0m\u001b[1;33m\u001b[0m\u001b[1;33m\u001b[0m\u001b[0m\n",
      "\u001b[1;32m~\\anaconda3\\lib\\site-packages\\joblib\\_parallel_backends.py\u001b[0m in \u001b[0;36mapply_async\u001b[1;34m(self, func, callback)\u001b[0m\n\u001b[0;32m    206\u001b[0m     \u001b[1;32mdef\u001b[0m \u001b[0mapply_async\u001b[0m\u001b[1;33m(\u001b[0m\u001b[0mself\u001b[0m\u001b[1;33m,\u001b[0m \u001b[0mfunc\u001b[0m\u001b[1;33m,\u001b[0m \u001b[0mcallback\u001b[0m\u001b[1;33m=\u001b[0m\u001b[1;32mNone\u001b[0m\u001b[1;33m)\u001b[0m\u001b[1;33m:\u001b[0m\u001b[1;33m\u001b[0m\u001b[1;33m\u001b[0m\u001b[0m\n\u001b[0;32m    207\u001b[0m         \u001b[1;34m\"\"\"Schedule a func to be run\"\"\"\u001b[0m\u001b[1;33m\u001b[0m\u001b[1;33m\u001b[0m\u001b[0m\n\u001b[1;32m--> 208\u001b[1;33m         \u001b[0mresult\u001b[0m \u001b[1;33m=\u001b[0m \u001b[0mImmediateResult\u001b[0m\u001b[1;33m(\u001b[0m\u001b[0mfunc\u001b[0m\u001b[1;33m)\u001b[0m\u001b[1;33m\u001b[0m\u001b[1;33m\u001b[0m\u001b[0m\n\u001b[0m\u001b[0;32m    209\u001b[0m         \u001b[1;32mif\u001b[0m \u001b[0mcallback\u001b[0m\u001b[1;33m:\u001b[0m\u001b[1;33m\u001b[0m\u001b[1;33m\u001b[0m\u001b[0m\n\u001b[0;32m    210\u001b[0m             \u001b[0mcallback\u001b[0m\u001b[1;33m(\u001b[0m\u001b[0mresult\u001b[0m\u001b[1;33m)\u001b[0m\u001b[1;33m\u001b[0m\u001b[1;33m\u001b[0m\u001b[0m\n",
      "\u001b[1;32m~\\anaconda3\\lib\\site-packages\\joblib\\_parallel_backends.py\u001b[0m in \u001b[0;36m__init__\u001b[1;34m(self, batch)\u001b[0m\n\u001b[0;32m    570\u001b[0m         \u001b[1;31m# Don't delay the application, to avoid keeping the input\u001b[0m\u001b[1;33m\u001b[0m\u001b[1;33m\u001b[0m\u001b[0m\n\u001b[0;32m    571\u001b[0m         \u001b[1;31m# arguments in memory\u001b[0m\u001b[1;33m\u001b[0m\u001b[1;33m\u001b[0m\u001b[0m\n\u001b[1;32m--> 572\u001b[1;33m         \u001b[0mself\u001b[0m\u001b[1;33m.\u001b[0m\u001b[0mresults\u001b[0m \u001b[1;33m=\u001b[0m \u001b[0mbatch\u001b[0m\u001b[1;33m(\u001b[0m\u001b[1;33m)\u001b[0m\u001b[1;33m\u001b[0m\u001b[1;33m\u001b[0m\u001b[0m\n\u001b[0m\u001b[0;32m    573\u001b[0m \u001b[1;33m\u001b[0m\u001b[0m\n\u001b[0;32m    574\u001b[0m     \u001b[1;32mdef\u001b[0m \u001b[0mget\u001b[0m\u001b[1;33m(\u001b[0m\u001b[0mself\u001b[0m\u001b[1;33m)\u001b[0m\u001b[1;33m:\u001b[0m\u001b[1;33m\u001b[0m\u001b[1;33m\u001b[0m\u001b[0m\n",
      "\u001b[1;32m~\\anaconda3\\lib\\site-packages\\joblib\\parallel.py\u001b[0m in \u001b[0;36m__call__\u001b[1;34m(self)\u001b[0m\n\u001b[0;32m    260\u001b[0m         \u001b[1;31m# change the default number of processes to -1\u001b[0m\u001b[1;33m\u001b[0m\u001b[1;33m\u001b[0m\u001b[0m\n\u001b[0;32m    261\u001b[0m         \u001b[1;32mwith\u001b[0m \u001b[0mparallel_backend\u001b[0m\u001b[1;33m(\u001b[0m\u001b[0mself\u001b[0m\u001b[1;33m.\u001b[0m\u001b[0m_backend\u001b[0m\u001b[1;33m,\u001b[0m \u001b[0mn_jobs\u001b[0m\u001b[1;33m=\u001b[0m\u001b[0mself\u001b[0m\u001b[1;33m.\u001b[0m\u001b[0m_n_jobs\u001b[0m\u001b[1;33m)\u001b[0m\u001b[1;33m:\u001b[0m\u001b[1;33m\u001b[0m\u001b[1;33m\u001b[0m\u001b[0m\n\u001b[1;32m--> 262\u001b[1;33m             return [func(*args, **kwargs)\n\u001b[0m\u001b[0;32m    263\u001b[0m                     for func, args, kwargs in self.items]\n\u001b[0;32m    264\u001b[0m \u001b[1;33m\u001b[0m\u001b[0m\n",
      "\u001b[1;32m~\\anaconda3\\lib\\site-packages\\joblib\\parallel.py\u001b[0m in \u001b[0;36m<listcomp>\u001b[1;34m(.0)\u001b[0m\n\u001b[0;32m    260\u001b[0m         \u001b[1;31m# change the default number of processes to -1\u001b[0m\u001b[1;33m\u001b[0m\u001b[1;33m\u001b[0m\u001b[0m\n\u001b[0;32m    261\u001b[0m         \u001b[1;32mwith\u001b[0m \u001b[0mparallel_backend\u001b[0m\u001b[1;33m(\u001b[0m\u001b[0mself\u001b[0m\u001b[1;33m.\u001b[0m\u001b[0m_backend\u001b[0m\u001b[1;33m,\u001b[0m \u001b[0mn_jobs\u001b[0m\u001b[1;33m=\u001b[0m\u001b[0mself\u001b[0m\u001b[1;33m.\u001b[0m\u001b[0m_n_jobs\u001b[0m\u001b[1;33m)\u001b[0m\u001b[1;33m:\u001b[0m\u001b[1;33m\u001b[0m\u001b[1;33m\u001b[0m\u001b[0m\n\u001b[1;32m--> 262\u001b[1;33m             return [func(*args, **kwargs)\n\u001b[0m\u001b[0;32m    263\u001b[0m                     for func, args, kwargs in self.items]\n\u001b[0;32m    264\u001b[0m \u001b[1;33m\u001b[0m\u001b[0m\n",
      "\u001b[1;32m~\\anaconda3\\lib\\site-packages\\sklearn\\utils\\fixes.py\u001b[0m in \u001b[0;36m__call__\u001b[1;34m(self, *args, **kwargs)\u001b[0m\n\u001b[0;32m    214\u001b[0m     \u001b[1;32mdef\u001b[0m \u001b[0m__call__\u001b[0m\u001b[1;33m(\u001b[0m\u001b[0mself\u001b[0m\u001b[1;33m,\u001b[0m \u001b[1;33m*\u001b[0m\u001b[0margs\u001b[0m\u001b[1;33m,\u001b[0m \u001b[1;33m**\u001b[0m\u001b[0mkwargs\u001b[0m\u001b[1;33m)\u001b[0m\u001b[1;33m:\u001b[0m\u001b[1;33m\u001b[0m\u001b[1;33m\u001b[0m\u001b[0m\n\u001b[0;32m    215\u001b[0m         \u001b[1;32mwith\u001b[0m \u001b[0mconfig_context\u001b[0m\u001b[1;33m(\u001b[0m\u001b[1;33m**\u001b[0m\u001b[0mself\u001b[0m\u001b[1;33m.\u001b[0m\u001b[0mconfig\u001b[0m\u001b[1;33m)\u001b[0m\u001b[1;33m:\u001b[0m\u001b[1;33m\u001b[0m\u001b[1;33m\u001b[0m\u001b[0m\n\u001b[1;32m--> 216\u001b[1;33m             \u001b[1;32mreturn\u001b[0m \u001b[0mself\u001b[0m\u001b[1;33m.\u001b[0m\u001b[0mfunction\u001b[0m\u001b[1;33m(\u001b[0m\u001b[1;33m*\u001b[0m\u001b[0margs\u001b[0m\u001b[1;33m,\u001b[0m \u001b[1;33m**\u001b[0m\u001b[0mkwargs\u001b[0m\u001b[1;33m)\u001b[0m\u001b[1;33m\u001b[0m\u001b[1;33m\u001b[0m\u001b[0m\n\u001b[0m\u001b[0;32m    217\u001b[0m \u001b[1;33m\u001b[0m\u001b[0m\n\u001b[0;32m    218\u001b[0m \u001b[1;33m\u001b[0m\u001b[0m\n",
      "\u001b[1;32m~\\anaconda3\\lib\\site-packages\\sklearn\\ensemble\\_forest.py\u001b[0m in \u001b[0;36m_parallel_build_trees\u001b[1;34m(tree, forest, X, y, sample_weight, tree_idx, n_trees, verbose, class_weight, n_samples_bootstrap)\u001b[0m\n\u001b[0;32m    183\u001b[0m             \u001b[0mcurr_sample_weight\u001b[0m \u001b[1;33m*=\u001b[0m \u001b[0mcompute_sample_weight\u001b[0m\u001b[1;33m(\u001b[0m\u001b[1;34m\"balanced\"\u001b[0m\u001b[1;33m,\u001b[0m \u001b[0my\u001b[0m\u001b[1;33m,\u001b[0m \u001b[0mindices\u001b[0m\u001b[1;33m=\u001b[0m\u001b[0mindices\u001b[0m\u001b[1;33m)\u001b[0m\u001b[1;33m\u001b[0m\u001b[1;33m\u001b[0m\u001b[0m\n\u001b[0;32m    184\u001b[0m \u001b[1;33m\u001b[0m\u001b[0m\n\u001b[1;32m--> 185\u001b[1;33m         \u001b[0mtree\u001b[0m\u001b[1;33m.\u001b[0m\u001b[0mfit\u001b[0m\u001b[1;33m(\u001b[0m\u001b[0mX\u001b[0m\u001b[1;33m,\u001b[0m \u001b[0my\u001b[0m\u001b[1;33m,\u001b[0m \u001b[0msample_weight\u001b[0m\u001b[1;33m=\u001b[0m\u001b[0mcurr_sample_weight\u001b[0m\u001b[1;33m,\u001b[0m \u001b[0mcheck_input\u001b[0m\u001b[1;33m=\u001b[0m\u001b[1;32mFalse\u001b[0m\u001b[1;33m)\u001b[0m\u001b[1;33m\u001b[0m\u001b[1;33m\u001b[0m\u001b[0m\n\u001b[0m\u001b[0;32m    186\u001b[0m     \u001b[1;32melse\u001b[0m\u001b[1;33m:\u001b[0m\u001b[1;33m\u001b[0m\u001b[1;33m\u001b[0m\u001b[0m\n\u001b[0;32m    187\u001b[0m         \u001b[0mtree\u001b[0m\u001b[1;33m.\u001b[0m\u001b[0mfit\u001b[0m\u001b[1;33m(\u001b[0m\u001b[0mX\u001b[0m\u001b[1;33m,\u001b[0m \u001b[0my\u001b[0m\u001b[1;33m,\u001b[0m \u001b[0msample_weight\u001b[0m\u001b[1;33m=\u001b[0m\u001b[0msample_weight\u001b[0m\u001b[1;33m,\u001b[0m \u001b[0mcheck_input\u001b[0m\u001b[1;33m=\u001b[0m\u001b[1;32mFalse\u001b[0m\u001b[1;33m)\u001b[0m\u001b[1;33m\u001b[0m\u001b[1;33m\u001b[0m\u001b[0m\n",
      "\u001b[1;32m~\\anaconda3\\lib\\site-packages\\sklearn\\tree\\_classes.py\u001b[0m in \u001b[0;36mfit\u001b[1;34m(self, X, y, sample_weight, check_input, X_idx_sorted)\u001b[0m\n\u001b[0;32m    935\u001b[0m         \"\"\"\n\u001b[0;32m    936\u001b[0m \u001b[1;33m\u001b[0m\u001b[0m\n\u001b[1;32m--> 937\u001b[1;33m         super().fit(\n\u001b[0m\u001b[0;32m    938\u001b[0m             \u001b[0mX\u001b[0m\u001b[1;33m,\u001b[0m\u001b[1;33m\u001b[0m\u001b[1;33m\u001b[0m\u001b[0m\n\u001b[0;32m    939\u001b[0m             \u001b[0my\u001b[0m\u001b[1;33m,\u001b[0m\u001b[1;33m\u001b[0m\u001b[1;33m\u001b[0m\u001b[0m\n",
      "\u001b[1;32m~\\anaconda3\\lib\\site-packages\\sklearn\\tree\\_classes.py\u001b[0m in \u001b[0;36mfit\u001b[1;34m(self, X, y, sample_weight, check_input, X_idx_sorted)\u001b[0m\n\u001b[0;32m    418\u001b[0m             )\n\u001b[0;32m    419\u001b[0m \u001b[1;33m\u001b[0m\u001b[0m\n\u001b[1;32m--> 420\u001b[1;33m         \u001b[0mbuilder\u001b[0m\u001b[1;33m.\u001b[0m\u001b[0mbuild\u001b[0m\u001b[1;33m(\u001b[0m\u001b[0mself\u001b[0m\u001b[1;33m.\u001b[0m\u001b[0mtree_\u001b[0m\u001b[1;33m,\u001b[0m \u001b[0mX\u001b[0m\u001b[1;33m,\u001b[0m \u001b[0my\u001b[0m\u001b[1;33m,\u001b[0m \u001b[0msample_weight\u001b[0m\u001b[1;33m)\u001b[0m\u001b[1;33m\u001b[0m\u001b[1;33m\u001b[0m\u001b[0m\n\u001b[0m\u001b[0;32m    421\u001b[0m \u001b[1;33m\u001b[0m\u001b[0m\n\u001b[0;32m    422\u001b[0m         \u001b[1;32mif\u001b[0m \u001b[0mself\u001b[0m\u001b[1;33m.\u001b[0m\u001b[0mn_outputs_\u001b[0m \u001b[1;33m==\u001b[0m \u001b[1;36m1\u001b[0m \u001b[1;32mand\u001b[0m \u001b[0mis_classifier\u001b[0m\u001b[1;33m(\u001b[0m\u001b[0mself\u001b[0m\u001b[1;33m)\u001b[0m\u001b[1;33m:\u001b[0m\u001b[1;33m\u001b[0m\u001b[1;33m\u001b[0m\u001b[0m\n",
      "\u001b[1;31mKeyboardInterrupt\u001b[0m: "
     ]
    }
   ],
   "source": [
    "rf=RandomForestClassifier()\n",
    "rand = rf.fit(x_train,y_train)\n",
    "model_val(rf,x_train,y_train)\n",
    "\n",
    "y_pred=rf.predict(x_test)\n",
    "rf_acc= accuracy_score(y_test,y_pred)\n",
    "print(rf_acc)"
   ]
  },
  {
   "cell_type": "code",
   "execution_count": null,
   "id": "86aabc97",
   "metadata": {},
   "outputs": [],
   "source": [
    "param_grid = {\"n_estimators\": [10, 50, 100, 130], \"criterion\": ['gini', 'entropy'],\n",
    "                               \"max_depth\": range(2, 10, 1),\"min_samples_split\":[2,4,6,8],\"random_state\":[46,47,23,101]}\n",
    "\n",
    "rf_grid = GridSearchCV(estimator=rf, param_grid=param_grid, cv=5,  verbose=3,n_jobs=-1)\n",
    "rf_grid.fit(x_train,y_train)\n",
    "rf_grid.best_params_"
   ]
  },
  {
   "cell_type": "markdown",
   "id": "08f7e7df",
   "metadata": {},
   "source": [
    "# GradientBoostingClassifier"
   ]
  },
  {
   "cell_type": "code",
   "execution_count": null,
   "id": "5b29480a",
   "metadata": {
    "id": "5b29480a"
   },
   "outputs": [],
   "source": [
    "from sklearn.ensemble import GradientBoostingClassifier\n",
    "GB= GradientBoostingClassifier(learning_rate= 0.1, min_samples_split= 2, n_estimators=70)\n",
    "grboost = GB.fit(x_train,y_train)\n",
    "model_val(GB,x_train,y_train)\n",
    "\n",
    "y_pred_gb=GB.predict(x_test)\n",
    "gb_acc= accuracy_score(y_test,y_pred_gb)\n",
    "print(gb_acc)"
   ]
  },
  {
   "cell_type": "code",
   "execution_count": null,
   "id": "74b62450",
   "metadata": {},
   "outputs": [],
   "source": [
    "parameters = {\n",
    "    'n_estimators' : [50, 70, 90, 120, 180, 200],\n",
    "    'learning_rate' : [0.001, 0.01, 0.1, 1, 10],\n",
    "    \"min_samples_split\":[2,6,10]\n",
    "}\n",
    "\n",
    "gb_grid_search = GridSearchCV(GB, parameters, n_jobs = -1, cv = 5, verbose = 1)\n",
    "\n",
    "gb_grid_search.fit(x_train,y_train)"
   ]
  },
  {
   "cell_type": "code",
   "execution_count": null,
   "id": "de07cc05",
   "metadata": {
    "id": "de07cc05"
   },
   "outputs": [],
   "source": [
    "# XG boost- Boosting is for undersampling  problem but in this case just trying"
   ]
  },
  {
   "cell_type": "code",
   "execution_count": null,
   "id": "6699c1bd",
   "metadata": {
    "id": "6699c1bd"
   },
   "outputs": [],
   "source": [
    "from xgboost import XGBClassifier\n",
    "xgb=XGBClassifier()\n",
    "xgb.fit(x_train,y_train)"
   ]
  },
  {
   "cell_type": "code",
   "execution_count": null,
   "id": "800f79e1",
   "metadata": {
    "id": "800f79e1"
   },
   "outputs": [],
   "source": [
    "xgb = XGBClassifier(criterion = 'gini',max_depth =7, n_estimators = 100)\n",
    "xgboost = xgb.fit(x_train,y_train)\n",
    "model_val(xgb,x_train,y_train)\n",
    "\n",
    "\n",
    "\n",
    "y_pred_xgb=xgb.predict(x_test)\n",
    "xgb_acc = accuracy_score(y_test,y_pred_xgb)\n",
    "print(xgb_acc)"
   ]
  },
  {
   "cell_type": "code",
   "execution_count": null,
   "id": "fa53ea60",
   "metadata": {},
   "outputs": [],
   "source": [
    "param_grid = {\"n_estimators\": [10, 50, 100, 130], \"criterion\": ['gini', 'entropy'],\n",
    "                               \"max_depth\": range(2, 10, 1)}\n",
    "\n",
    "xgb_grid = GridSearchCV(estimator=xgb, param_grid=param_grid, cv=5,  verbose=3,n_jobs=-1)\n",
    "xgb_grid.fit(x_train,y_train)\n",
    "\n",
    "xgb_grid.best_params_"
   ]
  },
  {
   "cell_type": "code",
   "execution_count": null,
   "id": "549d1917",
   "metadata": {},
   "outputs": [],
   "source": [
    "from sklearn.ensemble import ExtraTreesClassifier\n",
    "\n",
    "etc = ExtraTreesClassifier(criterion = 'gini', n_estimators = 70, oob_score=False)\n",
    "et = etc.fit(x_train,y_train)\n",
    "model_val(etc,x_train,y_train)\n",
    "\n",
    "y_pred_etc=etc.predict(x_test)\n",
    "etc_acc= accuracy_score(y_test,y_pred_etc)\n",
    "print(etc_acc)"
   ]
  },
  {
   "cell_type": "code",
   "execution_count": null,
   "id": "c332196f",
   "metadata": {},
   "outputs": [],
   "source": [
    "# ET Hyperparameter"
   ]
  },
  {
   "cell_type": "code",
   "execution_count": null,
   "id": "5fe426bc",
   "metadata": {},
   "outputs": [],
   "source": [
    "parameters = {\n",
    "    'n_estimators' : [50, 70, 90, 120, 180, 200],\n",
    "    'oob_score' : [True,False],\n",
    "    \"criterion\": ['gini','entropy']\n",
    "}\n",
    "\n",
    "ET_grid_search = GridSearchCV(etc, parameters, n_jobs = -1, cv = 5, verbose = 1)\n",
    "\n",
    "ET_grid_search.fit(x_train,y_train)"
   ]
  },
  {
   "cell_type": "markdown",
   "id": "cfbf2f35",
   "metadata": {
    "id": "cfbf2f35"
   },
   "source": [
    "# Stacking Classifier"
   ]
  },
  {
   "cell_type": "code",
   "execution_count": null,
   "id": "b0f1ae38",
   "metadata": {
    "id": "b0f1ae38"
   },
   "outputs": [],
   "source": [
    "!pip install mlxtend"
   ]
  },
  {
   "cell_type": "code",
   "execution_count": null,
   "id": "5406d159",
   "metadata": {
    "id": "5406d159"
   },
   "outputs": [],
   "source": [
    "from mlxtend.classifier import StackingClassifier\n",
    "from sklearn.naive_bayes import GaussianNB\n",
    "from sklearn.model_selection import cross_val_score"
   ]
  },
  {
   "cell_type": "code",
   "execution_count": null,
   "id": "bee3502e",
   "metadata": {
    "id": "bee3502e"
   },
   "outputs": [],
   "source": [
    "clf1 = LogisticRegression()\n",
    "clf2 = DecisionTreeClassifier(criterion='entropy')\n",
    "clf3 = RandomForestClassifier(n_estimators=100,criterion='entropy')\n",
    "clf4=XGBClassifier()\n",
    "clf5= ExtraTreesClassifier()\n",
    "clf6= GradientBoostingClassifier()\n",
    "sclf=StackingClassifier(classifiers=[clf2,clf3,clf4,clf5,clf6], meta_classifier = clf1)\n",
    "print(\"5 fold CV:\\n\")\n",
    "for clf,label in zip([clf2,clf3,clf4,clf5,clf6,sclf],[\"DTree\",\"RF\",\"XGBooost\",\"ExtraTreesClassifier\",\"GradientBoostingClassifier\",\"StackingClassifer\"]):\n",
    "    scores = cross_val_score(clf,x_train,y_train,cv=5,scoring=\"accuracy\")\n",
    "    print(\"Accuracy : %0.2f (+/-%0.2f)[%s]\" % (scores.mean(),scores.std(),label))"
   ]
  },
  {
   "cell_type": "code",
   "execution_count": null,
   "id": "15ffbbdc",
   "metadata": {},
   "outputs": [],
   "source": []
  },
  {
   "cell_type": "markdown",
   "id": "ce507ccc",
   "metadata": {
    "id": "ce507ccc"
   },
   "source": [
    "# Anomaly detection Model"
   ]
  },
  {
   "cell_type": "code",
   "execution_count": null,
   "id": "3d753769",
   "metadata": {
    "id": "3d753769"
   },
   "outputs": [],
   "source": [
    "from sklearn.model_selection import train_test_split\n",
    "\n",
    "x_train,x_test,y_train,y_test=train_test_split(sc_x,y,test_size=0.25,random_state=101,stratify=y)"
   ]
  },
  {
   "cell_type": "code",
   "execution_count": null,
   "id": "051e88e7",
   "metadata": {
    "id": "051e88e7"
   },
   "outputs": [],
   "source": [
    "from sklearn.ensemble import IsolationForest\n",
    "from sklearn.neighbors import LocalOutlierFactor\n",
    "from sklearn.svm import OneClassSVM"
   ]
  },
  {
   "cell_type": "code",
   "execution_count": null,
   "id": "69f5299e",
   "metadata": {
    "id": "69f5299e"
   },
   "outputs": [],
   "source": [
    "IsolationForest()"
   ]
  },
  {
   "cell_type": "code",
   "execution_count": null,
   "id": "cb779354",
   "metadata": {
    "id": "cb779354"
   },
   "outputs": [],
   "source": [
    "classification={\"IsolationForest\":IsolationForest(contamination=outlier_total),\n",
    "               \"Local_Outler_Factor\":LocalOutlierFactor(contamination=outlier_total),\n",
    "               \"OneClassSVM\": OneClassSVM()}"
   ]
  },
  {
   "cell_type": "code",
   "execution_count": null,
   "id": "3ec009b5",
   "metadata": {
    "id": "3ec009b5"
   },
   "outputs": [],
   "source": [
    "n_outlier=len(fraud)\n",
    "n_outlier"
   ]
  },
  {
   "cell_type": "code",
   "execution_count": null,
   "id": "c98150ba",
   "metadata": {
    "id": "c98150ba"
   },
   "outputs": [],
   "source": [
    "for i,(clf_name,clf)in enumerate(classification.items()):\n",
    "    if clf_name == \"Local_Outler_Factor\":\n",
    "        y_pred = clf.fit_predict(x)\n",
    "        score_predition=clf.negative_outlier_factor_\n",
    "\n",
    "    elif clf_name == \"OneClassSVM\":\n",
    "        clf.fit(x)\n",
    "        y_pred=clf.predict(x)\n",
    "    else:\n",
    "        clf.fit(x)\n",
    "        score_prediction=clf.decision_function(x)\n",
    "        y_pred=clf.predict(x)\n",
    "\n",
    "    y_pred[y_pred == 1]=0\n",
    "    y_pred[y_pred == -1]=1\n",
    "    n_error =(y_pred != 1).sum()\n",
    "    print(\"{}:{}\".format(clf_name,n_error))\n",
    "    print(\"Accuracy Score :\")\n",
    "    print(accuracy_score(y,y_pred))\n",
    "    print()\n",
    "    print(classification_report(y,y_pred))\n"
   ]
  },
  {
   "cell_type": "code",
   "execution_count": null,
   "id": "f6b133cb",
   "metadata": {
    "id": "f6b133cb"
   },
   "outputs": [],
   "source": [
    "# ANN"
   ]
  },
  {
   "cell_type": "code",
   "execution_count": null,
   "id": "EGKF4TJ7m9s-",
   "metadata": {
    "id": "EGKF4TJ7m9s-"
   },
   "outputs": [],
   "source": [
    "import tensorflow as tf\n",
    "from tensorflow import keras\n",
    "from keras.models import Sequential\n",
    "from keras.layers import *"
   ]
  },
  {
   "cell_type": "code",
   "execution_count": null,
   "id": "bnH6eXTdoUfV",
   "metadata": {
    "id": "bnH6eXTdoUfV"
   },
   "outputs": [],
   "source": [
    "model = Sequential()\n",
    "model.add(Dense(128,activation= \"relu\", input_dim=29))\n",
    "model.add(Dropout(0.25))\n",
    "model.add(BatchNormalization())\n",
    "model.add(Dense(128,activation=\"relu\"))\n",
    "model.add(Dropout(0.25))\n",
    "model.add(BatchNormalization())\n",
    "model.add(Dense(1,activation = \"sigmoid\"))\n",
    "model.compile(optimizer = \"adam\",loss=\"binarry_crossentropy\",metrics=[\"accuracy\"])\n",
    "model.fit(x,y,epochs=20,batch_size=32,validation_split=0.25)\n"
   ]
  },
  {
   "cell_type": "code",
   "execution_count": null,
   "id": "IJoXtDhYp0Sb",
   "metadata": {
    "id": "IJoXtDhYp0Sb"
   },
   "outputs": [],
   "source": []
  },
  {
   "cell_type": "code",
   "execution_count": null,
   "id": "HJ0RJcp4m94j",
   "metadata": {
    "id": "HJ0RJcp4m94j"
   },
   "outputs": [],
   "source": []
  }
 ],
 "metadata": {
  "accelerator": "GPU",
  "colab": {
   "gpuType": "T4",
   "provenance": []
  },
  "kernelspec": {
   "display_name": "Python 3 (ipykernel)",
   "language": "python",
   "name": "python3"
  },
  "language_info": {
   "codemirror_mode": {
    "name": "ipython",
    "version": 3
   },
   "file_extension": ".py",
   "mimetype": "text/x-python",
   "name": "python",
   "nbconvert_exporter": "python",
   "pygments_lexer": "ipython3",
   "version": "3.9.13"
  }
 },
 "nbformat": 4,
 "nbformat_minor": 5
}
